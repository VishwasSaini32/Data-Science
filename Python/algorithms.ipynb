{
 "cells": [
  {
   "cell_type": "markdown",
   "execution_count": null,
   "metadata": {
    "papermill": {
     "duration": 0.012009,
     "end_time": "2020-08-16T13:46:35.853340",
     "exception": false,
     "start_time": "2020-08-16T13:46:35.841331",
     "status": "completed"
    },
    "tags": []
   },
   "source": [
    "# Why Analyze Algorithm?\n",
    "* Procedure or formula for solving a problem\n",
    "* Some are so useful they have names:<br>merge sort, bubble sort etc...\n",
    "* How can we compare the algos to know which is better"
   ]
  },
  {
   "cell_type": "code",
   "execution_count": 1,
   "metadata": {
    "_cell_guid": "b1076dfc-b9ad-4769-8c92-a6c4dae69d19",
    "_uuid": "8f2839f25d086af736a60e9eeb907d3b93b6e0e5",
    "execution": {
     "iopub.execute_input": "2020-08-16T13:46:35.882866Z",
     "iopub.status.busy": "2020-08-16T13:46:35.881760Z",
     "iopub.status.idle": "2020-08-16T13:46:35.885411Z",
     "shell.execute_reply": "2020-08-16T13:46:35.884743Z"
    },
    "papermill": {
     "duration": 0.021342,
     "end_time": "2020-08-16T13:46:35.885558",
     "exception": false,
     "start_time": "2020-08-16T13:46:35.864216",
     "status": "completed"
    },
    "tags": []
   },
   "outputs": [],
   "source": [
    "# Imagine I come up with a function...\n",
    "\n",
    "def sum1(n):\n",
    "    '''\n",
    "    Take an input of n and return the sum of th numbers from 0 to n\n",
    "    '''\n",
    "    final_sum = 0\n",
    "    for x in range(n+1):\n",
    "        final_sum += x\n",
    "    \n",
    "    return final_sum "
   ]
  },
  {
   "cell_type": "code",
   "execution_count": 2,
   "metadata": {
    "_cell_guid": "79c7e3d0-c299-4dcb-8224-4455121ee9b0",
    "_uuid": "d629ff2d2480ee46fbb7e2d37f6b5fab8052498a",
    "execution": {
     "iopub.execute_input": "2020-08-16T13:46:35.915958Z",
     "iopub.status.busy": "2020-08-16T13:46:35.915119Z",
     "iopub.status.idle": "2020-08-16T13:46:35.919519Z",
     "shell.execute_reply": "2020-08-16T13:46:35.918793Z"
    },
    "papermill": {
     "duration": 0.023564,
     "end_time": "2020-08-16T13:46:35.919641",
     "exception": false,
     "start_time": "2020-08-16T13:46:35.896077",
     "status": "completed"
    },
    "tags": []
   },
   "outputs": [
    {
     "data": {
      "text/plain": [
       "15"
      ]
     },
     "execution_count": 2,
     "metadata": {},
     "output_type": "execute_result"
    }
   ],
   "source": [
    "sum1(5)"
   ]
  },
  {
   "cell_type": "code",
   "execution_count": 3,
   "metadata": {
    "execution": {
     "iopub.execute_input": "2020-08-16T13:46:35.947240Z",
     "iopub.status.busy": "2020-08-16T13:46:35.946454Z",
     "iopub.status.idle": "2020-08-16T13:46:35.949661Z",
     "shell.execute_reply": "2020-08-16T13:46:35.948958Z"
    },
    "papermill": {
     "duration": 0.019499,
     "end_time": "2020-08-16T13:46:35.949818",
     "exception": false,
     "start_time": "2020-08-16T13:46:35.930319",
     "status": "completed"
    },
    "tags": []
   },
   "outputs": [],
   "source": [
    "# And you came up with this function...\n",
    "\n",
    "def sum2(n):\n",
    "    '''\n",
    "    Take an input of n and rturn the sum of the numbers from 0 to n\n",
    "    '''\n",
    "    return (n*(n+1))/2"
   ]
  },
  {
   "cell_type": "markdown",
   "execution_count": null,
   "metadata": {
    "papermill": {
     "duration": 0.010503,
     "end_time": "2020-08-16T13:46:35.971252",
     "exception": false,
     "start_time": "2020-08-16T13:46:35.960749",
     "status": "completed"
    },
    "tags": []
   },
   "source": [
    "Function sum1 uses for loop to iteratively add across range 0 to n<br>\n",
    "Function sum2 uses formula to solve the problem"
   ]
  },
  {
   "cell_type": "markdown",
   "execution_count": null,
   "metadata": {
    "papermill": {
     "duration": 0.010455,
     "end_time": "2020-08-16T13:46:35.992324",
     "exception": false,
     "start_time": "2020-08-16T13:46:35.981869",
     "status": "completed"
    },
    "tags": []
   },
   "source": [
    "## Objectively Compare Them\n",
    "* memory space\n",
    "* time to run"
   ]
  },
  {
   "cell_type": "code",
   "execution_count": 4,
   "metadata": {
    "execution": {
     "iopub.execute_input": "2020-08-16T13:46:36.038470Z",
     "iopub.status.busy": "2020-08-16T13:46:36.033295Z",
     "iopub.status.idle": "2020-08-16T13:46:42.832352Z",
     "shell.execute_reply": "2020-08-16T13:46:42.832930Z"
    },
    "papermill": {
     "duration": 6.830176,
     "end_time": "2020-08-16T13:46:42.833107",
     "exception": false,
     "start_time": "2020-08-16T13:46:36.002931",
     "status": "completed"
    },
    "tags": []
   },
   "outputs": [
    {
     "name": "stdout",
     "output_type": "stream",
     "text": [
      "8.39 µs ± 69.5 ns per loop (mean ± std. dev. of 7 runs, 100000 loops each)\n"
     ]
    }
   ],
   "source": [
    "# built in magic commands in notebook\n",
    "%timeit sum1(100)\n",
    "# result in microseconds"
   ]
  },
  {
   "cell_type": "code",
   "execution_count": 5,
   "metadata": {
    "execution": {
     "iopub.execute_input": "2020-08-16T13:46:42.888970Z",
     "iopub.status.busy": "2020-08-16T13:46:42.868318Z",
     "iopub.status.idle": "2020-08-16T13:46:44.800992Z",
     "shell.execute_reply": "2020-08-16T13:46:44.800174Z"
    },
    "papermill": {
     "duration": 1.957337,
     "end_time": "2020-08-16T13:46:44.801131",
     "exception": false,
     "start_time": "2020-08-16T13:46:42.843794",
     "status": "completed"
    },
    "tags": []
   },
   "outputs": [
    {
     "name": "stdout",
     "output_type": "stream",
     "text": [
      "238 ns ± 2.44 ns per loop (mean ± std. dev. of 7 runs, 1000000 loops each)\n"
     ]
    }
   ],
   "source": [
    "%timeit sum2(100)\n",
    "# result in nanoseconds"
   ]
  },
  {
   "cell_type": "markdown",
   "execution_count": null,
   "metadata": {
    "papermill": {
     "duration": 0.010997,
     "end_time": "2020-08-16T13:46:44.823049",
     "exception": false,
     "start_time": "2020-08-16T13:46:44.812052",
     "status": "completed"
    },
    "tags": []
   },
   "source": [
    "MICRO = `10^-6`<br>\n",
    "NANO = `10^-9`\n",
    "\n",
    "Smaller number is obviously better\n",
    "\n",
    "* **Cannot simply rely on time to  run because all computers are different and some faster than others**\n",
    "* **To be hardware independent = Big O**"
   ]
  },
  {
   "cell_type": "markdown",
   "execution_count": null,
   "metadata": {
    "papermill": {
     "duration": 0.010979,
     "end_time": "2020-08-16T13:46:44.845175",
     "exception": false,
     "start_time": "2020-08-16T13:46:44.834196",
     "status": "completed"
    },
    "tags": []
   },
   "source": [
    "# Big O\n",
    "objectively compare th efficinty of these two algorithm\n",
    "* compare the number of assignments each algorithm makes\n",
    "The original `sum1` function will create an assignment `n+1` times, we can see this from the range based function. This means it will assign the `final_sum` variable n+1 times, We can say that for a problem of n size (in this case just a number n) this function will take `1+n` steps\n",
    "\n",
    "This `n` notation allows us to compare solutions and algorithm relative to the size of the problem, since `sum1(10)` and `sum1(1000000)` would take very different times to run but be using the same algorithm. We can note that as n grows very large, the +1 won't have much effect. So let's begin discussing how to build a syntax for this notation.\n",
    "\n",
    "Big-O notation dscribes **how quickly runtime will gro relative to the input as the input get arbitrarily large**"
   ]
  },
  {
   "cell_type": "markdown",
   "execution_count": null,
   "metadata": {
    "papermill": {
     "duration": 0.010914,
     "end_time": "2020-08-16T13:46:44.867213",
     "exception": false,
     "start_time": "2020-08-16T13:46:44.856299",
     "status": "completed"
    },
    "tags": []
   },
   "source": [
    "## HOW WELL IT CAN SCALE as data increases?\n",
    "Remember, we want to **compare how quickly runtime will grow**, not compare exact runtime, since those can vary depending on hardware\n",
    "\n",
    "Since we want to compare for a variety of input sizesm we are only concerned with the runtime grow relative to the input. This is why we use `n` for notation.\n",
    "\n",
    "As `n` gets arbitrarily large we only worry ablut terms that grow the fastest as `n` gets large, to this point, Big-O analysis is also known as **asymptotic analysis**.\n",
    "\n",
    "In maths, asymptotic analysis = **describing limiting behavior**\n",
    "* which part of the algorithm has the GREATEST effect on the final answer, which part of algo is the real bottleneck, which part is the limiting factor.\n",
    "\n",
    "As of the syntax sum1() can be said to be O(n) since its runtime grows linearly with the input size\n"
   ]
  },
  {
   "cell_type": "code",
   "execution_count": 6,
   "metadata": {
    "execution": {
     "iopub.execute_input": "2020-08-16T13:46:44.895974Z",
     "iopub.status.busy": "2020-08-16T13:46:44.894923Z",
     "iopub.status.idle": "2020-08-16T13:46:44.898372Z",
     "shell.execute_reply": "2020-08-16T13:46:44.897763Z"
    },
    "papermill": {
     "duration": 0.019949,
     "end_time": "2020-08-16T13:46:44.898502",
     "exception": false,
     "start_time": "2020-08-16T13:46:44.878553",
     "status": "completed"
    },
    "tags": []
   },
   "outputs": [],
   "source": [
    "def Bigo(n):\n",
    "    return 45*n**3 + 20*n**2 + 19"
   ]
  },
  {
   "cell_type": "code",
   "execution_count": 7,
   "metadata": {
    "execution": {
     "iopub.execute_input": "2020-08-16T13:46:44.926722Z",
     "iopub.status.busy": "2020-08-16T13:46:44.925696Z",
     "iopub.status.idle": "2020-08-16T13:46:44.929927Z",
     "shell.execute_reply": "2020-08-16T13:46:44.929337Z"
    },
    "papermill": {
     "duration": 0.020683,
     "end_time": "2020-08-16T13:46:44.930058",
     "exception": false,
     "start_time": "2020-08-16T13:46:44.909375",
     "status": "completed"
    },
    "tags": []
   },
   "outputs": [
    {
     "data": {
      "text/plain": [
       "84"
      ]
     },
     "execution_count": 7,
     "metadata": {},
     "output_type": "execute_result"
    }
   ],
   "source": [
    "Bigo(1)"
   ]
  },
  {
   "cell_type": "code",
   "execution_count": 8,
   "metadata": {
    "execution": {
     "iopub.execute_input": "2020-08-16T13:46:44.958619Z",
     "iopub.status.busy": "2020-08-16T13:46:44.957597Z",
     "iopub.status.idle": "2020-08-16T13:46:44.962426Z",
     "shell.execute_reply": "2020-08-16T13:46:44.961636Z"
    },
    "papermill": {
     "duration": 0.021205,
     "end_time": "2020-08-16T13:46:44.962588",
     "exception": false,
     "start_time": "2020-08-16T13:46:44.941383",
     "status": "completed"
    },
    "tags": []
   },
   "outputs": [
    {
     "data": {
      "text/plain": [
       "459"
      ]
     },
     "execution_count": 8,
     "metadata": {},
     "output_type": "execute_result"
    }
   ],
   "source": [
    "Bigo(2)\n",
    "# starting to see that the 19 will not be a scaling or limiting factor"
   ]
  },
  {
   "cell_type": "code",
   "execution_count": 9,
   "metadata": {
    "execution": {
     "iopub.execute_input": "2020-08-16T13:46:44.991580Z",
     "iopub.status.busy": "2020-08-16T13:46:44.990550Z",
     "iopub.status.idle": "2020-08-16T13:46:44.995237Z",
     "shell.execute_reply": "2020-08-16T13:46:44.994611Z"
    },
    "papermill": {
     "duration": 0.021419,
     "end_time": "2020-08-16T13:46:44.995373",
     "exception": false,
     "start_time": "2020-08-16T13:46:44.973954",
     "status": "completed"
    },
    "tags": []
   },
   "outputs": [
    {
     "data": {
      "text/plain": [
       "47019"
      ]
     },
     "execution_count": 9,
     "metadata": {},
     "output_type": "execute_result"
    }
   ],
   "source": [
    "Bigo(10)"
   ]
  },
  {
   "cell_type": "markdown",
   "execution_count": null,
   "metadata": {
    "papermill": {
     "duration": 0.011039,
     "end_time": "2020-08-16T13:46:45.017925",
     "exception": false,
     "start_time": "2020-08-16T13:46:45.006886",
     "status": "completed"
    },
    "tags": []
   },
   "source": [
    "* It can be seen that the `19` doesn't hold much weight anymore\n",
    "* The `20n**2` in this case is *2000*\n",
    "* The `45n**3` in this case is *45,000*\n",
    "\n",
    "### The part of the algo that really has a lot to do with the final answer as data scales, will not be the 45 but the n3. So this algo has an order of O(n**3)"
   ]
  },
  {
   "cell_type": "markdown",
   "execution_count": null,
   "metadata": {
    "papermill": {
     "duration": 0.011042,
     "end_time": "2020-08-16T13:46:45.040490",
     "exception": false,
     "start_time": "2020-08-16T13:46:45.029448",
     "status": "completed"
    },
    "tags": []
   },
   "source": [
    "## Big-O complexity chart"
   ]
  },
  {
   "cell_type": "code",
   "execution_count": 10,
   "metadata": {
    "execution": {
     "iopub.execute_input": "2020-08-16T13:46:45.087530Z",
     "iopub.status.busy": "2020-08-16T13:46:45.086582Z",
     "iopub.status.idle": "2020-08-16T13:46:45.427190Z",
     "shell.execute_reply": "2020-08-16T13:46:45.427749Z"
    },
    "papermill": {
     "duration": 0.376034,
     "end_time": "2020-08-16T13:46:45.427930",
     "exception": false,
     "start_time": "2020-08-16T13:46:45.051896",
     "status": "completed"
    },
    "tags": []
   },
   "outputs": [
    {
     "data": {
      "text/plain": [
       "Text(0.5, 0, 'n')"
      ]
     },
     "execution_count": 10,
     "metadata": {},
     "output_type": "execute_result"
    },
    {
     "data": {
      "image/png": "[encoded data removed]",
      "text/plain": [
       "<Figure size 864x720 with 1 Axes>"
      ]
     },
     "metadata": {
      "needs_background": "light"
     },
     "output_type": "display_data"
    }
   ],
   "source": [
    "from math import log\n",
    "import numpy as np\n",
    "import matplotlib.pyplot as plt \n",
    "%matplotlib inline \n",
    "plt.style.use('bmh')\n",
    "\n",
    "# Set up runtime comparisons\n",
    "n = np.linspace(1, 10)\n",
    "labels = ['Constant', 'Logarthmic', 'Linear', 'Log Linear', 'Quadratic', 'Cubic', 'Exponential']\n",
    "big_o = [np.ones(n.shape), np.log(n), n, n*np.log(n), n**2, n**3, 2**n]\n",
    "\n",
    "# Plot\n",
    "plt.figure(figsize = (12,10))\n",
    "plt.ylim(0,50)\n",
    "\n",
    "for i in range(len(big_o)):\n",
    "    plt.plot(n, big_o[i], label = labels[i])\n",
    "    \n",
    "plt.legend(loc = 0)\n",
    "plt.ylabel('Relative Runtime')\n",
    "plt.xlabel('n')"
   ]
  },
  {
   "cell_type": "markdown",
   "execution_count": null,
   "metadata": {
    "papermill": {
     "duration": 0.012186,
     "end_time": "2020-08-16T13:46:45.452691",
     "exception": false,
     "start_time": "2020-08-16T13:46:45.440505",
     "status": "completed"
    },
    "tags": []
   },
   "source": [
    "Clearly we want to choose algorithm that stays away from any exponntial, quadratic, or cubic behavior!"
   ]
  },
  {
   "cell_type": "markdown",
   "execution_count": null,
   "metadata": {
    "papermill": {
     "duration": 0.01169,
     "end_time": "2020-08-16T13:46:45.476693",
     "exception": false,
     "start_time": "2020-08-16T13:46:45.465003",
     "status": "completed"
    },
    "tags": []
   },
   "source": [
    "## Big-O Examples"
   ]
  },
  {
   "cell_type": "markdown",
   "execution_count": null,
   "metadata": {
    "papermill": {
     "duration": 0.012177,
     "end_time": "2020-08-16T13:46:45.501483",
     "exception": false,
     "start_time": "2020-08-16T13:46:45.489306",
     "status": "completed"
    },
    "tags": []
   },
   "source": [
    "### O(1) Constant"
   ]
  },
  {
   "cell_type": "code",
   "execution_count": 11,
   "metadata": {
    "execution": {
     "iopub.execute_input": "2020-08-16T13:46:45.533826Z",
     "iopub.status.busy": "2020-08-16T13:46:45.532929Z",
     "iopub.status.idle": "2020-08-16T13:46:45.536430Z",
     "shell.execute_reply": "2020-08-16T13:46:45.537208Z"
    },
    "papermill": {
     "duration": 0.023238,
     "end_time": "2020-08-16T13:46:45.537420",
     "exception": false,
     "start_time": "2020-08-16T13:46:45.514182",
     "status": "completed"
    },
    "tags": []
   },
   "outputs": [
    {
     "name": "stdout",
     "output_type": "stream",
     "text": [
      "1\n"
     ]
    }
   ],
   "source": [
    "def func_constant(values):\n",
    "    '''\n",
    "    Prints first item in the list of values\n",
    "    '''\n",
    "    print (values[0])\n",
    "    \n",
    "func_constant([1,2,3])"
   ]
  },
  {
   "cell_type": "markdown",
   "execution_count": null,
   "metadata": {
    "papermill": {
     "duration": 0.012043,
     "end_time": "2020-08-16T13:46:45.563224",
     "exception": false,
     "start_time": "2020-08-16T13:46:45.551181",
     "status": "completed"
    },
    "tags": []
   },
   "source": [
    "It doesn't matter how large my values list becomes, the function/algo will only grab the indexed position `0` in that list"
   ]
  },
  {
   "cell_type": "markdown",
   "execution_count": null,
   "metadata": {
    "papermill": {
     "duration": 0.012249,
     "end_time": "2020-08-16T13:46:45.587797",
     "exception": false,
     "start_time": "2020-08-16T13:46:45.575548",
     "status": "completed"
    },
    "tags": []
   },
   "source": [
    "### O(n^2) Quadratic"
   ]
  },
  {
   "cell_type": "code",
   "execution_count": 12,
   "metadata": {
    "execution": {
     "iopub.execute_input": "2020-08-16T13:46:45.620187Z",
     "iopub.status.busy": "2020-08-16T13:46:45.619289Z",
     "iopub.status.idle": "2020-08-16T13:46:45.624961Z",
     "shell.execute_reply": "2020-08-16T13:46:45.623802Z"
    },
    "papermill": {
     "duration": 0.02498,
     "end_time": "2020-08-16T13:46:45.625185",
     "exception": false,
     "start_time": "2020-08-16T13:46:45.600205",
     "status": "completed"
    },
    "tags": []
   },
   "outputs": [
    {
     "name": "stdout",
     "output_type": "stream",
     "text": [
      "1 1\n",
      "1 2\n",
      "1 3\n",
      "2 1\n",
      "2 2\n",
      "2 3\n",
      "3 1\n",
      "3 2\n",
      "3 3\n"
     ]
    }
   ],
   "source": [
    "def func_quad(lst):\n",
    "    '''\n",
    "    Prints pairs for every item in list\n",
    "    '''\n",
    "    for item_1 in lst:\n",
    "        for item_2 in lst:\n",
    "            print(item_1, item_2)\n",
    "            \n",
    "lst = [1, 2, 3]\n",
    "\n",
    "func_quad(lst)"
   ]
  },
  {
   "cell_type": "markdown",
   "execution_count": null,
   "metadata": {
    "papermill": {
     "duration": 0.012469,
     "end_time": "2020-08-16T13:46:45.651129",
     "exception": false,
     "start_time": "2020-08-16T13:46:45.638660",
     "status": "completed"
    },
    "tags": []
   },
   "source": [
    "* two loops, one nested inside another\n",
    "* For a list of `n` items, we will have to perform `n` opreations for every item in the list! This means in total, we will perform `n` times `n` assignment, or `n^2`.So a list of `10` items have `100` operations. you can see how dengerous this can get for a large inputs! This is why Big-O is so important to be aware of!\n",
    "* hence, the input of `3` gives us `9` output iterations"
   ]
  },
  {
   "cell_type": "markdown",
   "execution_count": null,
   "metadata": {
    "papermill": {
     "duration": 0.012761,
     "end_time": "2020-08-16T13:46:45.677377",
     "exception": false,
     "start_time": "2020-08-16T13:46:45.664616",
     "status": "completed"
    },
    "tags": []
   },
   "source": [
    "## Calculating Scale of Big-O\n",
    "insignificant terms drop out of Big-O notation\n",
    "\n",
    "When it comes to Big-O notation we only care about the most significant terms, remember as the input grows larger only the fastest growing term will matter.\n",
    "* Like taking limit towards Infinity"
   ]
  },
  {
   "cell_type": "code",
   "execution_count": 13,
   "metadata": {
    "execution": {
     "iopub.execute_input": "2020-08-16T13:46:45.710171Z",
     "iopub.status.busy": "2020-08-16T13:46:45.709082Z",
     "iopub.status.idle": "2020-08-16T13:46:45.712823Z",
     "shell.execute_reply": "2020-08-16T13:46:45.713435Z"
    },
    "papermill": {
     "duration": 0.023424,
     "end_time": "2020-08-16T13:46:45.713600",
     "exception": false,
     "start_time": "2020-08-16T13:46:45.690176",
     "status": "completed"
    },
    "tags": []
   },
   "outputs": [
    {
     "name": "stdout",
     "output_type": "stream",
     "text": [
      "1\n",
      "2\n",
      "3\n"
     ]
    }
   ],
   "source": [
    "def print_1(lst):\n",
    "    '''\n",
    "    Prints all items once\n",
    "    '''\n",
    "    for val in lst:\n",
    "        print(val)\n",
    "        \n",
    "print_1(lst)\n",
    "\n",
    "# can you see how this growth is linear to the input?\n",
    "# O(n)"
   ]
  },
  {
   "cell_type": "code",
   "execution_count": 14,
   "metadata": {
    "execution": {
     "iopub.execute_input": "2020-08-16T13:46:45.747479Z",
     "iopub.status.busy": "2020-08-16T13:46:45.746618Z",
     "iopub.status.idle": "2020-08-16T13:46:45.752154Z",
     "shell.execute_reply": "2020-08-16T13:46:45.751313Z"
    },
    "papermill": {
     "duration": 0.025571,
     "end_time": "2020-08-16T13:46:45.752299",
     "exception": false,
     "start_time": "2020-08-16T13:46:45.726728",
     "status": "completed"
    },
    "tags": []
   },
   "outputs": [
    {
     "name": "stdout",
     "output_type": "stream",
     "text": [
      "1\n",
      "2\n",
      "3\n",
      "1\n",
      "2\n",
      "3\n",
      "1\n",
      "2\n",
      "3\n"
     ]
    }
   ],
   "source": [
    " def print_3(lst):\n",
    "        '''\n",
    "        Print all items three times\n",
    "        '''\n",
    "        for val in lst:\n",
    "            print(val)\n",
    "            \n",
    "        for val in lst:\n",
    "            print(val)\n",
    "            \n",
    "        for val in lst:\n",
    "            print(val)\n",
    "\n",
    "print_3(lst)"
   ]
  },
  {
   "cell_type": "markdown",
   "execution_count": null,
   "metadata": {
    "papermill": {
     "duration": 0.013006,
     "end_time": "2020-08-16T13:46:45.778481",
     "exception": false,
     "start_time": "2020-08-16T13:46:45.765475",
     "status": "completed"
    },
    "tags": []
   },
   "source": [
    "This algo will run `3` times for each `n`, so this becomes an order of `3(n)`. It is still linear.<br>More importantly, `1(infinity)` is not really differnt than `(infinity)` and We can drop insignificant constants.\n",
    "\n",
    "So this too is `O(n)`"
   ]
  },
  {
   "cell_type": "code",
   "execution_count": 15,
   "metadata": {
    "execution": {
     "iopub.execute_input": "2020-08-16T13:46:45.812702Z",
     "iopub.status.busy": "2020-08-16T13:46:45.811778Z",
     "iopub.status.idle": "2020-08-16T13:46:45.815095Z",
     "shell.execute_reply": "2020-08-16T13:46:45.814422Z"
    },
    "papermill": {
     "duration": 0.023576,
     "end_time": "2020-08-16T13:46:45.815221",
     "exception": false,
     "start_time": "2020-08-16T13:46:45.791645",
     "status": "completed"
    },
    "tags": []
   },
   "outputs": [],
   "source": [
    "def comp(lst):\n",
    "    '''\n",
    "    This function prints the first item O(1) it is a constant\n",
    "    Then it prints the first 1/2 of the list O(n/2)\n",
    "    Then prints a string 10 times O(10) ti is a constant\n",
    "    '''\n",
    "    print(lst[0])\n",
    "    \n",
    "    midpoint = len(lst)//2\n",
    "    \n",
    "    for val in lst[:midpoint]:\n",
    "        print(val)\n",
    "        \n",
    "    for x in range(10):\n",
    "        print('number')"
   ]
  },
  {
   "cell_type": "code",
   "execution_count": 16,
   "metadata": {
    "execution": {
     "iopub.execute_input": "2020-08-16T13:46:45.848564Z",
     "iopub.status.busy": "2020-08-16T13:46:45.847495Z",
     "iopub.status.idle": "2020-08-16T13:46:45.852633Z",
     "shell.execute_reply": "2020-08-16T13:46:45.851752Z"
    },
    "papermill": {
     "duration": 0.024423,
     "end_time": "2020-08-16T13:46:45.852819",
     "exception": false,
     "start_time": "2020-08-16T13:46:45.828396",
     "status": "completed"
    },
    "tags": []
   },
   "outputs": [
    {
     "name": "stdout",
     "output_type": "stream",
     "text": [
      "1\n",
      "1\n",
      "2\n",
      "3\n",
      "4\n",
      "5\n",
      "number\n",
      "number\n",
      "number\n",
      "number\n",
      "number\n",
      "number\n",
      "number\n",
      "number\n",
      "number\n",
      "number\n"
     ]
    }
   ],
   "source": [
    "lst = [1,2,3,4,5,6,7,8,9,10]\n",
    "comp(lst)"
   ]
  },
  {
   "cell_type": "markdown",
   "execution_count": null,
   "metadata": {
    "papermill": {
     "duration": 0.013329,
     "end_time": "2020-08-16T13:46:45.879381",
     "exception": false,
     "start_time": "2020-08-16T13:46:45.866052",
     "status": "completed"
    },
    "tags": []
   },
   "source": [
    "### O(1 + n/2 + 10)\n",
    "As `n` gets larger and larger (scales up) you can see rasily how the `1` and the `10` quickly begin to mean nothing.<br>\n",
    "And the `//2` will begin to hav no effect either<br>\n",
    "End up with `O(n)`"
   ]
  },
  {
   "cell_type": "markdown",
   "execution_count": null,
   "metadata": {
    "papermill": {
     "duration": 0.012737,
     "end_time": "2020-08-16T13:46:45.905269",
     "exception": false,
     "start_time": "2020-08-16T13:46:45.892532",
     "status": "completed"
    },
    "tags": []
   },
   "source": [
    "## Worst Case vs Best Case\n",
    "Many times we are only concerned with the worst possible case of the algorithm, but in an interview setting its is important to keep in mind that worst case and best caes scenarios may be completely different Big-O times"
   ]
  },
  {
   "cell_type": "code",
   "execution_count": 17,
   "metadata": {
    "execution": {
     "iopub.execute_input": "2020-08-16T13:46:45.938483Z",
     "iopub.status.busy": "2020-08-16T13:46:45.937420Z",
     "iopub.status.idle": "2020-08-16T13:46:45.940604Z",
     "shell.execute_reply": "2020-08-16T13:46:45.939955Z"
    },
    "papermill": {
     "duration": 0.022261,
     "end_time": "2020-08-16T13:46:45.940736",
     "exception": false,
     "start_time": "2020-08-16T13:46:45.918475",
     "status": "completed"
    },
    "tags": []
   },
   "outputs": [],
   "source": [
    "def matcher(lst, match):\n",
    "    '''\n",
    "    Given a list lst, return a boolean indicating if match item is in the list\n",
    "    '''\n",
    "    for item in lst:\n",
    "        if item == match:\n",
    "            return True\n",
    "    return False"
   ]
  },
  {
   "cell_type": "code",
   "execution_count": 18,
   "metadata": {
    "execution": {
     "iopub.execute_input": "2020-08-16T13:46:45.975267Z",
     "iopub.status.busy": "2020-08-16T13:46:45.974351Z",
     "iopub.status.idle": "2020-08-16T13:46:45.978689Z",
     "shell.execute_reply": "2020-08-16T13:46:45.978052Z"
    },
    "papermill": {
     "duration": 0.024797,
     "end_time": "2020-08-16T13:46:45.978873",
     "exception": false,
     "start_time": "2020-08-16T13:46:45.954076",
     "status": "completed"
    },
    "tags": []
   },
   "outputs": [
    {
     "data": {
      "text/plain": [
       "[1, 2, 3, 4, 5, 6, 7, 8, 9, 10]"
      ]
     },
     "execution_count": 18,
     "metadata": {},
     "output_type": "execute_result"
    }
   ],
   "source": [
    "lst"
   ]
  },
  {
   "cell_type": "code",
   "execution_count": 19,
   "metadata": {
    "execution": {
     "iopub.execute_input": "2020-08-16T13:46:46.013726Z",
     "iopub.status.busy": "2020-08-16T13:46:46.012803Z",
     "iopub.status.idle": "2020-08-16T13:46:46.018664Z",
     "shell.execute_reply": "2020-08-16T13:46:46.018014Z"
    },
    "papermill": {
     "duration": 0.02663,
     "end_time": "2020-08-16T13:46:46.018795",
     "exception": false,
     "start_time": "2020-08-16T13:46:45.992165",
     "status": "completed"
    },
    "tags": []
   },
   "outputs": [
    {
     "data": {
      "text/plain": [
       "True"
      ]
     },
     "execution_count": 19,
     "metadata": {},
     "output_type": "execute_result"
    }
   ],
   "source": [
    "matcher(lst, 1) # this is best case because item seeked is index 0, O(1) Best case becoms a constant"
   ]
  },
  {
   "cell_type": "code",
   "execution_count": 20,
   "metadata": {
    "execution": {
     "iopub.execute_input": "2020-08-16T13:46:46.052677Z",
     "iopub.status.busy": "2020-08-16T13:46:46.051761Z",
     "iopub.status.idle": "2020-08-16T13:46:46.056466Z",
     "shell.execute_reply": "2020-08-16T13:46:46.055790Z"
    },
    "papermill": {
     "duration": 0.023936,
     "end_time": "2020-08-16T13:46:46.056595",
     "exception": false,
     "start_time": "2020-08-16T13:46:46.032659",
     "status": "completed"
    },
    "tags": []
   },
   "outputs": [
    {
     "data": {
      "text/plain": [
       "False"
      ]
     },
     "execution_count": 20,
     "metadata": {},
     "output_type": "execute_result"
    }
   ],
   "source": [
    "matcher(lst, 20) # worst case, entire list must be searched, n element, O(n) Worst case becomes linear"
   ]
  },
  {
   "cell_type": "markdown",
   "execution_count": null,
   "metadata": {
    "papermill": {
     "duration": 0.013503,
     "end_time": "2020-08-16T13:46:46.084146",
     "exception": false,
     "start_time": "2020-08-16T13:46:46.070643",
     "status": "completed"
    },
    "tags": []
   },
   "source": [
    "## Space Complexity\n",
    "Also concerned with how much memory/space an algorithm uses. The notation of space complexity is the same, but instead of checking the time of operations, we check the size of the allocation of memory"
   ]
  },
  {
   "cell_type": "code",
   "execution_count": 21,
   "metadata": {
    "execution": {
     "iopub.execute_input": "2020-08-16T13:46:46.121064Z",
     "iopub.status.busy": "2020-08-16T13:46:46.120092Z",
     "iopub.status.idle": "2020-08-16T13:46:46.123686Z",
     "shell.execute_reply": "2020-08-16T13:46:46.124575Z"
    },
    "papermill": {
     "duration": 0.026328,
     "end_time": "2020-08-16T13:46:46.124777",
     "exception": false,
     "start_time": "2020-08-16T13:46:46.098449",
     "status": "completed"
    },
    "tags": []
   },
   "outputs": [
    {
     "name": "stdout",
     "output_type": "stream",
     "text": [
      "Memory!\n",
      "Memory!\n",
      "Memory!\n",
      "Memory!\n",
      "Memory!\n",
      "Memory!\n",
      "Memory!\n",
      "Memory!\n",
      "Memory!\n",
      "Memory!\n"
     ]
    }
   ],
   "source": [
    "def memory(n = 10):\n",
    "    '''\n",
    "    Prints \"Memory!\" n times\n",
    "    '''\n",
    "    for x in range(n): # TIME COMPLEXITY O(n)\n",
    "        print('Memory!') # SPACE COMPLEXITY O(1)\n",
    "\n",
    "memory(10)"
   ]
  },
  {
   "cell_type": "markdown",
   "execution_count": null,
   "metadata": {
    "papermill": {
     "duration": 0.013989,
     "end_time": "2020-08-16T13:46:46.152801",
     "exception": false,
     "start_time": "2020-08-16T13:46:46.138812",
     "status": "completed"
    },
    "tags": []
   },
   "source": [
    "`O(n)` for time complexity but what about space complexity<br>\n",
    "In memory it doesn't need to store `10` Versions of \"Memory!\". It only need to store one string. `O(1)`"
   ]
  },
  {
   "cell_type": "code",
   "execution_count": null,
   "metadata": {
    "papermill": {
     "duration": 0.013754,
     "end_time": "2020-08-16T13:46:46.180528",
     "exception": false,
     "start_time": "2020-08-16T13:46:46.166774",
     "status": "completed"
    },
    "tags": []
   },
   "outputs": [],
   "source": []
  }
 ],
 "metadata": {
  "kernelspec": {
   "display_name": "Python 3",
   "language": "python",
   "name": "python3"
  },
  "language_info": {
   "codemirror_mode": {
    "name": "ipython",
    "version": 3
   },
   "file_extension": ".py",
   "mimetype": "text/x-python",
   "name": "python",
   "nbconvert_exporter": "python",
   "pygments_lexer": "ipython3",
   "version": "3.7.6"
  },
  "papermill": {
   "duration": 15.638781,
   "end_time": "2020-08-16T13:46:46.302899",
   "environment_variables": {},
   "exception": null,
   "input_path": "__notebook__.ipynb",
   "output_path": "__notebook__.ipynb",
   "parameters": {},
   "start_time": "2020-08-16T13:46:30.664118",
   "version": "2.1.0"
  }
 },
 "nbformat": 4,
 "nbformat_minor": 4
}
