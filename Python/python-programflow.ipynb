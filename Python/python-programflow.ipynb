{
 "cells": [
  {
   "cell_type": "markdown",
   "execution_count": null,
   "metadata": {
    "papermill": {
     "duration": 0.026469,
     "end_time": "2020-08-19T20:24:05.593760",
     "exception": false,
     "start_time": "2020-08-19T20:24:05.567291",
     "status": "completed"
    },
    "tags": []
   },
   "source": [
    "# <a id='PF'>Program Flow in Python</a>\n",
    "  <div>\n",
    "    <img src=\"https://image.flaticon.com/icons/svg/762/762620.svg\" width=\"250\"/>\n",
    "  </div>"
   ]
  },
  {
   "cell_type": "markdown",
   "execution_count": null,
   "metadata": {
    "papermill": {
     "duration": 0.021143,
     "end_time": "2020-08-19T20:24:05.637003",
     "exception": false,
     "start_time": "2020-08-19T20:24:05.615860",
     "status": "completed"
    },
    "tags": []
   },
   "source": [
    "## <a id='main'>Table of Contents</a>\n",
    "- [What is a computer Program](#def)\n",
    "- [Functions](#F)\n",
    "    * [Why Functions?](#WF)\n",
    "    * [Syntax](#S)\n",
    "- [Conditional & Logic](#C&L)\n",
    "- [Iteration](#I)\n",
    "    * [Aside (Recursion)](#AR)\n",
    "- [Puting it all together](#PIAT)\n",
    "- [More about Functions](#MAF)\n",
    "- [Some topics we haven't discussed, but have used](#last)"
   ]
  },
  {
   "cell_type": "markdown",
   "execution_count": null,
   "metadata": {
    "papermill": {
     "duration": 0.021202,
     "end_time": "2020-08-19T20:24:05.679996",
     "exception": false,
     "start_time": "2020-08-19T20:24:05.658794",
     "status": "completed"
    },
    "tags": []
   },
   "source": [
    "# <a id='def'>What is a computer Program</a>\n",
    "[Go back to the main page](#main)\n",
    "<p>\n",
    "    At its simplest a program is a list of instructions that a computer carries out in order. A program could be long and complicated, but it is built of simple parts. Let's look at some simple operations in python, and think about what the computer does for each one.\n",
    "    </p>"
   ]
  },
  {
   "cell_type": "code",
   "execution_count": 1,
   "metadata": {
    "execution": {
     "iopub.execute_input": "2020-08-19T20:24:05.731554Z",
     "iopub.status.busy": "2020-08-19T20:24:05.730595Z",
     "iopub.status.idle": "2020-08-19T20:24:05.734930Z",
     "shell.execute_reply": "2020-08-19T20:24:05.735480Z"
    },
    "papermill": {
     "duration": 0.033942,
     "end_time": "2020-08-19T20:24:05.735685",
     "exception": false,
     "start_time": "2020-08-19T20:24:05.701743",
     "status": "completed"
    },
    "tags": []
   },
   "outputs": [
    {
     "data": {
      "text/plain": [
       "2"
      ]
     },
     "execution_count": 1,
     "metadata": {},
     "output_type": "execute_result"
    }
   ],
   "source": [
    "1 + 1"
   ]
  },
  {
   "cell_type": "code",
   "execution_count": 2,
   "metadata": {
    "execution": {
     "iopub.execute_input": "2020-08-19T20:24:05.786104Z",
     "iopub.status.busy": "2020-08-19T20:24:05.785071Z",
     "iopub.status.idle": "2020-08-19T20:24:05.790188Z",
     "shell.execute_reply": "2020-08-19T20:24:05.789444Z"
    },
    "papermill": {
     "duration": 0.032474,
     "end_time": "2020-08-19T20:24:05.790313",
     "exception": false,
     "start_time": "2020-08-19T20:24:05.757839",
     "status": "completed"
    },
    "tags": []
   },
   "outputs": [
    {
     "data": {
      "text/plain": [
       "8.8"
      ]
     },
     "execution_count": 2,
     "metadata": {},
     "output_type": "execute_result"
    }
   ],
   "source": [
    "2 * 4.4"
   ]
  },
  {
   "cell_type": "code",
   "execution_count": 3,
   "metadata": {
    "execution": {
     "iopub.execute_input": "2020-08-19T20:24:05.840522Z",
     "iopub.status.busy": "2020-08-19T20:24:05.839658Z",
     "iopub.status.idle": "2020-08-19T20:24:05.844785Z",
     "shell.execute_reply": "2020-08-19T20:24:05.844182Z"
    },
    "papermill": {
     "duration": 0.032613,
     "end_time": "2020-08-19T20:24:05.844923",
     "exception": false,
     "start_time": "2020-08-19T20:24:05.812310",
     "status": "completed"
    },
    "tags": []
   },
   "outputs": [
    {
     "data": {
      "text/plain": [
       "8.8"
      ]
     },
     "execution_count": 3,
     "metadata": {},
     "output_type": "execute_result"
    }
   ],
   "source": [
    "1 + 1\n",
    "2 * 4.4"
   ]
  },
  {
   "cell_type": "markdown",
   "execution_count": null,
   "metadata": {
    "papermill": {
     "duration": 0.021982,
     "end_time": "2020-08-19T20:24:05.889853",
     "exception": false,
     "start_time": "2020-08-19T20:24:05.867871",
     "status": "completed"
    },
    "tags": []
   },
   "source": [
    "In the first cell we compute `1 + 1`, and Python returns the results `2`. We can think of this as a very sort program. Similarly, in the second cell we compute `2 * 4.4`, and Python returns the results `8.8`.<br>\n",
    "\n",
    "However, In the third cell, when we combine these to statements as squential lines, we only see Python return `8.8`.<br>\n",
    "\n",
    "This is because, Python can only return one result at the end of the cell, so the first line is evaluated, but we never se the result. One way can report intermdiate results is using `print`."
   ]
  },
  {
   "cell_type": "code",
   "execution_count": 4,
   "metadata": {
    "execution": {
     "iopub.execute_input": "2020-08-19T20:24:05.941470Z",
     "iopub.status.busy": "2020-08-19T20:24:05.940428Z",
     "iopub.status.idle": "2020-08-19T20:24:05.944876Z",
     "shell.execute_reply": "2020-08-19T20:24:05.945399Z"
    },
    "papermill": {
     "duration": 0.033214,
     "end_time": "2020-08-19T20:24:05.945561",
     "exception": false,
     "start_time": "2020-08-19T20:24:05.912347",
     "status": "completed"
    },
    "tags": []
   },
   "outputs": [
    {
     "name": "stdout",
     "output_type": "stream",
     "text": [
      "2\n",
      "8.8\n"
     ]
    }
   ],
   "source": [
    "print(1 + 1)\n",
    "print(2 * 4.4)"
   ]
  },
  {
   "cell_type": "markdown",
   "execution_count": null,
   "metadata": {
    "papermill": {
     "duration": 0.022023,
     "end_time": "2020-08-19T20:24:05.990046",
     "exception": false,
     "start_time": "2020-08-19T20:24:05.968023",
     "status": "completed"
    },
    "tags": []
   },
   "source": [
    "we can also includes **comments** in our lines of code which computer will not execute.These lines can be used to add notes and explanations for the code. We use `#` to start a comment in our code. "
   ]
  },
  {
   "cell_type": "code",
   "execution_count": 5,
   "metadata": {
    "execution": {
     "iopub.execute_input": "2020-08-19T20:24:06.041247Z",
     "iopub.status.busy": "2020-08-19T20:24:06.040361Z",
     "iopub.status.idle": "2020-08-19T20:24:06.044873Z",
     "shell.execute_reply": "2020-08-19T20:24:06.044224Z"
    },
    "papermill": {
     "duration": 0.032471,
     "end_time": "2020-08-19T20:24:06.045002",
     "exception": false,
     "start_time": "2020-08-19T20:24:06.012531",
     "status": "completed"
    },
    "tags": []
   },
   "outputs": [
    {
     "name": "stdout",
     "output_type": "stream",
     "text": [
      "1 + 1 is 2\n",
      "2 * 4.4 is 8.8\n",
      "completed\n"
     ]
    }
   ],
   "source": [
    "# this is a comment and it will not be executed\n",
    "# print 1 + 1\n",
    "print(f\"1 + 1 is {1+1}\")\n",
    "# print 2 * 4.4\n",
    "print(f\"2 * 4.4 is {2*4.4}\")\n",
    "# print 'completed'\n",
    "print('completed')"
   ]
  },
  {
   "cell_type": "markdown",
   "execution_count": null,
   "metadata": {
    "papermill": {
     "duration": 0.022604,
     "end_time": "2020-08-19T20:24:06.090217",
     "exception": false,
     "start_time": "2020-08-19T20:24:06.067613",
     "status": "completed"
    },
    "tags": []
   },
   "source": [
    "While writing a code often we not only want to print intermediate results, but *store* them for future use in the code. We can store a result in computer's memory by assigning it to a **variable**."
   ]
  },
  {
   "cell_type": "code",
   "execution_count": 6,
   "metadata": {
    "execution": {
     "iopub.execute_input": "2020-08-19T20:24:06.142367Z",
     "iopub.status.busy": "2020-08-19T20:24:06.141362Z",
     "iopub.status.idle": "2020-08-19T20:24:06.145068Z",
     "shell.execute_reply": "2020-08-19T20:24:06.145866Z"
    },
    "papermill": {
     "duration": 0.032938,
     "end_time": "2020-08-19T20:24:06.146074",
     "exception": false,
     "start_time": "2020-08-19T20:24:06.113136",
     "status": "completed"
    },
    "tags": []
   },
   "outputs": [
    {
     "name": "stdout",
     "output_type": "stream",
     "text": [
      "8.8\n"
     ]
    }
   ],
   "source": [
    "first = 1 + 1\n",
    "final = first * 4.4\n",
    "\n",
    "print(final)"
   ]
  },
  {
   "cell_type": "markdown",
   "execution_count": null,
   "metadata": {
    "papermill": {
     "duration": 0.023289,
     "end_time": "2020-08-19T20:24:06.193361",
     "exception": false,
     "start_time": "2020-08-19T20:24:06.170072",
     "status": "completed"
    },
    "tags": []
   },
   "source": [
    "Here we are able to use the result of the first calculation (stored in `first`) in our second calculation. We store second calculation in `final`, which ww print in third expression at the end of the cell.<br>\n",
    "\n",
    "Variables help us to keep track of the information we need to successfully excute a program. Variables can be used to store a variety of information."
   ]
  },
  {
   "cell_type": "code",
   "execution_count": 7,
   "metadata": {
    "execution": {
     "iopub.execute_input": "2020-08-19T20:24:06.247260Z",
     "iopub.status.busy": "2020-08-19T20:24:06.246266Z",
     "iopub.status.idle": "2020-08-19T20:24:06.249935Z",
     "shell.execute_reply": "2020-08-19T20:24:06.250716Z"
    },
    "papermill": {
     "duration": 0.034565,
     "end_time": "2020-08-19T20:24:06.250921",
     "exception": false,
     "start_time": "2020-08-19T20:24:06.216356",
     "status": "completed"
    },
    "tags": []
   },
   "outputs": [
    {
     "name": "stdout",
     "output_type": "stream",
     "text": [
      "My name is Vishwas\n",
      "My age is 22\n",
      "My favourite number is 34\n",
      "Do I have a Pet: False\n"
     ]
    }
   ],
   "source": [
    "my_name = 'Vishwas'\n",
    "my_age = 22\n",
    "my_favourite_number = 34\n",
    "has_pet = False\n",
    "\n",
    "print(f\"My name is {my_name}\")\n",
    "print(f\"My age is {my_age}\")\n",
    "print(f\"My favourite number is {my_favourite_number}\")\n",
    "print(f\"Do I have a Pet: {has_pet}\")"
   ]
  },
  {
   "cell_type": "markdown",
   "execution_count": null,
   "metadata": {
    "papermill": {
     "duration": 0.022648,
     "end_time": "2020-08-19T20:24:06.296920",
     "exception": false,
     "start_time": "2020-08-19T20:24:06.274272",
     "status": "completed"
    },
    "tags": []
   },
   "source": [
    "Since variables are used to store information, it's good idea to give them discriptive names. This increase code readibility, which helps in fixing mistakes, or colloboration ith others"
   ]
  },
  {
   "cell_type": "code",
   "execution_count": 8,
   "metadata": {
    "execution": {
     "iopub.execute_input": "2020-08-19T20:24:06.357985Z",
     "iopub.status.busy": "2020-08-19T20:24:06.357006Z",
     "iopub.status.idle": "2020-08-19T20:24:06.362267Z",
     "shell.execute_reply": "2020-08-19T20:24:06.361666Z"
    },
    "papermill": {
     "duration": 0.042126,
     "end_time": "2020-08-19T20:24:06.362408",
     "exception": false,
     "start_time": "2020-08-19T20:24:06.320282",
     "status": "completed"
    },
    "tags": []
   },
   "outputs": [
    {
     "name": "stdout",
     "output_type": "stream",
     "text": [
      "<class 'str'>\n",
      "<class 'int'>\n",
      "<class 'int'>\n",
      "<class 'bool'>\n"
     ]
    }
   ],
   "source": [
    "print(type(my_name))\n",
    "print(type(my_age))\n",
    "print(type(my_favourite_number))\n",
    "print(type(has_pet))"
   ]
  },
  {
   "cell_type": "markdown",
   "execution_count": null,
   "metadata": {
    "papermill": {
     "duration": 0.023087,
     "end_time": "2020-08-19T20:24:06.409086",
     "exception": false,
     "start_time": "2020-08-19T20:24:06.385999",
     "status": "completed"
    },
    "tags": []
   },
   "source": [
    "* A **String** is a sequence of characters.\n",
    "* An **integer** is same as mathematics (i.e. \"negative & positive whole numbers\"\n",
    "* A **float** or **floating point number** are the decimal numbers (i.e. \"real numbers\" in mathematics). It is called float because the decimal point is alloed to \"float\" through the digits, allowing us to rpresent both big numbers (eg. 112334.112) and small numbers (eg. 0.000045).\n",
    "* A **bool** or **boolean** refers to a variable that is either True or False.\n",
    "\n",
    "These are some of the few data we will encounter whiach are mainly used during programing.\n",
    "\n",
    "In Python, we can assign any type of data to a variable without declaring what type the variable will be in advance. "
   ]
  },
  {
   "cell_type": "markdown",
   "execution_count": null,
   "metadata": {
    "papermill": {
     "duration": 0.022645,
     "end_time": "2020-08-19T20:24:06.455138",
     "exception": false,
     "start_time": "2020-08-19T20:24:06.432493",
     "status": "completed"
    },
    "tags": []
   },
   "source": [
    "# <a id='F'>Functions</a>\n",
    "[Go back to the main page](#main)"
   ]
  },
  {
   "cell_type": "markdown",
   "execution_count": null,
   "metadata": {
    "papermill": {
     "duration": 0.022815,
     "end_time": "2020-08-19T20:24:06.501090",
     "exception": false,
     "start_time": "2020-08-19T20:24:06.478275",
     "status": "completed"
    },
    "tags": []
   },
   "source": [
    "\n",
    "Here is a mathematical function defined by \n",
    "$$ f(x) = 3x - 5 $$\n",
    "we give function an input and gets an output\n",
    "$$ f(6)-> 13 $$\n",
    "if we have a variable \n",
    "$$ y = 3 $$\n",
    "and we evaluate function on y we get same result \n",
    "$$ f(y)-> 4 $$"
   ]
  },
  {
   "cell_type": "markdown",
   "execution_count": null,
   "metadata": {
    "papermill": {
     "duration": 0.022942,
     "end_time": "2020-08-19T20:24:06.547231",
     "exception": false,
     "start_time": "2020-08-19T20:24:06.524289",
     "status": "completed"
    },
    "tags": []
   },
   "source": [
    "Many programs react to user input. Function allows us to dfine a task a computer will carry out based on a given input. A simply Pyhton function look like this:"
   ]
  },
  {
   "cell_type": "code",
   "execution_count": 9,
   "metadata": {
    "execution": {
     "iopub.execute_input": "2020-08-19T20:24:06.603185Z",
     "iopub.status.busy": "2020-08-19T20:24:06.602049Z",
     "iopub.status.idle": "2020-08-19T20:24:06.604944Z",
     "shell.execute_reply": "2020-08-19T20:24:06.605633Z"
    },
    "papermill": {
     "duration": 0.03246,
     "end_time": "2020-08-19T20:24:06.605803",
     "exception": false,
     "start_time": "2020-08-19T20:24:06.573343",
     "status": "completed"
    },
    "tags": []
   },
   "outputs": [],
   "source": [
    "def cube(number):\n",
    "    return number**3"
   ]
  },
  {
   "cell_type": "markdown",
   "execution_count": null,
   "metadata": {
    "papermill": {
     "duration": 0.022928,
     "end_time": "2020-08-19T20:24:06.652424",
     "exception": false,
     "start_time": "2020-08-19T20:24:06.629496",
     "status": "completed"
    },
    "tags": []
   },
   "source": [
    "We define function using the `def`. Then comes the name of the function, hich in this case is `cube`. we then enclose the function input in paranthesis, in this case `number`. We use `:` to indicate the Python the starting of the body of the function\n",
    "\n",
    "In this case th body of the function is vary simple, we return the cube of `number` (we use `**` for exponents in Python). The keyword `return` signals that the function will generate some output. Not every function will have a `return` statement. A `return` statement ends a function"
   ]
  },
  {
   "cell_type": "code",
   "execution_count": 10,
   "metadata": {
    "execution": {
     "iopub.execute_input": "2020-08-19T20:24:06.706079Z",
     "iopub.status.busy": "2020-08-19T20:24:06.705089Z",
     "iopub.status.idle": "2020-08-19T20:24:06.708698Z",
     "shell.execute_reply": "2020-08-19T20:24:06.709287Z"
    },
    "papermill": {
     "duration": 0.033387,
     "end_time": "2020-08-19T20:24:06.709450",
     "exception": false,
     "start_time": "2020-08-19T20:24:06.676063",
     "status": "completed"
    },
    "tags": []
   },
   "outputs": [
    {
     "name": "stdout",
     "output_type": "stream",
     "text": [
      "216\n",
      "39.303999999999995\n"
     ]
    }
   ],
   "source": [
    "# we can store the function output in variables\n",
    "cube_6 = cube(6)\n",
    "\n",
    "print(cube_6)\n",
    "\n",
    "my_input = 3.4\n",
    "# we can also use variables as function input\n",
    "print(cube(my_input))"
   ]
  },
  {
   "cell_type": "markdown",
   "execution_count": null,
   "metadata": {
    "papermill": {
     "duration": 0.023006,
     "end_time": "2020-08-19T20:24:06.755715",
     "exception": false,
     "start_time": "2020-08-19T20:24:06.732709",
     "status": "completed"
    },
    "tags": []
   },
   "source": [
    "We can pass different input to the `cube` function, including variables. When we passed a float to `cube`, float is returned. When we passed an integer, `cube` returned integer. In both cases the input was interpretd by the function as the  argument `number`\n",
    "\n",
    "Not all possible inputs are valid."
   ]
  },
  {
   "cell_type": "code",
   "execution_count": 11,
   "metadata": {
    "execution": {
     "iopub.execute_input": "2020-08-19T20:24:06.808506Z",
     "iopub.status.busy": "2020-08-19T20:24:06.807693Z",
     "iopub.status.idle": "2020-08-19T20:24:06.848940Z",
     "shell.execute_reply": "2020-08-19T20:24:06.848249Z"
    },
    "papermill": {
     "duration": 0.069757,
     "end_time": "2020-08-19T20:24:06.849083",
     "exception": false,
     "start_time": "2020-08-19T20:24:06.779326",
     "status": "completed"
    },
    "tags": []
   },
   "outputs": [
    {
     "ename": "TypeError",
     "evalue": "unsupported operand type(s) for ** or pow(): 'str' and 'int'",
     "output_type": "error",
     "traceback": [
      "\u001b[0;31m---------------------------------------------------------------------------\u001b[0m",
      "\u001b[0;31mTypeError\u001b[0m                                 Traceback (most recent call last)",
      "\u001b[0;32m<ipython-input-11-957c76a16544>\u001b[0m in \u001b[0;36m<module>\u001b[0;34m\u001b[0m\n\u001b[0;32m----> 1\u001b[0;31m \u001b[0mprint\u001b[0m\u001b[0;34m(\u001b[0m\u001b[0mcube\u001b[0m\u001b[0;34m(\u001b[0m\u001b[0;34m'apple'\u001b[0m\u001b[0;34m)\u001b[0m\u001b[0;34m)\u001b[0m\u001b[0;34m\u001b[0m\u001b[0;34m\u001b[0m\u001b[0m\n\u001b[0m",
      "\u001b[0;32m<ipython-input-9-f4e0d4aee69f>\u001b[0m in \u001b[0;36mcube\u001b[0;34m(number)\u001b[0m\n\u001b[1;32m      1\u001b[0m \u001b[0;32mdef\u001b[0m \u001b[0mcube\u001b[0m\u001b[0;34m(\u001b[0m\u001b[0mnumber\u001b[0m\u001b[0;34m)\u001b[0m\u001b[0;34m:\u001b[0m\u001b[0;34m\u001b[0m\u001b[0;34m\u001b[0m\u001b[0m\n\u001b[0;32m----> 2\u001b[0;31m     \u001b[0;32mreturn\u001b[0m \u001b[0mnumber\u001b[0m\u001b[0;34m**\u001b[0m\u001b[0;36m3\u001b[0m\u001b[0;34m\u001b[0m\u001b[0;34m\u001b[0m\u001b[0m\n\u001b[0m",
      "\u001b[0;31mTypeError\u001b[0m: unsupported operand type(s) for ** or pow(): 'str' and 'int'"
     ]
    }
   ],
   "source": [
    "print(cube('apple'))"
   ]
  },
  {
   "cell_type": "markdown",
   "execution_count": null,
   "metadata": {
    "papermill": {
     "duration": 0.02336,
     "end_time": "2020-08-19T20:24:06.896435",
     "exception": false,
     "start_time": "2020-08-19T20:24:06.873075",
     "status": "completed"
    },
    "tags": []
   },
   "source": [
    "We ran into an error because `apple` is a string, not a number. This is because exponent doesn't work on `string`. W should be careful t omake sure that the input for a function makes sense for the function's purpose"
   ]
  },
  {
   "cell_type": "markdown",
   "execution_count": null,
   "metadata": {
    "papermill": {
     "duration": 0.023131,
     "end_time": "2020-08-19T20:24:06.945659",
     "exception": false,
     "start_time": "2020-08-19T20:24:06.922528",
     "status": "completed"
    },
    "tags": []
   },
   "source": [
    "We can test the function using assertion weather the oupput is equal to the given value"
   ]
  },
  {
   "cell_type": "code",
   "execution_count": 12,
   "metadata": {
    "execution": {
     "iopub.execute_input": "2020-08-19T20:24:07.007172Z",
     "iopub.status.busy": "2020-08-19T20:24:07.005306Z",
     "iopub.status.idle": "2020-08-19T20:24:07.012862Z",
     "shell.execute_reply": "2020-08-19T20:24:07.012212Z"
    },
    "papermill": {
     "duration": 0.043852,
     "end_time": "2020-08-19T20:24:07.013005",
     "exception": false,
     "start_time": "2020-08-19T20:24:06.969153",
     "status": "completed"
    },
    "tags": []
   },
   "outputs": [
    {
     "ename": "AssertionError",
     "evalue": "",
     "output_type": "error",
     "traceback": [
      "\u001b[0;31m---------------------------------------------------------------------------\u001b[0m",
      "\u001b[0;31mAssertionError\u001b[0m                            Traceback (most recent call last)",
      "\u001b[0;32m<ipython-input-12-7c8813dd3e88>\u001b[0m in \u001b[0;36m<module>\u001b[0;34m\u001b[0m\n\u001b[0;32m----> 1\u001b[0;31m \u001b[0;32massert\u001b[0m \u001b[0mcube\u001b[0m\u001b[0;34m(\u001b[0m\u001b[0;36m3\u001b[0m\u001b[0;34m)\u001b[0m \u001b[0;34m==\u001b[0m \u001b[0;36m23\u001b[0m\u001b[0;34m\u001b[0m\u001b[0;34m\u001b[0m\u001b[0m\n\u001b[0m",
      "\u001b[0;31mAssertionError\u001b[0m: "
     ]
    }
   ],
   "source": [
    "assert cube(3) == 23"
   ]
  },
  {
   "cell_type": "markdown",
   "execution_count": null,
   "metadata": {
    "papermill": {
     "duration": 0.023167,
     "end_time": "2020-08-19T20:24:07.060262",
     "exception": false,
     "start_time": "2020-08-19T20:24:07.037095",
     "status": "completed"
    },
    "tags": []
   },
   "source": [
    "## <a id='WF'>Why Functions?</a>\n",
    "[Go back to the main page](#main)"
   ]
  },
  {
   "cell_type": "markdown",
   "execution_count": null,
   "metadata": {
    "papermill": {
     "duration": 0.02434,
     "end_time": "2020-08-19T20:24:07.109099",
     "exception": false,
     "start_time": "2020-08-19T20:24:07.084759",
     "status": "completed"
    },
    "tags": []
   },
   "source": [
    "On other use of function apart from handling the user input is performing an action multiple times on different input. If we want to perform square a bunch of numbers, in particular the number between 1 to 9, I can do this pretty easily (later we will learn about iteration which will make this even easier!)"
   ]
  },
  {
   "cell_type": "code",
   "execution_count": 13,
   "metadata": {
    "execution": {
     "iopub.execute_input": "2020-08-19T20:24:07.166029Z",
     "iopub.status.busy": "2020-08-19T20:24:07.164915Z",
     "iopub.status.idle": "2020-08-19T20:24:07.169652Z",
     "shell.execute_reply": "2020-08-19T20:24:07.168908Z"
    },
    "papermill": {
     "duration": 0.036885,
     "end_time": "2020-08-19T20:24:07.169779",
     "exception": false,
     "start_time": "2020-08-19T20:24:07.132894",
     "status": "completed"
    },
    "tags": []
   },
   "outputs": [
    {
     "data": {
      "text/plain": [
       "81"
      ]
     },
     "execution_count": 13,
     "metadata": {},
     "output_type": "execute_result"
    }
   ],
   "source": [
    "1**2\n",
    "2**2\n",
    "3**2\n",
    "4**2\n",
    "5**2\n",
    "6**2\n",
    "7**2\n",
    "8**2\n",
    "9**2"
   ]
  },
  {
   "cell_type": "code",
   "execution_count": 14,
   "metadata": {
    "execution": {
     "iopub.execute_input": "2020-08-19T20:24:07.225914Z",
     "iopub.status.busy": "2020-08-19T20:24:07.224882Z",
     "iopub.status.idle": "2020-08-19T20:24:07.229416Z",
     "shell.execute_reply": "2020-08-19T20:24:07.228751Z"
    },
    "papermill": {
     "duration": 0.035947,
     "end_time": "2020-08-19T20:24:07.229543",
     "exception": false,
     "start_time": "2020-08-19T20:24:07.193596",
     "status": "completed"
    },
    "tags": []
   },
   "outputs": [
    {
     "name": "stdout",
     "output_type": "stream",
     "text": [
      "1\n",
      "4\n",
      "9\n",
      "16\n",
      "25\n",
      "36\n",
      "49\n",
      "64\n",
      "81\n"
     ]
    }
   ],
   "source": [
    "print(1**2)\n",
    "print(2**2)\n",
    "print(3**2)\n",
    "print(4**2)\n",
    "print(5**2)\n",
    "print(6**2)\n",
    "print(7**2)\n",
    "print(8**2)\n",
    "print(9**2)"
   ]
  },
  {
   "cell_type": "markdown",
   "execution_count": null,
   "metadata": {
    "papermill": {
     "duration": 0.02367,
     "end_time": "2020-08-19T20:24:07.277747",
     "exception": false,
     "start_time": "2020-08-19T20:24:07.254077",
     "status": "completed"
    },
    "tags": []
   },
   "source": [
    "What if we want to go back and add `3` to all the results? Clearly we can see the problem here. Lets instead define a function to do our work"
   ]
  },
  {
   "cell_type": "code",
   "execution_count": 15,
   "metadata": {
    "execution": {
     "iopub.execute_input": "2020-08-19T20:24:07.331387Z",
     "iopub.status.busy": "2020-08-19T20:24:07.330683Z",
     "iopub.status.idle": "2020-08-19T20:24:07.334191Z",
     "shell.execute_reply": "2020-08-19T20:24:07.333469Z"
    },
    "papermill": {
     "duration": 0.032701,
     "end_time": "2020-08-19T20:24:07.334322",
     "exception": false,
     "start_time": "2020-08-19T20:24:07.301621",
     "status": "completed"
    },
    "tags": []
   },
   "outputs": [],
   "source": [
    "def my_func(x):\n",
    "    print(x**2 + 3)"
   ]
  },
  {
   "cell_type": "markdown",
   "execution_count": null,
   "metadata": {
    "papermill": {
     "duration": 0.02386,
     "end_time": "2020-08-19T20:24:07.383888",
     "exception": false,
     "start_time": "2020-08-19T20:24:07.360028",
     "status": "completed"
    },
    "tags": []
   },
   "source": [
    "Now we can just call the function on every element. If  want to change the output, we just need to change the function"
   ]
  },
  {
   "cell_type": "code",
   "execution_count": 16,
   "metadata": {
    "execution": {
     "iopub.execute_input": "2020-08-19T20:24:07.490818Z",
     "iopub.status.busy": "2020-08-19T20:24:07.489802Z",
     "iopub.status.idle": "2020-08-19T20:24:07.493788Z",
     "shell.execute_reply": "2020-08-19T20:24:07.494592Z"
    },
    "papermill": {
     "duration": 0.08653,
     "end_time": "2020-08-19T20:24:07.494800",
     "exception": false,
     "start_time": "2020-08-19T20:24:07.408270",
     "status": "completed"
    },
    "tags": []
   },
   "outputs": [
    {
     "name": "stdout",
     "output_type": "stream",
     "text": [
      "4\n",
      "7\n",
      "12\n",
      "19\n",
      "28\n",
      "39\n",
      "52\n",
      "67\n",
      "84\n"
     ]
    }
   ],
   "source": [
    "my_func(1)\n",
    "my_func(2)\n",
    "my_func(3)\n",
    "my_func(4)\n",
    "my_func(5)\n",
    "my_func(6)\n",
    "my_func(7)\n",
    "my_func(8)\n",
    "my_func(9)"
   ]
  },
  {
   "cell_type": "markdown",
   "execution_count": null,
   "metadata": {
    "papermill": {
     "duration": 0.023876,
     "end_time": "2020-08-19T20:24:07.545862",
     "exception": false,
     "start_time": "2020-08-19T20:24:07.521986",
     "status": "completed"
    },
    "tags": []
   },
   "source": [
    "Splitting out the work into function is often a way to make code more modular and understandable. It also helps ensure your cod is correct. If write a function and test it correct, we kno it will be correct every time we use it. if we don't break out code into a function, it is very easy to make typos or other errors which will cause our progrmas to break "
   ]
  },
  {
   "cell_type": "markdown",
   "execution_count": null,
   "metadata": {
    "papermill": {
     "duration": 0.023969,
     "end_time": "2020-08-19T20:24:07.594096",
     "exception": false,
     "start_time": "2020-08-19T20:24:07.570127",
     "status": "completed"
    },
    "tags": []
   },
   "source": [
    "## <a id='S'>Syntax</a>\n",
    "[Go back to the main page](#main)"
   ]
  },
  {
   "cell_type": "markdown",
   "execution_count": null,
   "metadata": {
    "papermill": {
     "duration": 0.026088,
     "end_time": "2020-08-19T20:24:07.644513",
     "exception": false,
     "start_time": "2020-08-19T20:24:07.618425",
     "status": "completed"
    },
    "tags": []
   },
   "source": [
    "As our instructions to the computer become more complicated, we will need to organize them in a way the computer understands. We've already seen an example of `cube` function. There is a specific order to the words and specific symbols we had to use to let Python know which part of the function we the defination and hich part is the body, or which part is the name of the function and which part is th argument. We call the rules for organizing code the programming language's **Syntax**\n",
    "\n",
    "Python' syntax is very streamlined so that code is readable and intutive. Python uses White space to organize code. For Example:"
   ]
  },
  {
   "cell_type": "code",
   "execution_count": 17,
   "metadata": {
    "execution": {
     "iopub.execute_input": "2020-08-19T20:24:07.701558Z",
     "iopub.status.busy": "2020-08-19T20:24:07.700776Z",
     "iopub.status.idle": "2020-08-19T20:24:07.706661Z",
     "shell.execute_reply": "2020-08-19T20:24:07.705724Z"
    },
    "papermill": {
     "duration": 0.036516,
     "end_time": "2020-08-19T20:24:07.706834",
     "exception": false,
     "start_time": "2020-08-19T20:24:07.670318",
     "status": "completed"
    },
    "tags": []
   },
   "outputs": [
    {
     "name": "stdout",
     "output_type": "stream",
     "text": [
      "ex_1 is running\n",
      "returning value \"a\"\n"
     ]
    },
    {
     "data": {
      "text/plain": [
       "'a'"
      ]
     },
     "execution_count": 17,
     "metadata": {},
     "output_type": "execute_result"
    }
   ],
   "source": [
    "def ex_1():\n",
    "    print('ex_1 is running')\n",
    "    print('returning value \"a\"')\n",
    "    return 'a'\n",
    "\n",
    "ex_1()"
   ]
  },
  {
   "cell_type": "code",
   "execution_count": 18,
   "metadata": {
    "execution": {
     "iopub.execute_input": "2020-08-19T20:24:07.762970Z",
     "iopub.status.busy": "2020-08-19T20:24:07.762154Z",
     "iopub.status.idle": "2020-08-19T20:24:07.766427Z",
     "shell.execute_reply": "2020-08-19T20:24:07.765851Z"
    },
    "papermill": {
     "duration": 0.034837,
     "end_time": "2020-08-19T20:24:07.766558",
     "exception": false,
     "start_time": "2020-08-19T20:24:07.731721",
     "status": "completed"
    },
    "tags": []
   },
   "outputs": [
    {
     "name": "stdout",
     "output_type": "stream",
     "text": [
      "ex_2 is running\n",
      "exiting without returing a value\n"
     ]
    }
   ],
   "source": [
    "def ex_2():\n",
    "    print('ex_2 is running')\n",
    "    print('exiting without returing a value')\n",
    "    \n",
    "ex_2()"
   ]
  },
  {
   "cell_type": "markdown",
   "execution_count": null,
   "metadata": {
    "papermill": {
     "duration": 0.024294,
     "end_time": "2020-08-19T20:24:07.815616",
     "exception": false,
     "start_time": "2020-08-19T20:24:07.791322",
     "status": "completed"
    },
    "tags": []
   },
   "source": [
    "The function `ex_1` ends with a return statement, but `ex_2` has no return statement. So how does Python know where `ex_2` ends? We use indentation to indicate which lines are part of th function and which aren't. The indented lines are all grouped together undr the function defination."
   ]
  },
  {
   "cell_type": "markdown",
   "execution_count": null,
   "metadata": {
    "papermill": {
     "duration": 0.024481,
     "end_time": "2020-08-19T20:24:07.865007",
     "exception": false,
     "start_time": "2020-08-19T20:24:07.840526",
     "status": "completed"
    },
    "tags": []
   },
   "source": [
    "# <a id='C&L'>Conditional & Logic</a>\n",
    "[Go back to the main page](#main)"
   ]
  },
  {
   "cell_type": "markdown",
   "execution_count": null,
   "metadata": {
    "papermill": {
     "duration": 0.024206,
     "end_time": "2020-08-19T20:24:07.913860",
     "exception": false,
     "start_time": "2020-08-19T20:24:07.889654",
     "status": "completed"
    },
    "tags": []
   },
   "source": [
    "We'll often want the computer only to take an action under certain situations. For Example, we might want a game to print the message 'High Score!', but only if the player's high score is higher than the previous high score. We can write this as a formal logical statement: if the player's score is higher than the previous high scor thn print 'High Score!'\n",
    "\n",
    "The syntax for exprssing this logic in python is vry similar. Let's define a function that accepts the player's score and the previous high score as arguments. If the player's score is higher, then it will print 'High score!'. Finally, it will return the new high score (whichever one that is)."
   ]
  },
  {
   "cell_type": "code",
   "execution_count": 19,
   "metadata": {
    "execution": {
     "iopub.execute_input": "2020-08-19T20:24:07.969940Z",
     "iopub.status.busy": "2020-08-19T20:24:07.969152Z",
     "iopub.status.idle": "2020-08-19T20:24:07.972842Z",
     "shell.execute_reply": "2020-08-19T20:24:07.972127Z"
    },
    "papermill": {
     "duration": 0.034061,
     "end_time": "2020-08-19T20:24:07.972976",
     "exception": false,
     "start_time": "2020-08-19T20:24:07.938915",
     "status": "completed"
    },
    "tags": []
   },
   "outputs": [],
   "source": [
    "def test_high_score(player_score, high_score):\n",
    "    if player_score > high_score:\n",
    "        print('High score!')\n",
    "        high_score = player_score\n",
    "        \n",
    "    return high_score"
   ]
  },
  {
   "cell_type": "code",
   "execution_count": 20,
   "metadata": {
    "execution": {
     "iopub.execute_input": "2020-08-19T20:24:08.030900Z",
     "iopub.status.busy": "2020-08-19T20:24:08.029937Z",
     "iopub.status.idle": "2020-08-19T20:24:08.033624Z",
     "shell.execute_reply": "2020-08-19T20:24:08.034554Z"
    },
    "papermill": {
     "duration": 0.036696,
     "end_time": "2020-08-19T20:24:08.034780",
     "exception": false,
     "start_time": "2020-08-19T20:24:07.998084",
     "status": "completed"
    },
    "tags": []
   },
   "outputs": [
    {
     "name": "stdout",
     "output_type": "stream",
     "text": [
      "98\n"
     ]
    }
   ],
   "source": [
    "print(test_high_score(83, 98))"
   ]
  },
  {
   "cell_type": "code",
   "execution_count": 21,
   "metadata": {
    "execution": {
     "iopub.execute_input": "2020-08-19T20:24:08.092663Z",
     "iopub.status.busy": "2020-08-19T20:24:08.091686Z",
     "iopub.status.idle": "2020-08-19T20:24:08.097474Z",
     "shell.execute_reply": "2020-08-19T20:24:08.096779Z"
    },
    "papermill": {
     "duration": 0.036748,
     "end_time": "2020-08-19T20:24:08.097649",
     "exception": false,
     "start_time": "2020-08-19T20:24:08.060901",
     "status": "completed"
    },
    "tags": []
   },
   "outputs": [
    {
     "name": "stdout",
     "output_type": "stream",
     "text": [
      "High score!\n",
      "95\n"
     ]
    }
   ],
   "source": [
    "print(test_high_score(95, 93))"
   ]
  },
  {
   "cell_type": "markdown",
   "execution_count": null,
   "metadata": {
    "papermill": {
     "duration": 0.024286,
     "end_time": "2020-08-19T20:24:08.147065",
     "exception": false,
     "start_time": "2020-08-19T20:24:08.122779",
     "status": "completed"
    },
    "tags": []
   },
   "source": [
    "With if statements we use a similar syntax as we used for organizing functions. With functions we had a `def` statement ending with `:`, and an indented body. Similarly for a conditional, we have an if statement ending with `:`, and an indented body.\n",
    "\n",
    "Conditional statements are used to control program flow. We can visualize our example, `test_high_score`, in a decision tree\n",
    "\n",
    "![programflow_highscore.png](https://raw.githubusercontent.com/VishwasSaini32/Data-Science/master/Python/images/programflow_highscore.png)\n",
    "\n",
    "We can nest `if` statements to make more complicatd trees"
   ]
  },
  {
   "cell_type": "code",
   "execution_count": 22,
   "metadata": {
    "execution": {
     "iopub.execute_input": "2020-08-19T20:24:08.205116Z",
     "iopub.status.busy": "2020-08-19T20:24:08.203920Z",
     "iopub.status.idle": "2020-08-19T20:24:08.207913Z",
     "shell.execute_reply": "2020-08-19T20:24:08.208523Z"
    },
    "papermill": {
     "duration": 0.036854,
     "end_time": "2020-08-19T20:24:08.208728",
     "exception": false,
     "start_time": "2020-08-19T20:24:08.171874",
     "status": "completed"
    },
    "tags": []
   },
   "outputs": [
    {
     "name": "stdout",
     "output_type": "stream",
     "text": [
      "branch_a\n",
      "branch_c\n",
      "branch_b\n"
     ]
    }
   ],
   "source": [
    "def nested_example(x):\n",
    "    if x < 50:\n",
    "        if x % 2 == 0:\n",
    "            return 'branch_a'\n",
    "        else:\n",
    "            return 'branch_b'\n",
    "    else:\n",
    "        return 'branch_c'\n",
    "    \n",
    "print(nested_example(42))\n",
    "print(nested_example(51))\n",
    "print(nested_example(37))"
   ]
  },
  {
   "cell_type": "markdown",
   "execution_count": null,
   "metadata": {
    "papermill": {
     "duration": 0.025145,
     "end_time": "2020-08-19T20:24:08.259034",
     "exception": false,
     "start_time": "2020-08-19T20:24:08.233889",
     "status": "completed"
    },
    "tags": []
   },
   "source": [
    "In this example, we have an `if` statement nested under another `if` statement. As we change the input, we end up on different branches of the tree.\n",
    "\n",
    "![programflow_nestedlogic.png](https://raw.githubusercontent.com/VishwasSaini32/Data-Science/master/Python/images/programflow_nestedlogic.png)\n",
    "\n",
    "The statement that follows the `if` is called the **condition**. Th condition can be either true or false. If the condition is true, then we execute the statements under the `if`.If the condition is false, then we execute the statements under the `else` (or if there is no `else`, then we do nothing).\n",
    "\n",
    "Conditions themselves are instructions that Python can interpret."
   ]
  },
  {
   "cell_type": "code",
   "execution_count": 23,
   "metadata": {
    "execution": {
     "iopub.execute_input": "2020-08-19T20:24:08.315877Z",
     "iopub.status.busy": "2020-08-19T20:24:08.314891Z",
     "iopub.status.idle": "2020-08-19T20:24:08.318761Z",
     "shell.execute_reply": "2020-08-19T20:24:08.319556Z"
    },
    "papermill": {
     "duration": 0.035799,
     "end_time": "2020-08-19T20:24:08.319788",
     "exception": false,
     "start_time": "2020-08-19T20:24:08.283989",
     "status": "completed"
    },
    "tags": []
   },
   "outputs": [
    {
     "name": "stdout",
     "output_type": "stream",
     "text": [
      "True\n",
      "True\n",
      "False\n"
     ]
    }
   ],
   "source": [
    "print(50 > 10)\n",
    "print(2 + 2 == 4)\n",
    "print(-3 > 2)"
   ]
  },
  {
   "cell_type": "markdown",
   "execution_count": null,
   "metadata": {
    "papermill": {
     "duration": 0.032345,
     "end_time": "2020-08-19T20:24:08.381481",
     "exception": false,
     "start_time": "2020-08-19T20:24:08.349136",
     "status": "completed"
    },
    "tags": []
   },
   "source": [
    "Conditions are evaluated as booleans, which are `True` or `False`. We can combine conditions by asking of condition A _and_ condition B are true. We could also ask if condition A *or* condition B are true. Let's consider whether such statements are true overall based on the possible values of condition A and condition B.\n",
    "\n",
    "|Condition A|Condition B|Condition A and Condition B|Condition A or Condition B|\n",
    "|:---------:|:---------:|:-------------------------:|:------------------------:|\n",
    "|True|True|True|True|\n",
    "|True|False|False|True|\n",
    "|False|True|False|True|\n",
    "|False|False|False|False|"
   ]
  },
  {
   "cell_type": "code",
   "execution_count": 24,
   "metadata": {
    "execution": {
     "iopub.execute_input": "2020-08-19T20:24:08.440990Z",
     "iopub.status.busy": "2020-08-19T20:24:08.440157Z",
     "iopub.status.idle": "2020-08-19T20:24:08.446811Z",
     "shell.execute_reply": "2020-08-19T20:24:08.445712Z"
    },
    "papermill": {
     "duration": 0.039522,
     "end_time": "2020-08-19T20:24:08.447009",
     "exception": false,
     "start_time": "2020-08-19T20:24:08.407487",
     "status": "completed"
    },
    "tags": []
   },
   "outputs": [
    {
     "name": "stdout",
     "output_type": "stream",
     "text": [
      "True\n",
      "False\n",
      "False\n",
      "False\n"
     ]
    }
   ],
   "source": [
    "print(True and True)\n",
    "print(True and False)\n",
    "print(False and True)\n",
    "print(False and False)"
   ]
  },
  {
   "cell_type": "code",
   "execution_count": 25,
   "metadata": {
    "execution": {
     "iopub.execute_input": "2020-08-19T20:24:08.513066Z",
     "iopub.status.busy": "2020-08-19T20:24:08.511934Z",
     "iopub.status.idle": "2020-08-19T20:24:08.515836Z",
     "shell.execute_reply": "2020-08-19T20:24:08.516740Z"
    },
    "papermill": {
     "duration": 0.040305,
     "end_time": "2020-08-19T20:24:08.516982",
     "exception": false,
     "start_time": "2020-08-19T20:24:08.476677",
     "status": "completed"
    },
    "tags": []
   },
   "outputs": [
    {
     "name": "stdout",
     "output_type": "stream",
     "text": [
      "True\n",
      "True\n",
      "True\n",
      "False\n"
     ]
    }
   ],
   "source": [
    "print(True or True)\n",
    "print(True or False)\n",
    "print(False or True)\n",
    "print(False or False)"
   ]
  },
  {
   "cell_type": "code",
   "execution_count": 26,
   "metadata": {
    "execution": {
     "iopub.execute_input": "2020-08-19T20:24:08.580836Z",
     "iopub.status.busy": "2020-08-19T20:24:08.579812Z",
     "iopub.status.idle": "2020-08-19T20:24:08.584820Z",
     "shell.execute_reply": "2020-08-19T20:24:08.585753Z"
    },
    "papermill": {
     "duration": 0.038375,
     "end_time": "2020-08-19T20:24:08.586000",
     "exception": false,
     "start_time": "2020-08-19T20:24:08.547625",
     "status": "completed"
    },
    "tags": []
   },
   "outputs": [
    {
     "name": "stdout",
     "output_type": "stream",
     "text": [
      "True\n",
      "False\n",
      "True\n"
     ]
    }
   ],
   "source": [
    "x = 5\n",
    "y = 3\n",
    "\n",
    "print(x > 4 and y > 2)\n",
    "print(x > 7 and y > 2)\n",
    "print(x > 7 or y > 2)"
   ]
  },
  {
   "cell_type": "markdown",
   "execution_count": null,
   "metadata": {
    "papermill": {
     "duration": 0.025639,
     "end_time": "2020-08-19T20:24:08.644132",
     "exception": false,
     "start_time": "2020-08-19T20:24:08.618493",
     "status": "completed"
    },
    "tags": []
   },
   "source": [
    "The keywords `or` and `and` are called **logical operations** (in the same sense that we call `+`, `-`, `*`, etc. arithmetic operations). The last logical operation is `not`: `not True` is `False`, `not False` is `True`"
   ]
  },
  {
   "cell_type": "code",
   "execution_count": 27,
   "metadata": {
    "execution": {
     "iopub.execute_input": "2020-08-19T20:24:08.703136Z",
     "iopub.status.busy": "2020-08-19T20:24:08.702206Z",
     "iopub.status.idle": "2020-08-19T20:24:08.707112Z",
     "shell.execute_reply": "2020-08-19T20:24:08.706375Z"
    },
    "papermill": {
     "duration": 0.036574,
     "end_time": "2020-08-19T20:24:08.707239",
     "exception": false,
     "start_time": "2020-08-19T20:24:08.670665",
     "status": "completed"
    },
    "tags": []
   },
   "outputs": [
    {
     "name": "stdout",
     "output_type": "stream",
     "text": [
      "False\n",
      "True\n"
     ]
    }
   ],
   "source": [
    "print(not True)\n",
    "print(not False)"
   ]
  },
  {
   "cell_type": "code",
   "execution_count": 28,
   "metadata": {
    "execution": {
     "iopub.execute_input": "2020-08-19T20:24:08.768829Z",
     "iopub.status.busy": "2020-08-19T20:24:08.767642Z",
     "iopub.status.idle": "2020-08-19T20:24:08.773657Z",
     "shell.execute_reply": "2020-08-19T20:24:08.772889Z"
    },
    "papermill": {
     "duration": 0.040688,
     "end_time": "2020-08-19T20:24:08.773821",
     "exception": false,
     "start_time": "2020-08-19T20:24:08.733133",
     "status": "completed"
    },
    "tags": []
   },
   "outputs": [
    {
     "name": "stdout",
     "output_type": "stream",
     "text": [
      "True\n",
      "False\n",
      "True\n",
      "False\n"
     ]
    }
   ],
   "source": [
    "x = 10\n",
    "y = 8\n",
    "\n",
    "print(x > 7 or y < 7)\n",
    "print(not x > 7 or y < 7)\n",
    "print(not x > 7 or not y < 7)\n",
    "print(not (x > 7 or y < 7))"
   ]
  },
  {
   "cell_type": "markdown",
   "execution_count": null,
   "metadata": {
    "papermill": {
     "duration": 0.025829,
     "end_time": "2020-08-19T20:24:08.825826",
     "exception": false,
     "start_time": "2020-08-19T20:24:08.799997",
     "status": "completed"
    },
    "tags": []
   },
   "source": [
    "# <a id='I'>Iteration</a>\n",
    "[Go back to the main page](#main)"
   ]
  },
  {
   "cell_type": "markdown",
   "execution_count": null,
   "metadata": {
    "papermill": {
     "duration": 0.027227,
     "end_time": "2020-08-19T20:24:08.878961",
     "exception": false,
     "start_time": "2020-08-19T20:24:08.851734",
     "status": "completed"
    },
    "tags": []
   },
   "source": [
    "Conditions are very useful because theey allows our programs to make dcisions based on some information. These decision control the flow of the program (i.e. which statments get executed). We have on other major tool for controlling program flow, which is repetition. In programming, we will use repetitive loops to execute the same code many times. This is called `iteration`. The most basic kind of interation is the `while` loop. A `while` loop will keep executing so long as the condition after the `while` is `True` "
   ]
  },
  {
   "cell_type": "code",
   "execution_count": 29,
   "metadata": {
    "execution": {
     "iopub.execute_input": "2020-08-19T20:24:08.937698Z",
     "iopub.status.busy": "2020-08-19T20:24:08.936655Z",
     "iopub.status.idle": "2020-08-19T20:24:08.940363Z",
     "shell.execute_reply": "2020-08-19T20:24:08.941138Z"
    },
    "papermill": {
     "duration": 0.036468,
     "end_time": "2020-08-19T20:24:08.941362",
     "exception": false,
     "start_time": "2020-08-19T20:24:08.904894",
     "status": "completed"
    },
    "tags": []
   },
   "outputs": [
    {
     "name": "stdout",
     "output_type": "stream",
     "text": [
      "0\n",
      "1\n",
      "2\n",
      "3\n",
      "4\n"
     ]
    }
   ],
   "source": [
    "x = 0\n",
    "while x < 5:\n",
    "    print(x)\n",
    "    x = x + 1"
   ]
  },
  {
   "cell_type": "markdown",
   "execution_count": null,
   "metadata": {
    "papermill": {
     "duration": 0.028852,
     "end_time": "2020-08-19T20:24:09.001403",
     "exception": false,
     "start_time": "2020-08-19T20:24:08.972551",
     "status": "completed"
    },
    "tags": []
   },
   "source": [
    "We will often use interation to prform a task a certain numbers of times, but we might also use it to carry out a process to a certain stage of completition.\n",
    "\n",
    "As an example of these different cases, we'll considr the Fibonacci sequence.The Fibonacci numbers are the sequence of numbers $\\{F_n\\}_{n=1}^\\infty$ defined by the linear recurrence equation\n",
    "\n",
    "$$ \\begin{equation}\n",
    "F_n=F_{n-1}+F_{n-2}\n",
    "\\end{equation}$$\n",
    "\n",
    "with $F_1=F_2=1$. As a result of the above definition, it is conventional to define $F_0=0$.\n",
    "\n",
    "The Fibonacci numbers for $n=1, 2, ...$ are $1, 1, 2, 3, 5, 8, 13, 21, ...$ (OEIS [A000045](https://oeis.org/A000045)).\n",
    "\n",
    "![Fibonacci numbers](https://mathworld.wolfram.com/images/gifs/FoxTrot20051011.jpg)\n",
    "\n",
    "The above cartoon (Amend 2005) shows an unconventional sports application of the Fibonacci numbers (left two panels). (The right panel instead applies the [Perrin sequence](https://mathworld.wolfram.com/PerrinSequence.html)).\n",
    "\n",
    "Below we define two functions to compute part of the Fibonacci sequence; the first function computes the first `n` terms, while the second function computes all the terms less than an upper limit, `x`."
   ]
  },
  {
   "cell_type": "code",
   "execution_count": 30,
   "metadata": {
    "execution": {
     "iopub.execute_input": "2020-08-19T20:24:09.067253Z",
     "iopub.status.busy": "2020-08-19T20:24:09.066175Z",
     "iopub.status.idle": "2020-08-19T20:24:09.069165Z",
     "shell.execute_reply": "2020-08-19T20:24:09.069747Z"
    },
    "papermill": {
     "duration": 0.040606,
     "end_time": "2020-08-19T20:24:09.069932",
     "exception": false,
     "start_time": "2020-08-19T20:24:09.029326",
     "status": "completed"
    },
    "tags": []
   },
   "outputs": [],
   "source": [
    "def first_n_fibonacci(n):\n",
    "    prev_num = 0\n",
    "    curr_num = 1\n",
    "    count = 2\n",
    "    \n",
    "    print(prev_num)\n",
    "    print(curr_num)\n",
    "    \n",
    "    while count <= n:\n",
    "        next_num = curr_num + prev_num\n",
    "        print(next_num)\n",
    "        prev_num = curr_num\n",
    "        curr_num = next_num\n",
    "        count += 1\n",
    "\n",
    "def below_x_fibonacci(x):\n",
    "    prev_num = 0\n",
    "    curr_num = 1\n",
    "    \n",
    "    if curr_num < x:\n",
    "        print(prev_num)\n",
    "        print(curr_num)\n",
    "    elif prev_num < x:\n",
    "        print(prev_num)\n",
    "        \n",
    "    while curr_num + prev_num < x:\n",
    "        next_num = curr_num + prev_num\n",
    "        print(next_num)\n",
    "        prev_num = curr_num\n",
    "        curr_num = next_num"
   ]
  },
  {
   "cell_type": "code",
   "execution_count": 31,
   "metadata": {
    "execution": {
     "iopub.execute_input": "2020-08-19T20:24:09.129610Z",
     "iopub.status.busy": "2020-08-19T20:24:09.128824Z",
     "iopub.status.idle": "2020-08-19T20:24:09.132566Z",
     "shell.execute_reply": "2020-08-19T20:24:09.131851Z"
    },
    "papermill": {
     "duration": 0.035489,
     "end_time": "2020-08-19T20:24:09.132747",
     "exception": false,
     "start_time": "2020-08-19T20:24:09.097258",
     "status": "completed"
    },
    "tags": []
   },
   "outputs": [
    {
     "name": "stdout",
     "output_type": "stream",
     "text": [
      "First 7 Fibonacci numbers\n",
      "0\n",
      "1\n",
      "1\n",
      "2\n",
      "3\n",
      "5\n",
      "8\n",
      "13\n"
     ]
    }
   ],
   "source": [
    "m = 7\n",
    "print(f'First {m} Fibonacci numbers')\n",
    "first_n_fibonacci(m)"
   ]
  },
  {
   "cell_type": "code",
   "execution_count": 32,
   "metadata": {
    "execution": {
     "iopub.execute_input": "2020-08-19T20:24:09.191825Z",
     "iopub.status.busy": "2020-08-19T20:24:09.190709Z",
     "iopub.status.idle": "2020-08-19T20:24:09.194328Z",
     "shell.execute_reply": "2020-08-19T20:24:09.194919Z"
    },
    "papermill": {
     "duration": 0.036101,
     "end_time": "2020-08-19T20:24:09.195077",
     "exception": false,
     "start_time": "2020-08-19T20:24:09.158976",
     "status": "completed"
    },
    "tags": []
   },
   "outputs": [
    {
     "name": "stdout",
     "output_type": "stream",
     "text": [
      "Fibonacci numbers below 40\n",
      "0\n",
      "1\n",
      "1\n",
      "2\n",
      "3\n",
      "5\n",
      "8\n",
      "13\n",
      "21\n",
      "34\n"
     ]
    }
   ],
   "source": [
    "y = 40\n",
    "print(f'Fibonacci numbers below {y}')\n",
    "below_x_fibonacci(y)"
   ]
  },
  {
   "cell_type": "markdown",
   "execution_count": null,
   "metadata": {
    "papermill": {
     "duration": 0.025974,
     "end_time": "2020-08-19T20:24:09.247904",
     "exception": false,
     "start_time": "2020-08-19T20:24:09.221930",
     "status": "completed"
    },
    "tags": []
   },
   "source": [
    "Sometimes we will want our program to take a repeated action, but we won't know how many repetitions we will have to do, or it might be difficult to know ahead of time when the program should stop. For example, we could write a program that prints out cooking instructions. We don't know in advance how many instructions there will be in the recipe (some meals take a long time to cook and have many steps, while others are short and simple to make). We also don't know what the last instruction might be, so it would be difficult to write a conditional telling the program when to stop. How are we going to solve the problem? Let's look at an example.\n",
    "\n",
    "Instructions for making bread:  \n",
    "1) Dissolve salt in water  \n",
    "2) Mix yeast into water  \n",
    "3) Mix water with flour to form dough  \n",
    "4) Knead dough  \n",
    "5) Let dough rise  \n",
    "6) Shape dough  \n",
    "7) Bake  \n",
    "\n",
    "The recipe has an ordered `list` of instructions. In Python we can use a list of strings to represent the instructions."
   ]
  },
  {
   "cell_type": "code",
   "execution_count": 33,
   "metadata": {
    "execution": {
     "iopub.execute_input": "2020-08-19T20:24:09.306697Z",
     "iopub.status.busy": "2020-08-19T20:24:09.305920Z",
     "iopub.status.idle": "2020-08-19T20:24:09.309826Z",
     "shell.execute_reply": "2020-08-19T20:24:09.309085Z"
    },
    "papermill": {
     "duration": 0.035609,
     "end_time": "2020-08-19T20:24:09.309956",
     "exception": false,
     "start_time": "2020-08-19T20:24:09.274347",
     "status": "completed"
    },
    "tags": []
   },
   "outputs": [],
   "source": [
    "bread_recipe = ['Dissolve salt in water', 'Mix yeast into water', 'Mix water with flour to form dough', \n",
    "                'Knead dough', 'Let dough rise', 'Shape dough', 'Bake']"
   ]
  },
  {
   "cell_type": "markdown",
   "execution_count": null,
   "metadata": {
    "papermill": {
     "duration": 0.027662,
     "end_time": "2020-08-19T20:24:09.364134",
     "exception": false,
     "start_time": "2020-08-19T20:24:09.336472",
     "status": "completed"
    },
    "tags": []
   },
   "source": [
    "We could store different recipes in different lists."
   ]
  },
  {
   "cell_type": "code",
   "execution_count": 34,
   "metadata": {
    "execution": {
     "iopub.execute_input": "2020-08-19T20:24:09.435171Z",
     "iopub.status.busy": "2020-08-19T20:24:09.434094Z",
     "iopub.status.idle": "2020-08-19T20:24:09.438056Z",
     "shell.execute_reply": "2020-08-19T20:24:09.437378Z"
    },
    "papermill": {
     "duration": 0.040152,
     "end_time": "2020-08-19T20:24:09.438190",
     "exception": false,
     "start_time": "2020-08-19T20:24:09.398038",
     "status": "completed"
    },
    "tags": []
   },
   "outputs": [],
   "source": [
    "soup_recipe = ['Dissolve salt in water', 'Boil  water', 'Add bones to boiling water', 'Chop onions', \n",
    "               'Chop garlic', 'Chop carrot', 'Chop celery', 'Remove bones from water', \n",
    "               'Add vegetables to boiling water', 'Add meat to boiling water']\n",
    "\n",
    "beans_recipe = ['Soak beans in water', 'Dissolve salt in water', 'Heat water and beans to boil', \n",
    "                'Drain beans when done cooking']"
   ]
  },
  {
   "cell_type": "markdown",
   "execution_count": null,
   "metadata": {
    "papermill": {
     "duration": 0.029869,
     "end_time": "2020-08-19T20:24:09.500200",
     "exception": false,
     "start_time": "2020-08-19T20:24:09.470331",
     "status": "completed"
    },
    "tags": []
   },
   "source": [
    "Each of these lists has different instructions, and they are not all the same length. The beans recipe has four stps while the soup rcipe has ten. It ould b hard to write a `while` loop to print out each step. It is much easier to do it using a `for` loop.\n",
    "\n",
    "A `for` loop does an action for each item in a `list` (or more precisely, in an **iterable**)"
   ]
  },
  {
   "cell_type": "code",
   "execution_count": 35,
   "metadata": {
    "execution": {
     "iopub.execute_input": "2020-08-19T20:24:09.563206Z",
     "iopub.status.busy": "2020-08-19T20:24:09.562411Z",
     "iopub.status.idle": "2020-08-19T20:24:09.565507Z",
     "shell.execute_reply": "2020-08-19T20:24:09.566066Z"
    },
    "papermill": {
     "duration": 0.036407,
     "end_time": "2020-08-19T20:24:09.566232",
     "exception": false,
     "start_time": "2020-08-19T20:24:09.529825",
     "status": "completed"
    },
    "tags": []
   },
   "outputs": [],
   "source": [
    "def print_recipe(instructions):\n",
    "    count = 1\n",
    "    for step in instructions:\n",
    "        print(f'{count}. {step}')\n",
    "        count += 1"
   ]
  },
  {
   "cell_type": "code",
   "execution_count": 36,
   "metadata": {
    "execution": {
     "iopub.execute_input": "2020-08-19T20:24:09.625784Z",
     "iopub.status.busy": "2020-08-19T20:24:09.624823Z",
     "iopub.status.idle": "2020-08-19T20:24:09.629246Z",
     "shell.execute_reply": "2020-08-19T20:24:09.628467Z"
    },
    "papermill": {
     "duration": 0.036518,
     "end_time": "2020-08-19T20:24:09.629376",
     "exception": false,
     "start_time": "2020-08-19T20:24:09.592858",
     "status": "completed"
    },
    "tags": []
   },
   "outputs": [
    {
     "name": "stdout",
     "output_type": "stream",
     "text": [
      "1. Dissolve salt in water\n",
      "2. Boil  water\n",
      "3. Add bones to boiling water\n",
      "4. Chop onions\n",
      "5. Chop garlic\n",
      "6. Chop carrot\n",
      "7. Chop celery\n",
      "8. Remove bones from water\n",
      "9. Add vegetables to boiling water\n",
      "10. Add meat to boiling water\n"
     ]
    }
   ],
   "source": [
    "print_recipe(soup_recipe)"
   ]
  },
  {
   "cell_type": "code",
   "execution_count": 37,
   "metadata": {
    "execution": {
     "iopub.execute_input": "2020-08-19T20:24:09.688964Z",
     "iopub.status.busy": "2020-08-19T20:24:09.687996Z",
     "iopub.status.idle": "2020-08-19T20:24:09.692493Z",
     "shell.execute_reply": "2020-08-19T20:24:09.691760Z"
    },
    "papermill": {
     "duration": 0.036688,
     "end_time": "2020-08-19T20:24:09.692653",
     "exception": false,
     "start_time": "2020-08-19T20:24:09.655965",
     "status": "completed"
    },
    "tags": []
   },
   "outputs": [
    {
     "name": "stdout",
     "output_type": "stream",
     "text": [
      "1. Dissolve salt in water\n",
      "2. Mix yeast into water\n",
      "3. Mix water with flour to form dough\n",
      "4. Knead dough\n",
      "5. Let dough rise\n",
      "6. Shape dough\n",
      "7. Bake\n"
     ]
    }
   ],
   "source": [
    "print_recipe(bread_recipe)"
   ]
  },
  {
   "cell_type": "code",
   "execution_count": 38,
   "metadata": {
    "execution": {
     "iopub.execute_input": "2020-08-19T20:24:09.753221Z",
     "iopub.status.busy": "2020-08-19T20:24:09.752227Z",
     "iopub.status.idle": "2020-08-19T20:24:09.755797Z",
     "shell.execute_reply": "2020-08-19T20:24:09.756382Z"
    },
    "papermill": {
     "duration": 0.036286,
     "end_time": "2020-08-19T20:24:09.756542",
     "exception": false,
     "start_time": "2020-08-19T20:24:09.720256",
     "status": "completed"
    },
    "tags": []
   },
   "outputs": [
    {
     "name": "stdout",
     "output_type": "stream",
     "text": [
      "1. Soak beans in water\n",
      "2. Dissolve salt in water\n",
      "3. Heat water and beans to boil\n",
      "4. Drain beans when done cooking\n"
     ]
    }
   ],
   "source": [
    "print_recipe(beans_recipe)"
   ]
  },
  {
   "cell_type": "markdown",
   "execution_count": null,
   "metadata": {
    "papermill": {
     "duration": 0.026649,
     "end_time": "2020-08-19T20:24:09.810455",
     "exception": false,
     "start_time": "2020-08-19T20:24:09.783806",
     "status": "completed"
    },
    "tags": []
   },
   "source": [
    "We can also use a `for` loop to repeat a task a certain number of times, like printing out the first `n` numbers in the Fibonacci sequence. Compare these two Fibonacci functions"
   ]
  },
  {
   "cell_type": "code",
   "execution_count": 39,
   "metadata": {
    "execution": {
     "iopub.execute_input": "2020-08-19T20:24:09.877178Z",
     "iopub.status.busy": "2020-08-19T20:24:09.876354Z",
     "iopub.status.idle": "2020-08-19T20:24:09.880116Z",
     "shell.execute_reply": "2020-08-19T20:24:09.879343Z"
    },
    "papermill": {
     "duration": 0.04283,
     "end_time": "2020-08-19T20:24:09.880247",
     "exception": false,
     "start_time": "2020-08-19T20:24:09.837417",
     "status": "completed"
    },
    "tags": []
   },
   "outputs": [],
   "source": [
    "def first_n_fibonacci_while(n):\n",
    "    prev_num = 0\n",
    "    curr_num = 1\n",
    "    count = 2\n",
    "    \n",
    "    print(prev_num)\n",
    "    print(curr_num)\n",
    "    \n",
    "    while count <= n:\n",
    "        next_num = curr_num + prev_num\n",
    "        print(next_num)\n",
    "        prev_num = curr_num\n",
    "        curr_num = next_num\n",
    "        count += 1\n",
    "\n",
    "def first_n_fibonacci_for(n):\n",
    "    prev_num = 0\n",
    "    curr_num = 1\n",
    "        \n",
    "    print(prev_num)\n",
    "    print(curr_num)\n",
    "    \n",
    "    for count in range(2, n+1):\n",
    "        next_num = curr_num + prev_num\n",
    "        print(next_num)\n",
    "        prev_num = curr_num\n",
    "        curr_num = next_num"
   ]
  },
  {
   "cell_type": "code",
   "execution_count": 40,
   "metadata": {
    "execution": {
     "iopub.execute_input": "2020-08-19T20:24:09.940375Z",
     "iopub.status.busy": "2020-08-19T20:24:09.939249Z",
     "iopub.status.idle": "2020-08-19T20:24:09.944603Z",
     "shell.execute_reply": "2020-08-19T20:24:09.943942Z"
    },
    "papermill": {
     "duration": 0.037681,
     "end_time": "2020-08-19T20:24:09.944736",
     "exception": false,
     "start_time": "2020-08-19T20:24:09.907055",
     "status": "completed"
    },
    "tags": []
   },
   "outputs": [
    {
     "name": "stdout",
     "output_type": "stream",
     "text": [
      "0\n",
      "1\n",
      "1\n",
      "2\n",
      "3\n",
      "5\n",
      "8\n",
      "13\n"
     ]
    }
   ],
   "source": [
    "first_n_fibonacci_while(7)"
   ]
  },
  {
   "cell_type": "code",
   "execution_count": 41,
   "metadata": {
    "execution": {
     "iopub.execute_input": "2020-08-19T20:24:10.005229Z",
     "iopub.status.busy": "2020-08-19T20:24:10.003941Z",
     "iopub.status.idle": "2020-08-19T20:24:10.009370Z",
     "shell.execute_reply": "2020-08-19T20:24:10.008510Z"
    },
    "papermill": {
     "duration": 0.037675,
     "end_time": "2020-08-19T20:24:10.009509",
     "exception": false,
     "start_time": "2020-08-19T20:24:09.971834",
     "status": "completed"
    },
    "tags": []
   },
   "outputs": [
    {
     "name": "stdout",
     "output_type": "stream",
     "text": [
      "0\n",
      "1\n",
      "1\n",
      "2\n",
      "3\n",
      "5\n",
      "8\n",
      "13\n"
     ]
    }
   ],
   "source": [
    "first_n_fibonacci_for(7)"
   ]
  },
  {
   "cell_type": "markdown",
   "execution_count": null,
   "metadata": {
    "papermill": {
     "duration": 0.027435,
     "end_time": "2020-08-19T20:24:10.064888",
     "exception": false,
     "start_time": "2020-08-19T20:24:10.037453",
     "status": "completed"
    },
    "tags": []
   },
   "source": [
    "## <a id='AR'>Aside (Recursion)</a>\n",
    "[Go back to the main page](#main)\n",
    "\n",
    "Another way to get something like interation is called *recursion*\n",
    "which is when ew define a function in terms of itself. Lets write the Fibonacci sequence recursively. This will be slightly different that it will only calculate the nth Fibonacci number"
   ]
  },
  {
   "cell_type": "code",
   "execution_count": 42,
   "metadata": {
    "execution": {
     "iopub.execute_input": "2020-08-19T20:24:10.135716Z",
     "iopub.status.busy": "2020-08-19T20:24:10.134760Z",
     "iopub.status.idle": "2020-08-19T20:24:10.138188Z",
     "shell.execute_reply": "2020-08-19T20:24:10.137506Z"
    },
    "papermill": {
     "duration": 0.045412,
     "end_time": "2020-08-19T20:24:10.138325",
     "exception": false,
     "start_time": "2020-08-19T20:24:10.092913",
     "status": "completed"
    },
    "tags": []
   },
   "outputs": [],
   "source": [
    "def fibonacci_recursive(n):\n",
    "    if n == 0:\n",
    "        return 0\n",
    "    elif n == 1:\n",
    "        return 1\n",
    "    else:\n",
    "        return fibonacci_recursive(n-1) + fibonacci_recursive(n-2)"
   ]
  },
  {
   "cell_type": "code",
   "execution_count": 43,
   "metadata": {
    "execution": {
     "iopub.execute_input": "2020-08-19T20:24:10.199772Z",
     "iopub.status.busy": "2020-08-19T20:24:10.198838Z",
     "iopub.status.idle": "2020-08-19T20:24:10.203947Z",
     "shell.execute_reply": "2020-08-19T20:24:10.203285Z"
    },
    "papermill": {
     "duration": 0.038242,
     "end_time": "2020-08-19T20:24:10.204100",
     "exception": false,
     "start_time": "2020-08-19T20:24:10.165858",
     "status": "completed"
    },
    "tags": []
   },
   "outputs": [
    {
     "data": {
      "text/plain": [
       "3"
      ]
     },
     "execution_count": 43,
     "metadata": {},
     "output_type": "execute_result"
    }
   ],
   "source": [
    "fibonacci_recursive(4)"
   ]
  },
  {
   "cell_type": "markdown",
   "execution_count": null,
   "metadata": {
    "papermill": {
     "duration": 0.027858,
     "end_time": "2020-08-19T20:24:10.259797",
     "exception": false,
     "start_time": "2020-08-19T20:24:10.231939",
     "status": "completed"
    },
    "tags": []
   },
   "source": [
    "Here we make use of the fact that a Fibonacci number $F_n$ can be defined in terms of $F_{N-1}$ and $F_{N-2}$ with some base cases $F_0=0$ and $F_1=1$.  We will not be using recursion in this course, but it is an interesting and useful programming construct."
   ]
  },
  {
   "cell_type": "markdown",
   "execution_count": null,
   "metadata": {
    "papermill": {
     "duration": 0.026896,
     "end_time": "2020-08-19T20:24:10.314091",
     "exception": false,
     "start_time": "2020-08-19T20:24:10.287195",
     "status": "completed"
    },
    "tags": []
   },
   "source": [
    "# <a id='PIAT'>Puting it all together</a>\n",
    "[Go back to the main page](#main)\n",
    "\n",
    "We've learned two of the major components of programs: **variable** and **functions**. We've also learned two of the major components of program control: **conditionals** (`if` statements) and **itrations** (`for` and `while` loops). We can use thse ideas and tools to write code to prform complex tasks. Let's look at an example, involving all of these ideas put together.\n",
    "\n",
    "Below we write a function that points out all the prime numbers up to some number `n`. We will use iteration to check if each number is prime. We will use a conditional to print out numbers only if they are prime. We will also break up the task ito small pieces so our code is easy to read and understandable. This means we will use (or call) helper functions inside of our solution."
   ]
  },
  {
   "cell_type": "code",
   "execution_count": 44,
   "metadata": {
    "execution": {
     "iopub.execute_input": "2020-08-19T20:24:10.386918Z",
     "iopub.status.busy": "2020-08-19T20:24:10.385749Z",
     "iopub.status.idle": "2020-08-19T20:24:10.389136Z",
     "shell.execute_reply": "2020-08-19T20:24:10.390041Z"
    },
    "papermill": {
     "duration": 0.048521,
     "end_time": "2020-08-19T20:24:10.390282",
     "exception": false,
     "start_time": "2020-08-19T20:24:10.341761",
     "status": "completed"
    },
    "tags": []
   },
   "outputs": [],
   "source": [
    "def is_prime(number):\n",
    "    if number <= 1:\n",
    "        return False\n",
    "    \n",
    "    for factor in range(2, number):\n",
    "        if number % factor == 0:\n",
    "            return False\n",
    "    \n",
    "    return True\n",
    "\n",
    "def print_prime(n):\n",
    "    for number in range(1, n):\n",
    "        if is_prime(number):\n",
    "            print(f'{number} is prime')"
   ]
  },
  {
   "cell_type": "code",
   "execution_count": 45,
   "metadata": {
    "execution": {
     "iopub.execute_input": "2020-08-19T20:24:10.457855Z",
     "iopub.status.busy": "2020-08-19T20:24:10.456715Z",
     "iopub.status.idle": "2020-08-19T20:24:10.462623Z",
     "shell.execute_reply": "2020-08-19T20:24:10.461935Z"
    },
    "papermill": {
     "duration": 0.041441,
     "end_time": "2020-08-19T20:24:10.462761",
     "exception": false,
     "start_time": "2020-08-19T20:24:10.421320",
     "status": "completed"
    },
    "tags": []
   },
   "outputs": [
    {
     "name": "stdout",
     "output_type": "stream",
     "text": [
      "2 is prime\n",
      "3 is prime\n",
      "5 is prime\n",
      "7 is prime\n"
     ]
    }
   ],
   "source": [
    "print_prime(10)"
   ]
  },
  {
   "cell_type": "markdown",
   "execution_count": null,
   "metadata": {
    "papermill": {
     "duration": 0.027291,
     "end_time": "2020-08-19T20:24:10.518143",
     "exception": false,
     "start_time": "2020-08-19T20:24:10.490852",
     "status": "completed"
    },
    "tags": []
   },
   "source": [
    "The other application of the functions might be to do something many times (not necessarily in an iteration). One specific and natural way to understand this is to have a list elements and apply a function of the `list`. Lets take a list of first 20 numbers and find which one are prime. We will do this and save the result in a `list`. Lists have an `append` method which allows us to add an element to the end of the list."
   ]
  },
  {
   "cell_type": "code",
   "execution_count": 46,
   "metadata": {
    "execution": {
     "iopub.execute_input": "2020-08-19T20:24:10.583426Z",
     "iopub.status.busy": "2020-08-19T20:24:10.582403Z",
     "iopub.status.idle": "2020-08-19T20:24:10.587195Z",
     "shell.execute_reply": "2020-08-19T20:24:10.586552Z"
    },
    "papermill": {
     "duration": 0.041438,
     "end_time": "2020-08-19T20:24:10.587321",
     "exception": false,
     "start_time": "2020-08-19T20:24:10.545883",
     "status": "completed"
    },
    "tags": []
   },
   "outputs": [
    {
     "data": {
      "text/plain": [
       "[2, 3, 5, 7, 11, 13, 17, 19]"
      ]
     },
     "execution_count": 46,
     "metadata": {},
     "output_type": "execute_result"
    }
   ],
   "source": [
    "list_of_numbers = [0,1,2,3,4,5,6,7,8,9,10,11,12,13,14,15,16,17,18,19,20]\n",
    "prime_list = []\n",
    "for number in list_of_numbers:\n",
    "    if is_prime(number):\n",
    "        prime_list.append(number)\n",
    "prime_list"
   ]
  },
  {
   "cell_type": "markdown",
   "execution_count": null,
   "metadata": {
    "papermill": {
     "duration": 0.046334,
     "end_time": "2020-08-19T20:24:10.661487",
     "exception": false,
     "start_time": "2020-08-19T20:24:10.615153",
     "status": "completed"
    },
    "tags": []
   },
   "source": [
    "Python provides a nice construct to apply a function to every element of a list, called a `list comprehension`, here is an example of one:"
   ]
  },
  {
   "cell_type": "code",
   "execution_count": 47,
   "metadata": {
    "execution": {
     "iopub.execute_input": "2020-08-19T20:24:10.724320Z",
     "iopub.status.busy": "2020-08-19T20:24:10.723181Z",
     "iopub.status.idle": "2020-08-19T20:24:10.727020Z",
     "shell.execute_reply": "2020-08-19T20:24:10.727777Z"
    },
    "papermill": {
     "duration": 0.038221,
     "end_time": "2020-08-19T20:24:10.727959",
     "exception": false,
     "start_time": "2020-08-19T20:24:10.689738",
     "status": "completed"
    },
    "tags": []
   },
   "outputs": [
    {
     "data": {
      "text/plain": [
       "[2, 3, 5, 7, 11, 13, 17, 19]"
      ]
     },
     "execution_count": 47,
     "metadata": {},
     "output_type": "execute_result"
    }
   ],
   "source": [
    "[number for number in list_of_numbers if is_prime(number)]"
   ]
  },
  {
   "cell_type": "markdown",
   "execution_count": null,
   "metadata": {
    "papermill": {
     "duration": 0.027839,
     "end_time": "2020-08-19T20:24:10.784182",
     "exception": false,
     "start_time": "2020-08-19T20:24:10.756343",
     "status": "completed"
    },
    "tags": []
   },
   "source": [
    "Note that this is a simple bit of code that is very undrstandable. We don't ned to care **how** the `is_prime` computation os occuring, only that its occuring for every element of `list_of_numbers`. This means that we can view our program at a high level without caring about the small details (which hopefully we have already designed well and tested)"
   ]
  },
  {
   "cell_type": "markdown",
   "execution_count": null,
   "metadata": {
    "papermill": {
     "duration": 0.028006,
     "end_time": "2020-08-19T20:24:10.840622",
     "exception": false,
     "start_time": "2020-08-19T20:24:10.812616",
     "status": "completed"
    },
    "tags": []
   },
   "source": [
    "# <a id='MAF'>More about Functions</a>\n",
    "[Go back to the main page](#main)\n",
    "\n",
    "Notice that the `ex_1` and `ex_2` has no input, but other functions like `test_high_score` had multiple variables as input. Remember that a function argument is just a placeholder for a name and will b bound to hatever is passed into the function. For Example"
   ]
  },
  {
   "cell_type": "code",
   "execution_count": 48,
   "metadata": {
    "execution": {
     "iopub.execute_input": "2020-08-19T20:24:10.902996Z",
     "iopub.status.busy": "2020-08-19T20:24:10.902227Z",
     "iopub.status.idle": "2020-08-19T20:24:10.905826Z",
     "shell.execute_reply": "2020-08-19T20:24:10.905165Z"
    },
    "papermill": {
     "duration": 0.037334,
     "end_time": "2020-08-19T20:24:10.905951",
     "exception": false,
     "start_time": "2020-08-19T20:24:10.868617",
     "status": "completed"
    },
    "tags": []
   },
   "outputs": [
    {
     "name": "stdout",
     "output_type": "stream",
     "text": [
      "inside print_this: 2\n",
      "a = 5\n"
     ]
    }
   ],
   "source": [
    "def print_this(a):\n",
    "    print(f'inside print_this: {a}')\n",
    "\n",
    "a = 5\n",
    "print_this(2)\n",
    "print(f'a = {a}')"
   ]
  },
  {
   "cell_type": "markdown",
   "execution_count": null,
   "metadata": {
    "papermill": {
     "duration": 0.027804,
     "end_time": "2020-08-19T20:24:10.961928",
     "exception": false,
     "start_time": "2020-08-19T20:24:10.934124",
     "status": "completed"
    },
    "tags": []
   },
   "source": [
    "Notice that even though `print_this` was printing the variable `a` inside the function and there was a variable `a` defined outside of the function, the `print` function inside `print_this` still printed what was passed in.  However, I can also "
   ]
  },
  {
   "cell_type": "code",
   "execution_count": 49,
   "metadata": {
    "execution": {
     "iopub.execute_input": "2020-08-19T20:24:11.028254Z",
     "iopub.status.busy": "2020-08-19T20:24:11.027434Z",
     "iopub.status.idle": "2020-08-19T20:24:11.032229Z",
     "shell.execute_reply": "2020-08-19T20:24:11.031252Z"
    },
    "papermill": {
     "duration": 0.041618,
     "end_time": "2020-08-19T20:24:11.032403",
     "exception": false,
     "start_time": "2020-08-19T20:24:10.990785",
     "status": "completed"
    },
    "tags": []
   },
   "outputs": [
    {
     "name": "stdout",
     "output_type": "stream",
     "text": [
      "inside print_it: 5\n",
      "a =  5\n"
     ]
    }
   ],
   "source": [
    "def print_it():\n",
    "    print(f'inside print_it: {a}')\n",
    "    \n",
    "a = 5\n",
    "print_it()\n",
    "print('a = ', a)"
   ]
  },
  {
   "cell_type": "markdown",
   "execution_count": null,
   "metadata": {
    "papermill": {
     "duration": 0.028384,
     "end_time": "2020-08-19T20:24:11.089722",
     "exception": false,
     "start_time": "2020-08-19T20:24:11.061338",
     "status": "completed"
    },
    "tags": []
   },
   "source": [
    "Here there is no variable passed into the function so python uses th variable from the outer scope. Be careful with this second paradigm as it can be dangerous. The danger lies in th fact that the output of the function depends upon th overall state of th program (namely th value of `a`) as opposed to `print_this` hich depends only on the input of the function. Functions like `print_this` ar much asier to reason about, test, and use, they should be prferred in many contexts.\n",
    "\n",
    "That said, there is a very powerful technique called `function closure` which we can make use of this ability. Lets say we want a function which will raise a number to some exponent, but we don't know which exponent ahead of runtime."
   ]
  },
  {
   "cell_type": "code",
   "execution_count": 50,
   "metadata": {
    "execution": {
     "iopub.execute_input": "2020-08-19T20:24:11.153930Z",
     "iopub.status.busy": "2020-08-19T20:24:11.153117Z",
     "iopub.status.idle": "2020-08-19T20:24:11.156736Z",
     "shell.execute_reply": "2020-08-19T20:24:11.155952Z"
    },
    "papermill": {
     "duration": 0.037438,
     "end_time": "2020-08-19T20:24:11.156868",
     "exception": false,
     "start_time": "2020-08-19T20:24:11.119430",
     "status": "completed"
    },
    "tags": []
   },
   "outputs": [],
   "source": [
    "def some_exponent(exponent):\n",
    "    def func(x):\n",
    "        return x**exponent\n",
    "    return func"
   ]
  },
  {
   "cell_type": "code",
   "execution_count": 51,
   "metadata": {
    "execution": {
     "iopub.execute_input": "2020-08-19T20:24:11.221652Z",
     "iopub.status.busy": "2020-08-19T20:24:11.220708Z",
     "iopub.status.idle": "2020-08-19T20:24:11.225495Z",
     "shell.execute_reply": "2020-08-19T20:24:11.224830Z"
    },
    "papermill": {
     "duration": 0.039847,
     "end_time": "2020-08-19T20:24:11.225638",
     "exception": false,
     "start_time": "2020-08-19T20:24:11.185791",
     "status": "completed"
    },
    "tags": []
   },
   "outputs": [
    {
     "data": {
      "text/plain": [
       "(4, 8)"
      ]
     },
     "execution_count": 51,
     "metadata": {},
     "output_type": "execute_result"
    }
   ],
   "source": [
    "some_exponent(2)(2), some_exponent(3)(2)"
   ]
  },
  {
   "cell_type": "markdown",
   "execution_count": null,
   "metadata": {
    "papermill": {
     "duration": 0.028116,
     "end_time": "2020-08-19T20:24:11.282744",
     "exception": false,
     "start_time": "2020-08-19T20:24:11.254628",
     "status": "completed"
    },
    "tags": []
   },
   "source": [
    "Now that we understand how normal arguments work, lets look at a few conveniences Python provides for making functions easier to create. The first is default arguments. Let's suppose we have a function which had a bunch of arguments, but most of them had sane defaults, for example:"
   ]
  },
  {
   "cell_type": "code",
   "execution_count": 52,
   "metadata": {
    "execution": {
     "iopub.execute_input": "2020-08-19T20:24:11.348191Z",
     "iopub.status.busy": "2020-08-19T20:24:11.347306Z",
     "iopub.status.idle": "2020-08-19T20:24:11.351269Z",
     "shell.execute_reply": "2020-08-19T20:24:11.352090Z"
    },
    "papermill": {
     "duration": 0.040928,
     "end_time": "2020-08-19T20:24:11.352255",
     "exception": false,
     "start_time": "2020-08-19T20:24:11.311327",
     "status": "completed"
    },
    "tags": []
   },
   "outputs": [
    {
     "name": "stdout",
     "output_type": "stream",
     "text": [
      "I need to:\n",
      "  watch_tv\n",
      "  read\n",
      "  eat\n",
      "  sleep\n"
     ]
    }
   ],
   "source": [
    "def print_todo(watch_tv, read, eat, sleep):\n",
    "    print('I need to:')\n",
    "    if watch_tv:\n",
    "        print('  watch_tv')\n",
    "    if read:\n",
    "        print('  read')\n",
    "    if eat:\n",
    "        print('  eat')\n",
    "    if sleep:\n",
    "        print('  sleep')\n",
    "print_todo(True, True, True, True)"
   ]
  },
  {
   "cell_type": "markdown",
   "execution_count": null,
   "metadata": {
    "papermill": {
     "duration": 0.028741,
     "end_time": "2020-08-19T20:24:11.411411",
     "exception": false,
     "start_time": "2020-08-19T20:24:11.382670",
     "status": "completed"
    },
    "tags": []
   },
   "source": [
    "I know that I almost always need to eat and sleep, so I can use a default argument for these instead.  This means I don't need to define the value of `eat` and `sleep` unless they are different than the default."
   ]
  },
  {
   "cell_type": "code",
   "execution_count": 53,
   "metadata": {
    "execution": {
     "iopub.execute_input": "2020-08-19T20:24:11.476249Z",
     "iopub.status.busy": "2020-08-19T20:24:11.475343Z",
     "iopub.status.idle": "2020-08-19T20:24:11.480852Z",
     "shell.execute_reply": "2020-08-19T20:24:11.480177Z"
    },
    "papermill": {
     "duration": 0.041034,
     "end_time": "2020-08-19T20:24:11.480985",
     "exception": false,
     "start_time": "2020-08-19T20:24:11.439951",
     "status": "completed"
    },
    "tags": []
   },
   "outputs": [
    {
     "name": "stdout",
     "output_type": "stream",
     "text": [
      "I need to:\n",
      "  watch_tv\n",
      "  read\n",
      "  eat\n",
      "  sleep\n"
     ]
    }
   ],
   "source": [
    "def print_todo_default(watch_tv, read, eat=True, sleep=True):\n",
    "    print('I need to:')\n",
    "    if watch_tv:\n",
    "        print('  watch_tv')\n",
    "    if read:\n",
    "        print('  read')\n",
    "    if eat:\n",
    "        print('  eat')\n",
    "    if sleep:\n",
    "        print('  sleep')\n",
    "print_todo_default(True, True)"
   ]
  },
  {
   "cell_type": "markdown",
   "execution_count": null,
   "metadata": {
    "papermill": {
     "duration": 0.028264,
     "end_time": "2020-08-19T20:24:11.538041",
     "exception": false,
     "start_time": "2020-08-19T20:24:11.509777",
     "status": "completed"
    },
    "tags": []
   },
   "source": [
    "These default arguments can allow us to create complex function with many inputs while also maintaining ease of use by setting sane defaults.\n",
    "\n",
    "Another thing we might want to do is take a variable list of arguments, lets write a similar `todo` function as before, but this time we will allow it to pass in any number of argumnts. Hre we will make use of the `*args` syntax. This `*` tells python to gather th rest of the arguments into the tuple `args`."
   ]
  },
  {
   "cell_type": "code",
   "execution_count": 54,
   "metadata": {
    "execution": {
     "iopub.execute_input": "2020-08-19T20:24:11.603097Z",
     "iopub.status.busy": "2020-08-19T20:24:11.602177Z",
     "iopub.status.idle": "2020-08-19T20:24:11.606393Z",
     "shell.execute_reply": "2020-08-19T20:24:11.605684Z"
    },
    "papermill": {
     "duration": 0.039693,
     "end_time": "2020-08-19T20:24:11.606517",
     "exception": false,
     "start_time": "2020-08-19T20:24:11.566824",
     "status": "completed"
    },
    "tags": []
   },
   "outputs": [
    {
     "name": "stdout",
     "output_type": "stream",
     "text": [
      "I need to:\n",
      "watch_tv\n",
      "read\n",
      "eat\n",
      "sleep\n"
     ]
    }
   ],
   "source": [
    "def print_todo_args(*args):\n",
    "    print('I need to:')\n",
    "    for arg in args:\n",
    "        print(f'{arg}')\n",
    "        \n",
    "print_todo_args('watch_tv', 'read', 'eat', 'sleep')"
   ]
  },
  {
   "cell_type": "markdown",
   "execution_count": null,
   "metadata": {
    "papermill": {
     "duration": 0.028419,
     "end_time": "2020-08-19T20:24:11.663932",
     "exception": false,
     "start_time": "2020-08-19T20:24:11.635513",
     "status": "completed"
    },
    "tags": []
   },
   "source": [
    "This sort of syntax can be very useful in large programs where abstract functions may use all a variety of different functions with different arguments."
   ]
  },
  {
   "cell_type": "markdown",
   "execution_count": null,
   "metadata": {
    "papermill": {
     "duration": 0.028394,
     "end_time": "2020-08-19T20:24:11.721485",
     "exception": false,
     "start_time": "2020-08-19T20:24:11.693091",
     "status": "completed"
    },
    "tags": []
   },
   "source": [
    "# <a id='last'>Some topics we haven't discussed, but have used</a>\n",
    "[Go back to the main page](#main)\n",
    "- [String formatting](https://docs.python.org/3/reference/lexical_analysis.html#f-strings)\n",
    "- Exceptions (e.g. `TypeError`)"
   ]
  },
  {
   "cell_type": "code",
   "execution_count": null,
   "metadata": {
    "papermill": {
     "duration": 0.028703,
     "end_time": "2020-08-19T20:24:11.779107",
     "exception": false,
     "start_time": "2020-08-19T20:24:11.750404",
     "status": "completed"
    },
    "tags": []
   },
   "outputs": [],
   "source": []
  }
 ],
 "metadata": {
  "kernelspec": {
   "display_name": "Python 3",
   "language": "python",
   "name": "python3"
  },
  "language_info": {
   "codemirror_mode": {
    "name": "ipython",
    "version": 3
   },
   "file_extension": ".py",
   "mimetype": "text/x-python",
   "name": "python",
   "nbconvert_exporter": "python",
   "pygments_lexer": "ipython3",
   "version": "3.7.6"
  },
  "papermill": {
   "duration": 11.533214,
   "end_time": "2020-08-19T20:24:11.916711",
   "environment_variables": {},
   "exception": null,
   "input_path": "__notebook__.ipynb",
   "output_path": "__notebook__.ipynb",
   "parameters": {},
   "start_time": "2020-08-19T20:24:00.383497",
   "version": "2.1.0"
  }
 },
 "nbformat": 4,
 "nbformat_minor": 4
}
