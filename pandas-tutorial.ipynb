{
 "cells": [
  {
   "cell_type": "markdown",
   "execution_count": null,
   "metadata": {
    "papermill": {
     "duration": 0.012869,
     "end_time": "2020-08-25T18:50:53.716675",
     "exception": false,
     "start_time": "2020-08-25T18:50:53.703806",
     "status": "completed"
    },
    "tags": []
   },
   "source": [
    "In this notebook we are going to discuss a vast majority of the pandas Library using numerous Examples."
   ]
  },
  {
   "cell_type": "markdown",
   "execution_count": null,
   "metadata": {
    "papermill": {
     "duration": 0.010452,
     "end_time": "2020-08-25T18:50:53.738402",
     "exception": false,
     "start_time": "2020-08-25T18:50:53.727950",
     "status": "completed"
    },
    "tags": []
   },
   "source": [
    "<div>\n",
    "<img src=\"https://pandas.pydata.org/static/img/pandas.svg\" width=\"500\"/>\n",
    "</div>"
   ]
  },
  {
   "cell_type": "markdown",
   "execution_count": null,
   "metadata": {
    "papermill": {
     "duration": 0.010556,
     "end_time": "2020-08-25T18:50:53.760119",
     "exception": false,
     "start_time": "2020-08-25T18:50:53.749563",
     "status": "completed"
    },
    "tags": []
   },
   "source": [
    "# About pandas\n",
    "## History of development\n",
    "In 2008, pandas development began at [AQR Capital Management](https://www.aqr.com/). By the end of 2009 it had been open sourced, and is actively supported today by a community of like-minded individuals around the world who contribute their valuable time and energy to help make open source pandas possible.\n",
    "\n",
    "Since 2015, pandas is a [NumFOCUS sponsored project](https://numfocus.org/sponsored-projects). This will help ensure the success of development of pandas as a world-class open-source project.\n",
    "\n",
    "## Library Highlights\n",
    "- A fast and efficient **DataFrame** object for data manipulation with integrated indexing;\n",
    "- Tools for r**eading and writing data** between in-memory data structures and different formats: CSV and text files, Microsoft Excel, SQL databases, and the fast HDF5 format;\n",
    "- Intelligent **data alignment** and integrated handling of **missing data**: gain automatic label-based alignment in computations and easily manipulate messy data into an orderly form;\n",
    "- Flexible **reshaping** and pivoting of data sets;\n",
    "- Intelligent label-based **slicing**, **fancy indexing**, and **subsetting** of large data sets;\n",
    "- Columns can be inserted and deleted from data structures for **size mutability**;\n",
    "- Aggregating or transforming data with a powerful **group by** engine allowing split-apply-combine operations on data sets;\n",
    "- High performance **merging and joining** of data sets;\n",
    "- **Hierarchical axis indexing** provides an intuitive way of working with high-dimensional data in a lower-dimensional data structure;\n",
    "- **Time series**-functionality: date range generation and frequency conversion, moving window statistics, date shifting and lagging. Even create domain-specific time offsets and join time series without losing data;\n",
    "- Highly **optimized for performance**, with critical code paths written in Cython or C.\n",
    "- Python with pandas is in use in a wide variety of **academic and commercial** domains, including Finance, Neuroscience, Economics, Statistics, Advertising, Web Analytics, and more."
   ]
  },
  {
   "cell_type": "markdown",
   "execution_count": null,
   "metadata": {
    "papermill": {
     "duration": 0.010462,
     "end_time": "2020-08-25T18:50:53.783084",
     "exception": false,
     "start_time": "2020-08-25T18:50:53.772622",
     "status": "completed"
    },
    "tags": []
   },
   "source": [
    "# <a id='main'>Table of Contents</a>\n",
    "- [Series](#S)\n",
    "- [DataFrames](#DF)\n",
    "- [Creating DataFrames](#CDF)\n",
    "- [Editing & Retrieving Data](#E&RD)\n",
    "- [Conditional Selection](#CS)\n",
    "- [File Input / Output](#FIO)\n",
    "- [Basics & Math](#B&M)\n",
    "- [Group Data](#GD)\n",
    "- [Concatenate Merge & Join Data](#CM&JD)\n",
    "- [Statistics](#ST)\n",
    "- [Iteration](#I)\n",
    "- [Sorting](#SO)\n",
    "- [Passing Data to Functions](#PDTF)\n",
    "- [Aligning, Reindexing and Renaming Labels](#ARARL)\n",
    "- [MultiIndex](#M)\n",
    "- [Handling Missing Data](#HMD)\n",
    "- [Experimenting with Data](#EWD)\n",
    "- [Visualization](#V)"
   ]
  },
  {
   "cell_type": "markdown",
   "execution_count": null,
   "metadata": {
    "papermill": {
     "duration": 0.010946,
     "end_time": "2020-08-25T18:50:53.805367",
     "exception": false,
     "start_time": "2020-08-25T18:50:53.794421",
     "status": "completed"
    },
    "tags": []
   },
   "source": [
    "# <a id='S'>Series</a>\n",
    "[Go back to the main page](#main)\n",
    "\n",
    "One-dimensional ndarray with axis labels (including time series).\n",
    "\n",
    "Labels need not be unique but must be a hashable type. The object supports both integer- and label-based indexing and provides a host of methods for performing operations involving the index. Statistical methods from ndarray have been overridden to automatically exclude missing data (currently represented as NaN).\n",
    "\n",
    "Operations between Series (+, -, /, , *) align values based on their associated index values– they need not be the same length. The result index will be the sorted union of the two indexes."
   ]
  },
  {
   "cell_type": "code",
   "execution_count": 1,
   "metadata": {
    "_cell_guid": "b1076dfc-b9ad-4769-8c92-a6c4dae69d19",
    "_uuid": "8f2839f25d086af736a60e9eeb907d3b93b6e0e5",
    "execution": {
     "iopub.execute_input": "2020-08-25T18:50:53.849135Z",
     "iopub.status.busy": "2020-08-25T18:50:53.848047Z",
     "iopub.status.idle": "2020-08-25T18:50:53.898749Z",
     "shell.execute_reply": "2020-08-25T18:50:53.898069Z"
    },
    "papermill": {
     "duration": 0.08238,
     "end_time": "2020-08-25T18:50:53.898903",
     "exception": false,
     "start_time": "2020-08-25T18:50:53.816523",
     "status": "completed"
    },
    "tags": []
   },
   "outputs": [
    {
     "data": {
      "text/plain": [
       "'rand_nums'"
      ]
     },
     "execution_count": 1,
     "metadata": {},
     "output_type": "execute_result"
    }
   ],
   "source": [
    "import numpy as np\n",
    "import pandas as pd\n",
    "\n",
    "# Pandas uses something called a dataframe. It is a \n",
    "# 2D data structure that can hold multiple data types.\n",
    "# Columns have labels.\n",
    "\n",
    "# Series are built on top of NumPy arrays. \n",
    "# Create a series by first creating a list\n",
    "list_1 = ['a', 'b', 'c', 'd']\n",
    "# I can define that I want the series indexes to be the\n",
    "# provided labels\n",
    "labels = [1, 2, 3, 4]\n",
    "ser_1 = pd.Series(data=list_1, index=labels)\n",
    "\n",
    "# You can also add a NumPy array\n",
    "arr_1 = np.array([1, 2, 3, 4])\n",
    "ser_2 = pd.Series(arr_1)\n",
    "\n",
    "# You can quickly add labels and values with a dictionary\n",
    "dict_1 = {\"f_name\": \"Derek\", \n",
    "              \"l_name\": \"Banas\", \n",
    "              \"age\": 44}\n",
    "ser_3 = pd.Series(dict_1)\n",
    "\n",
    "# Get data by label\n",
    "ser_3[\"f_name\"]\n",
    "\n",
    "# You can get the datatype\n",
    "ser_2.dtype\n",
    "\n",
    "# You can perform math operations on series\n",
    "ser_2 + ser_2\n",
    "ser_2 - ser_2\n",
    "ser_2 * ser_2\n",
    "ser_2 / ser_2\n",
    "\n",
    "# You can pass them into NumPy methods\n",
    "# See NumPy tutorial for more math methods\n",
    "np.exp(ser_2)\n",
    "\n",
    "# The difference between Series and ndarray is that operations\n",
    "# align by labels\n",
    "# Create a series from a dictionary\n",
    "ser_4 = pd.Series({4: 5, 5: 6, 6: 7, 7: 8})\n",
    "# If labels don't align you will get NaN\n",
    "ser_2 + ser_4\n",
    "\n",
    "# You can assign names to series\n",
    "ser_4 = pd.Series({8: 9, 9: 10}, name='rand_nums')\n",
    "ser_4.name"
   ]
  },
  {
   "cell_type": "markdown",
   "execution_count": null,
   "metadata": {
    "papermill": {
     "duration": 0.010683,
     "end_time": "2020-08-25T18:50:53.920901",
     "exception": false,
     "start_time": "2020-08-25T18:50:53.910218",
     "status": "completed"
    },
    "tags": []
   },
   "source": [
    "# <a id='DF'>Dataframe</a>\n",
    "[Go back to the main page](#main)\n",
    "\n",
    "Two-dimensional, size-mutable, potentially heterogeneous tabular data.\n",
    "\n",
    "Data structure also contains labeled axes (rows and columns). Arithmetic operations align on both row and column labels. Can be thought of as a dict-like container for Series objects. The primary pandas data structure."
   ]
  },
  {
   "cell_type": "markdown",
   "execution_count": null,
   "metadata": {
    "papermill": {
     "duration": 0.010775,
     "end_time": "2020-08-25T18:50:53.942732",
     "exception": false,
     "start_time": "2020-08-25T18:50:53.931957",
     "status": "completed"
    },
    "tags": []
   },
   "source": [
    "# <a id='CDF'>Creating Dataframe</a>\n",
    "[Go back to the main page](#main)"
   ]
  },
  {
   "cell_type": "code",
   "execution_count": 2,
   "metadata": {
    "_cell_guid": "79c7e3d0-c299-4dcb-8224-4455121ee9b0",
    "_uuid": "d629ff2d2480ee46fbb7e2d37f6b5fab8052498a",
    "execution": {
     "iopub.execute_input": "2020-08-25T18:50:53.984755Z",
     "iopub.status.busy": "2020-08-25T18:50:53.983919Z",
     "iopub.status.idle": "2020-08-25T18:50:53.992424Z",
     "shell.execute_reply": "2020-08-25T18:50:53.993277Z"
    },
    "papermill": {
     "duration": 0.039422,
     "end_time": "2020-08-25T18:50:53.993485",
     "exception": false,
     "start_time": "2020-08-25T18:50:53.954063",
     "status": "completed"
    },
    "tags": []
   },
   "outputs": [
    {
     "name": "stdout",
     "output_type": "stream",
     "text": [
      "(2, 3)\n"
     ]
    }
   ],
   "source": [
    "from numpy import random\n",
    "\n",
    "# Create random matrix 2x3 with values between 10 and 50\n",
    "arr_2 = np.random.randint(10, 50, size=(2, 3))\n",
    "\n",
    "# Create DF with data, row labels & column labels\n",
    "df_1 = pd.DataFrame(arr_2, ['A', 'B'], ['C', 'D', 'E'])\n",
    "\n",
    "# Create a DF from multiple series in a dict\n",
    "# If series are of different lengthes extra spaces are NaN\n",
    "dict_3 = {'one': pd.Series([1., 2., 3.], index=['a', 'b', 'c']),\n",
    "         'two': pd.Series([1., 2., 3., 4.], index=['a', 'b', 'c', 'd'])}\n",
    "df_2 = pd.DataFrame(dict_3)\n",
    "df_2\n",
    "\n",
    "# from_dict accepts a column labels and lists\n",
    "pd.DataFrame.from_dict(dict([('A', [1,2,3]), ('B', [4,5,6])]))\n",
    "\n",
    "# You can assign the keys as row labels and column labels separate\n",
    "# with orient='index'\n",
    "pd.DataFrame.from_dict(dict([('A', [1,2,3]), ('B', [4,5,6])]),\n",
    "                      orient='index', columns=['one','two','three'])\n",
    "\n",
    "# Get number of rows and columns as tuple\n",
    "print(df_1.shape)"
   ]
  },
  {
   "cell_type": "markdown",
   "execution_count": null,
   "metadata": {
    "papermill": {
     "duration": 0.011307,
     "end_time": "2020-08-25T18:50:54.016145",
     "exception": false,
     "start_time": "2020-08-25T18:50:54.004838",
     "status": "completed"
    },
    "tags": []
   },
   "source": [
    "# <a id='E&RD'>Editing & Retrieving Data</a>\n",
    "[Go back to the main page](#main)"
   ]
  },
  {
   "cell_type": "code",
   "execution_count": 3,
   "metadata": {
    "execution": {
     "iopub.execute_input": "2020-08-25T18:50:54.087718Z",
     "iopub.status.busy": "2020-08-25T18:50:54.086853Z",
     "iopub.status.idle": "2020-08-25T18:50:54.096782Z",
     "shell.execute_reply": "2020-08-25T18:50:54.096020Z"
    },
    "papermill": {
     "duration": 0.068823,
     "end_time": "2020-08-25T18:50:54.096913",
     "exception": false,
     "start_time": "2020-08-25T18:50:54.028090",
     "status": "completed"
    },
    "tags": []
   },
   "outputs": [
    {
     "name": "stdout",
     "output_type": "stream",
     "text": [
      "    D   E\n",
      "A  49  42\n",
      "B  46  10\n"
     ]
    },
    {
     "data": {
      "text/html": [
       "<div>\n",
       "<style scoped>\n",
       "    .dataframe tbody tr th:only-of-type {\n",
       "        vertical-align: middle;\n",
       "    }\n",
       "\n",
       "    .dataframe tbody tr th {\n",
       "        vertical-align: top;\n",
       "    }\n",
       "\n",
       "    .dataframe thead th {\n",
       "        text-align: right;\n",
       "    }\n",
       "</style>\n",
       "<table border=\"1\" class=\"dataframe\">\n",
       "  <thead>\n",
       "    <tr style=\"text-align: right;\">\n",
       "      <th></th>\n",
       "      <th>A</th>\n",
       "    </tr>\n",
       "  </thead>\n",
       "  <tbody>\n",
       "    <tr>\n",
       "      <th>0</th>\n",
       "      <td>1.0</td>\n",
       "    </tr>\n",
       "    <tr>\n",
       "      <th>1</th>\n",
       "      <td>9.0</td>\n",
       "    </tr>\n",
       "    <tr>\n",
       "      <th>2</th>\n",
       "      <td>3.0</td>\n",
       "    </tr>\n",
       "    <tr>\n",
       "      <th>3</th>\n",
       "      <td>4.0</td>\n",
       "    </tr>\n",
       "  </tbody>\n",
       "</table>\n",
       "</div>"
      ],
      "text/plain": [
       "     A\n",
       "0  1.0\n",
       "1  9.0\n",
       "2  3.0\n",
       "3  4.0"
      ]
     },
     "execution_count": 3,
     "metadata": {},
     "output_type": "execute_result"
    }
   ],
   "source": [
    "# Grab a column\n",
    "df_1['C']\n",
    "# Get multiple columns\n",
    "df_1[['C', 'E']]\n",
    "\n",
    "# Grabb a row as a series\n",
    "df_1.loc['A']\n",
    "# Grab row by index position\n",
    "df_1.iloc[1]\n",
    "\n",
    "# Grab cell with Row & Column\n",
    "df_1.loc['A', 'C']\n",
    "# Grab multiple cells by defining rows wanted & the\n",
    "# columns from those rows\n",
    "print(df_1.loc[['A', 'B'], ['D', 'E']])\n",
    "\n",
    "# Make new column\n",
    "df_1['Total'] = df_1['C'] + df_1['D'] + df_1['E']\n",
    "df_1\n",
    "\n",
    "# You can perform multiple calculations\n",
    "df_2['mult'] = df_2['one'] * df_2['two']\n",
    "df_2\n",
    "\n",
    "# Make a new row by appending\n",
    "dict_2 = {'C': 44, 'D': 45, 'E': 46}\n",
    "new_row = pd.Series(dict_2, name='F')\n",
    "df_1 = df_1.append(new_row)\n",
    "\n",
    "# Delete column and set inplace to True which is required\n",
    "# because Pandas tries to help you not delete data\n",
    "# by accident\n",
    "df_1.drop('Total', axis=1, inplace=True)\n",
    "df_1\n",
    "# Delete a row\n",
    "df_1.drop('B', axis=0, inplace=True)\n",
    "df_1\n",
    "\n",
    "# Create a new column and make it the index\n",
    "df_1['Sex'] = ['Men', 'Women']\n",
    "df_1.set_index('Sex', inplace=True)\n",
    "\n",
    "# You can reset index values to numbers\n",
    "#df_1.reset_index(inplace=True)\n",
    "df_1\n",
    "\n",
    "# Assign can be used to create a column while leaving the\n",
    "# original DF untouched\n",
    "df_2.assign(div=df_2['one'] / df_2['two'])\n",
    "\n",
    "# You can pass in a function as well\n",
    "df_2.assign(div=lambda x: (x['one'] / x['two']))\n",
    "\n",
    "# Combine DataFrames while keeping df_3 data unless\n",
    "# there is a NaN value\n",
    "df_3 = pd.DataFrame({'A': [1., np.nan, 3., np.nan]})\n",
    "df_4 = pd.DataFrame({'A': [8., 9., 2., 4.]})\n",
    "df_3.combine_first(df_4)"
   ]
  },
  {
   "cell_type": "markdown",
   "execution_count": null,
   "metadata": {
    "papermill": {
     "duration": 0.011222,
     "end_time": "2020-08-25T18:50:54.119965",
     "exception": false,
     "start_time": "2020-08-25T18:50:54.108743",
     "status": "completed"
    },
    "tags": []
   },
   "source": [
    "# <a id='CS'>Conditional Selection</a>\n",
    "[Go back to the main page](#main)"
   ]
  },
  {
   "cell_type": "code",
   "execution_count": 4,
   "metadata": {
    "execution": {
     "iopub.execute_input": "2020-08-25T18:50:54.184549Z",
     "iopub.status.busy": "2020-08-25T18:50:54.183416Z",
     "iopub.status.idle": "2020-08-25T18:50:54.190856Z",
     "shell.execute_reply": "2020-08-25T18:50:54.190256Z"
    },
    "papermill": {
     "duration": 0.05935,
     "end_time": "2020-08-25T18:50:54.190987",
     "exception": false,
     "start_time": "2020-08-25T18:50:54.131637",
     "status": "completed"
    },
    "tags": []
   },
   "outputs": [
    {
     "name": "stdout",
     "output_type": "stream",
     "text": [
      "    C   D   E\n",
      "A  42  35  23\n",
      "B  16  49  27\n",
      "Greater than 40\n",
      "        C      D      E\n",
      "A   True  False  False\n",
      "B  False   True  False\n",
      "Greater than 45\n",
      "        C      D      E\n",
      "A  False  False  False\n",
      "B  False   True  False\n",
      "A    42\n",
      "B    16\n",
      "Name: C, dtype: int64\n",
      "\n",
      "    C   D\n",
      "A  42  35\n",
      "B  16  49\n",
      "\n",
      "   X  Y  Z\n",
      "A  1  2  3\n",
      "B  4  5  6\n",
      "C  7  8  9 \n",
      "\n"
     ]
    },
    {
     "data": {
      "text/html": [
       "<div>\n",
       "<style scoped>\n",
       "    .dataframe tbody tr th:only-of-type {\n",
       "        vertical-align: middle;\n",
       "    }\n",
       "\n",
       "    .dataframe tbody tr th {\n",
       "        vertical-align: top;\n",
       "    }\n",
       "\n",
       "    .dataframe thead th {\n",
       "        text-align: right;\n",
       "    }\n",
       "</style>\n",
       "<table border=\"1\" class=\"dataframe\">\n",
       "  <thead>\n",
       "    <tr style=\"text-align: right;\">\n",
       "      <th></th>\n",
       "      <th>X</th>\n",
       "      <th>Y</th>\n",
       "      <th>Z</th>\n",
       "    </tr>\n",
       "  </thead>\n",
       "  <tbody>\n",
       "    <tr>\n",
       "      <th>B</th>\n",
       "      <td>4</td>\n",
       "      <td>5</td>\n",
       "      <td>6</td>\n",
       "    </tr>\n",
       "  </tbody>\n",
       "</table>\n",
       "</div>"
      ],
      "text/plain": [
       "   X  Y  Z\n",
       "B  4  5  6"
      ]
     },
     "execution_count": 4,
     "metadata": {},
     "output_type": "execute_result"
    }
   ],
   "source": [
    "arr_2 = np.random.randint(10, 50, size=(2, 3))\n",
    "df_1 = pd.DataFrame(arr_2, ['A', 'B'], ['C', 'D', 'E'])\n",
    "print(df_1)\n",
    "\n",
    "# You can use conditional operators to retrieve a table\n",
    "# based on the condition\n",
    "print(\"Greater than 40\\n\", df_1 > 40.0)\n",
    "\n",
    "# You can use comparison operater functions as well like\n",
    "# gt, lt, ge, le, eq, ne\n",
    "print(\"Greater than 45\\n\", df_1.gt(45.0))\n",
    "\n",
    "# You can place conditions in brackets as well\n",
    "bool_1 = df_1 >= 45.0\n",
    "df_1[bool_1]\n",
    "\n",
    "# Get bools for a column\n",
    "df_1['E'] > 40\n",
    "\n",
    "# Return a row if cell value in column matches a condition\n",
    "df_1[df_1['E']>30]\n",
    "\n",
    "# You can focus on a column based on resulting dataframe\n",
    "df_2 = df_1[df_1['E']>30]\n",
    "df_2['C']\n",
    "\n",
    "# You can stack these commands\n",
    "print(df_1[df_1['E']>20]['C'])\n",
    "print()\n",
    "\n",
    "# You can also grab multiple columns\n",
    "print(df_1[df_1['E']>20][['C', 'D']])\n",
    "print()\n",
    "\n",
    "# You can use multiple conditions\n",
    "arr_3 = np.array([[1, 2, 3], [4, 5, 6], [7, 8, 9]])\n",
    "df_2 = pd.DataFrame(arr_3, ['A', 'B', 'C'], ['X', 'Y', 'Z'])\n",
    "print(df_2, \"\\n\")\n",
    "# You can use or | to combine conditions as well\n",
    "df_2[(df_2['X']>3) & (df_2['X']<7)]"
   ]
  },
  {
   "cell_type": "markdown",
   "execution_count": null,
   "metadata": {
    "papermill": {
     "duration": 0.011402,
     "end_time": "2020-08-25T18:50:54.214216",
     "exception": false,
     "start_time": "2020-08-25T18:50:54.202814",
     "status": "completed"
    },
    "tags": []
   },
   "source": [
    "# <a id='FIO'>File Input / Output</a>\n",
    "[Go back to the main page](#main)\n",
    "\n",
    "Pandas can work with the following types of data : Pickling, Flat file, Clipboard, Excel, JSON, HTML, HDFStore: PyTables (HDF5), Feather, Parquet, ORC, SAS, SPSS, SQL, Google BigQuery, STATA\n",
    "\n",
    "### [Here Check it out!](https://pandas.pydata.org/pandas-docs/stable/reference/io.html#feather)"
   ]
  },
  {
   "cell_type": "code",
   "execution_count": 5,
   "metadata": {
    "execution": {
     "iopub.execute_input": "2020-08-25T18:50:54.243942Z",
     "iopub.status.busy": "2020-08-25T18:50:54.243145Z",
     "iopub.status.idle": "2020-08-25T18:51:06.286035Z",
     "shell.execute_reply": "2020-08-25T18:51:06.285224Z"
    },
    "papermill": {
     "duration": 12.059919,
     "end_time": "2020-08-25T18:51:06.286167",
     "exception": false,
     "start_time": "2020-08-25T18:50:54.226248",
     "status": "completed"
    },
    "tags": []
   },
   "outputs": [
    {
     "name": "stdout",
     "output_type": "stream",
     "text": [
      "Collecting pymysql\r\n",
      "  Downloading PyMySQL-0.10.0-py2.py3-none-any.whl (47 kB)\r\n",
      "\u001b[K     |████████████████████████████████| 47 kB 113 kB/s \r\n",
      "\u001b[?25hInstalling collected packages: pymysql\r\n",
      "Successfully installed pymysql-0.10.0\r\n",
      "\u001b[33mWARNING: You are using pip version 20.2.1; however, version 20.2.2 is available.\r\n",
      "You should consider upgrading via the '/opt/conda/bin/python3.7 -m pip install --upgrade pip' command.\u001b[0m\r\n"
     ]
    }
   ],
   "source": [
    "!pip install pymysql"
   ]
  },
  {
   "cell_type": "code",
   "execution_count": 6,
   "metadata": {
    "execution": {
     "iopub.execute_input": "2020-08-25T18:51:06.321446Z",
     "iopub.status.busy": "2020-08-25T18:51:06.320330Z",
     "iopub.status.idle": "2020-08-25T18:51:06.813359Z",
     "shell.execute_reply": "2020-08-25T18:51:06.812760Z"
    },
    "papermill": {
     "duration": 0.514572,
     "end_time": "2020-08-25T18:51:06.813500",
     "exception": false,
     "start_time": "2020-08-25T18:51:06.298928",
     "status": "completed"
    },
    "tags": []
   },
   "outputs": [
    {
     "data": {
      "text/plain": [
       "0     OH\n",
       "1     WV\n",
       "2     PA\n",
       "3     PA\n",
       "4     PA\n",
       "5     PA\n",
       "6     OH\n",
       "7     OH\n",
       "8     OH\n",
       "9     WV\n",
       "10    PA\n",
       "11    OH\n",
       "12    PA\n",
       "13    PA\n",
       "14    OH\n",
       "15    PA\n",
       "16    OH\n",
       "17    NY\n",
       "18    PA\n",
       "19    NY\n",
       "20    PA\n",
       "21    PA\n",
       "22    OH\n",
       "23    WV\n",
       "24    NY\n",
       "25    PA\n",
       "26    OH\n",
       "27    PA\n",
       "28    PA\n",
       "29    WV\n",
       "30    PA\n",
       "31    OH\n",
       "32    PA\n",
       "33    OH\n",
       "34    NY\n",
       "35    NY\n",
       "36    PA\n",
       "37    PA\n",
       "38    PA\n",
       "Name: State, dtype: object"
      ]
     },
     "execution_count": 6,
     "metadata": {},
     "output_type": "execute_result"
    }
   ],
   "source": [
    "import pymysql\n",
    "\n",
    "# Read a CSV file\n",
    "# Type pd.read_ [TAB] to see the file types you can read\n",
    "cs_df = pd.read_csv('../input/icecreamsales/ComputerSales.csv')\n",
    "\n",
    "# Save a CSV file, but don't save the index as a column\n",
    "# cs_df.to_csv('ComputerSalesBU.csv', index=False)\n",
    "\n",
    "# You can read data from Excel, but not formulas and macros\n",
    "pd.read_excel('../input/icecreamsales/Financial Sample.xlsx',0)\n",
    "\n",
    "# Write to Excel\n",
    "# cs_df.to_excel('ComputerSales.xlsx')\n",
    "\n",
    "# Check if written\n",
    "# pd.read_excel('ComputerSales.xlsx',0)\n",
    "\n",
    "# Read from MySQL Database\n",
    "# try:\n",
    "#     db_connection = pymysql.connect(db='students', user='studentadmin', passwd='TurtleDove', host='localhost', port=3306)\n",
    "\n",
    "#     stud_df = pd.read_sql('SELECT * FROM students', con=db_connection)\n",
    "#     # print(stud_df)\n",
    "# except Exception as e:\n",
    "#     print(\"Exception : {}\".format(e))\n",
    "# finally:\n",
    "#     db_connection.close()\n",
    "    \n",
    "\n",
    "# Write to table \n",
    "# try:\n",
    "#     db_connection = pymysql.connect(db='students', user='studentadmin', passwd='TurtleDove', host='localhost', port=3306)\n",
    "#     # Used to issue queries\n",
    "#     cursor = db_connection.cursor()\n",
    "#     # Query to enter new student\n",
    "#     insert_stmt = \"INSERT INTO students VALUES(NULL, 'Frank', 'Silva', 'fsilva@aol.com', '666 Hell St', 'Yakima', 'WA', 98901, '792-223-8966', '1959-2-22', 'M', NOW(), 3.50)\"\n",
    "#     # Execute query\n",
    "#     cursor.execute(insert_stmt)\n",
    "#     # Commit changes to DB\n",
    "#     db_connection.commit()\n",
    "#     stud_df = pd.read_sql('SELECT * FROM students', con=db_connection)\n",
    "#     print(stud_df)\n",
    "# except Exception as e:\n",
    "#     print(\"Exception : {}\".format(e))\n",
    "# finally:\n",
    "#     db_connection.close()\n",
    "\n",
    "# Just get 1 column of data \n",
    "cs_df_st = pd.read_csv('../input/icecreamsales/ComputerSales.csv', usecols=[\"State\"], squeeze=True)\n",
    "cs_df_st"
   ]
  },
  {
   "cell_type": "markdown",
   "execution_count": null,
   "metadata": {
    "papermill": {
     "duration": 0.012198,
     "end_time": "2020-08-25T18:51:06.838485",
     "exception": false,
     "start_time": "2020-08-25T18:51:06.826287",
     "status": "completed"
    },
    "tags": []
   },
   "source": [
    "# <a id='B&M'>Basics & Math</a>\n",
    "[Go back to the main page](#main)"
   ]
  },
  {
   "cell_type": "code",
   "execution_count": 7,
   "metadata": {
    "execution": {
     "iopub.execute_input": "2020-08-25T18:51:06.883803Z",
     "iopub.status.busy": "2020-08-25T18:51:06.878375Z",
     "iopub.status.idle": "2020-08-25T18:51:06.921936Z",
     "shell.execute_reply": "2020-08-25T18:51:06.921336Z"
    },
    "papermill": {
     "duration": 0.070771,
     "end_time": "2020-08-25T18:51:06.922081",
     "exception": false,
     "start_time": "2020-08-25T18:51:06.851310",
     "status": "completed"
    },
    "tags": []
   },
   "outputs": [
    {
     "name": "stdout",
     "output_type": "stream",
     "text": [
      "   one  two\n",
      "a  1.0  1.0\n",
      "b  2.0  2.0\n",
      "c  3.0  3.0\n",
      "d  0.0  4.0\n"
     ]
    },
    {
     "data": {
      "text/html": [
       "<div>\n",
       "<style scoped>\n",
       "    .dataframe tbody tr th:only-of-type {\n",
       "        vertical-align: middle;\n",
       "    }\n",
       "\n",
       "    .dataframe tbody tr th {\n",
       "        vertical-align: top;\n",
       "    }\n",
       "\n",
       "    .dataframe thead th {\n",
       "        text-align: right;\n",
       "    }\n",
       "</style>\n",
       "<table border=\"1\" class=\"dataframe\">\n",
       "  <thead>\n",
       "    <tr style=\"text-align: right;\">\n",
       "      <th></th>\n",
       "      <th>one</th>\n",
       "      <th>two</th>\n",
       "    </tr>\n",
       "  </thead>\n",
       "  <tbody>\n",
       "    <tr>\n",
       "      <th>a</th>\n",
       "      <td>False</td>\n",
       "      <td>False</td>\n",
       "    </tr>\n",
       "    <tr>\n",
       "      <th>b</th>\n",
       "      <td>False</td>\n",
       "      <td>False</td>\n",
       "    </tr>\n",
       "    <tr>\n",
       "      <th>c</th>\n",
       "      <td>False</td>\n",
       "      <td>False</td>\n",
       "    </tr>\n",
       "    <tr>\n",
       "      <th>d</th>\n",
       "      <td>True</td>\n",
       "      <td>False</td>\n",
       "    </tr>\n",
       "  </tbody>\n",
       "</table>\n",
       "</div>"
      ],
      "text/plain": [
       "     one    two\n",
       "a  False  False\n",
       "b  False  False\n",
       "c  False  False\n",
       "d   True  False"
      ]
     },
     "execution_count": 7,
     "metadata": {},
     "output_type": "execute_result"
    }
   ],
   "source": [
    "# Display 1st 5 rows\n",
    "cs_df.head()\n",
    "# Display last 5 rows\n",
    "cs_df.tail()\n",
    "# Get 1st 2\n",
    "cs_df[:2]\n",
    "# Get 1st through 5 with a 2 step\n",
    "cs_df[:5:2]\n",
    "\n",
    "# Get indexes\n",
    "cs_df.index.array\n",
    "# Get NumPy array\n",
    "cs_df.to_numpy()\n",
    "# Get array from series\n",
    "ser_1.array\n",
    "\n",
    "dict_3 = {'one': pd.Series([1., 2., 3.], index=['a', 'b', 'c']),\n",
    "         'two': pd.Series([1., 2., 3., 4.], index=['a', 'b', 'c', 'd'])}\n",
    "df_2 = pd.DataFrame(dict_3)\n",
    "\n",
    "# You can replace NaN values with 0 or anything else\n",
    "print(df_2.fillna(0))\n",
    "# Get values in row 2\n",
    "row = df_2.iloc[1]\n",
    "# Add items in row 2 to all rows including row 2\n",
    "# You can do the same with sub, mul, and div\n",
    "df_2.add(row, axis='columns')\n",
    "\n",
    "# Get column 2\n",
    "col = df_2['two']\n",
    "# Subtract from other columns\n",
    "df_2.sub(col, axis=0)\n",
    "\n",
    "# Check if empty\n",
    "df_2.empty\n",
    "\n",
    "# Transform executes a function on a dataframe\n",
    "df_5 = pd.DataFrame({'A': range(3), 'B': range(1, 4)})\n",
    "df_5.transform(lambda x: x+1)\n",
    "df_5.transform(lambda x: x**2)\n",
    "df_5.transform(lambda x: np.sqrt(x))\n",
    "# You can transform using multiple functions\n",
    "df_5.transform([lambda x: x**2, lambda x: x**3])\n",
    "# Passing a dictionary allows you to perform different calculations\n",
    "# on different columns\n",
    "df_5.transform({'A': lambda x: x**2, 'B': lambda x: x**3})\n",
    "\n",
    "# map performs a function on a series\n",
    "df_5['A'].map(lambda x: x**2)\n",
    "\n",
    "# applymap does the same on a dataframe\n",
    "df_5.applymap(lambda x: x**2)\n",
    "\n",
    "# Get unique values in column 2 of DF\n",
    "df_2['two'].unique()\n",
    "\n",
    "# Get number of uniques\n",
    "df_2['two'].nunique()\n",
    "\n",
    "# Get the number of times each value showed in column 2\n",
    "df_2['two'].value_counts()\n",
    "\n",
    "# Get column names\n",
    "df_2.columns\n",
    "\n",
    "# Get index info\n",
    "df_2.index\n",
    "\n",
    "# Return a DF that lists null values as True\n",
    "df_2.isnull()"
   ]
  },
  {
   "cell_type": "markdown",
   "execution_count": null,
   "metadata": {
    "papermill": {
     "duration": 0.012914,
     "end_time": "2020-08-25T18:51:06.947988",
     "exception": false,
     "start_time": "2020-08-25T18:51:06.935074",
     "status": "completed"
    },
    "tags": []
   },
   "source": [
    "# <a id='GD'>Group Data</a>\n",
    "[Go back to the main page](#main)"
   ]
  },
  {
   "cell_type": "code",
   "execution_count": 8,
   "metadata": {
    "execution": {
     "iopub.execute_input": "2020-08-25T18:51:06.998649Z",
     "iopub.status.busy": "2020-08-25T18:51:06.997542Z",
     "iopub.status.idle": "2020-08-25T18:51:07.027563Z",
     "shell.execute_reply": "2020-08-25T18:51:07.028141Z"
    },
    "papermill": {
     "duration": 0.067146,
     "end_time": "2020-08-25T18:51:07.028312",
     "exception": false,
     "start_time": "2020-08-25T18:51:06.961166",
     "status": "completed"
    },
    "tags": []
   },
   "outputs": [
    {
     "data": {
      "text/html": [
       "<div>\n",
       "<style scoped>\n",
       "    .dataframe tbody tr th:only-of-type {\n",
       "        vertical-align: middle;\n",
       "    }\n",
       "\n",
       "    .dataframe tbody tr th {\n",
       "        vertical-align: top;\n",
       "    }\n",
       "\n",
       "    .dataframe thead tr th {\n",
       "        text-align: left;\n",
       "    }\n",
       "\n",
       "    .dataframe thead tr:last-of-type th {\n",
       "        text-align: right;\n",
       "    }\n",
       "</style>\n",
       "<table border=\"1\" class=\"dataframe\">\n",
       "  <thead>\n",
       "    <tr>\n",
       "      <th></th>\n",
       "      <th colspan=\"8\" halign=\"left\">Sales</th>\n",
       "    </tr>\n",
       "    <tr>\n",
       "      <th></th>\n",
       "      <th>count</th>\n",
       "      <th>mean</th>\n",
       "      <th>std</th>\n",
       "      <th>min</th>\n",
       "      <th>25%</th>\n",
       "      <th>50%</th>\n",
       "      <th>75%</th>\n",
       "      <th>max</th>\n",
       "    </tr>\n",
       "    <tr>\n",
       "      <th>Store</th>\n",
       "      <th></th>\n",
       "      <th></th>\n",
       "      <th></th>\n",
       "      <th></th>\n",
       "      <th></th>\n",
       "      <th></th>\n",
       "      <th></th>\n",
       "      <th></th>\n",
       "    </tr>\n",
       "  </thead>\n",
       "  <tbody>\n",
       "    <tr>\n",
       "      <th>1</th>\n",
       "      <td>2.0</td>\n",
       "      <td>22.0</td>\n",
       "      <td>5.656854</td>\n",
       "      <td>18.0</td>\n",
       "      <td>20.0</td>\n",
       "      <td>22.0</td>\n",
       "      <td>24.0</td>\n",
       "      <td>26.0</td>\n",
       "    </tr>\n",
       "    <tr>\n",
       "      <th>2</th>\n",
       "      <td>2.0</td>\n",
       "      <td>17.0</td>\n",
       "      <td>7.071068</td>\n",
       "      <td>12.0</td>\n",
       "      <td>14.5</td>\n",
       "      <td>17.0</td>\n",
       "      <td>19.5</td>\n",
       "      <td>22.0</td>\n",
       "    </tr>\n",
       "  </tbody>\n",
       "</table>\n",
       "</div>"
      ],
      "text/plain": [
       "      Sales                                              \n",
       "      count  mean       std   min   25%   50%   75%   max\n",
       "Store                                                    \n",
       "1       2.0  22.0  5.656854  18.0  20.0  22.0  24.0  26.0\n",
       "2       2.0  17.0  7.071068  12.0  14.5  17.0  19.5  22.0"
      ]
     },
     "execution_count": 8,
     "metadata": {},
     "output_type": "execute_result"
    }
   ],
   "source": [
    "# Groupby allows you to group rows based on a columnand perform a function\n",
    "# that combines those values (Aggregate Function)\n",
    "dict_5 = {'Store': [1,2,1,2], 'Flavor': ['Choc', 'Van', 'Straw', 'Choc'], \n",
    "         'Sales': [26, 12, 18, 22]}\n",
    "\n",
    "df_11 = pd.DataFrame(dict_5)\n",
    "\n",
    "# Group data by the store number\n",
    "by_store = df_11.groupby('Store')\n",
    "# Get mean sales by store\n",
    "by_store.mean()\n",
    "\n",
    "# Get sales total just for store 1\n",
    "by_store.sum().loc[1]\n",
    "\n",
    "# You can use multiple functions of get a bunch\n",
    "by_store.describe()"
   ]
  },
  {
   "cell_type": "markdown",
   "execution_count": null,
   "metadata": {
    "papermill": {
     "duration": 0.013009,
     "end_time": "2020-08-25T18:51:07.054961",
     "exception": false,
     "start_time": "2020-08-25T18:51:07.041952",
     "status": "completed"
    },
    "tags": []
   },
   "source": [
    "# <a id='CM&JD'>Concatenate Merge & Join Data</a>\n",
    "[Go back to the main page](#main)"
   ]
  },
  {
   "cell_type": "code",
   "execution_count": 9,
   "metadata": {
    "execution": {
     "iopub.execute_input": "2020-08-25T18:51:07.096411Z",
     "iopub.status.busy": "2020-08-25T18:51:07.095576Z",
     "iopub.status.idle": "2020-08-25T18:51:07.124164Z",
     "shell.execute_reply": "2020-08-25T18:51:07.123476Z"
    },
    "papermill": {
     "duration": 0.056075,
     "end_time": "2020-08-25T18:51:07.124294",
     "exception": false,
     "start_time": "2020-08-25T18:51:07.068219",
     "status": "completed"
    },
    "tags": []
   },
   "outputs": [
    {
     "data": {
      "text/html": [
       "<div>\n",
       "<style scoped>\n",
       "    .dataframe tbody tr th:only-of-type {\n",
       "        vertical-align: middle;\n",
       "    }\n",
       "\n",
       "    .dataframe tbody tr th {\n",
       "        vertical-align: top;\n",
       "    }\n",
       "\n",
       "    .dataframe thead th {\n",
       "        text-align: right;\n",
       "    }\n",
       "</style>\n",
       "<table border=\"1\" class=\"dataframe\">\n",
       "  <thead>\n",
       "    <tr style=\"text-align: right;\">\n",
       "      <th></th>\n",
       "      <th>A</th>\n",
       "      <th>B</th>\n",
       "      <th>C</th>\n",
       "      <th>D</th>\n",
       "    </tr>\n",
       "  </thead>\n",
       "  <tbody>\n",
       "    <tr>\n",
       "      <th>1</th>\n",
       "      <td>1.0</td>\n",
       "      <td>4.0</td>\n",
       "      <td>7.0</td>\n",
       "      <td>10.0</td>\n",
       "    </tr>\n",
       "    <tr>\n",
       "      <th>2</th>\n",
       "      <td>2.0</td>\n",
       "      <td>5.0</td>\n",
       "      <td>NaN</td>\n",
       "      <td>NaN</td>\n",
       "    </tr>\n",
       "    <tr>\n",
       "      <th>3</th>\n",
       "      <td>3.0</td>\n",
       "      <td>6.0</td>\n",
       "      <td>NaN</td>\n",
       "      <td>NaN</td>\n",
       "    </tr>\n",
       "    <tr>\n",
       "      <th>4</th>\n",
       "      <td>NaN</td>\n",
       "      <td>NaN</td>\n",
       "      <td>8.0</td>\n",
       "      <td>11.0</td>\n",
       "    </tr>\n",
       "    <tr>\n",
       "      <th>5</th>\n",
       "      <td>NaN</td>\n",
       "      <td>NaN</td>\n",
       "      <td>9.0</td>\n",
       "      <td>12.0</td>\n",
       "    </tr>\n",
       "  </tbody>\n",
       "</table>\n",
       "</div>"
      ],
      "text/plain": [
       "     A    B    C     D\n",
       "1  1.0  4.0  7.0  10.0\n",
       "2  2.0  5.0  NaN   NaN\n",
       "3  3.0  6.0  NaN   NaN\n",
       "4  NaN  NaN  8.0  11.0\n",
       "5  NaN  NaN  9.0  12.0"
      ]
     },
     "execution_count": 9,
     "metadata": {},
     "output_type": "execute_result"
    }
   ],
   "source": [
    "# You can concatenate DFs in the order DFs are provided\n",
    "df_12 = pd.DataFrame({'A': [1,2,3],\n",
    "                     'B': [4,5,6]},\n",
    "                    index=[1,2,3])\n",
    "df_13 = pd.DataFrame({'A': [7,8,9],\n",
    "                     'B': [10,11,12]},\n",
    "                    index=[4,5,6])\n",
    "pd.concat([df_12, df_13])\n",
    "\n",
    "# Merge 2 DFs using their shared key column\n",
    "df_12 = pd.DataFrame({'A': [1,2,3],\n",
    "                     'B': [4,5,6],\n",
    "                     'key': [1,2,3]})\n",
    "df_13 = pd.DataFrame({'A': [7,8,9],\n",
    "                     'B': [10,11,12],\n",
    "                     'key': [1,2,3]})\n",
    "# inner merges at the intersection of keys\n",
    "pd.merge(df_12, df_13, how='inner', on='key')\n",
    "# how='left' or 'right' : Use keys from left or right frame\n",
    "# how='outer' : Use union of keys\n",
    "\n",
    "# You can join DFs with different indexes and instead of using \n",
    "# keys use a column\n",
    "df_12 = pd.DataFrame({'A': [1,2,3],\n",
    "                     'B': [4,5,6]},\n",
    "                    index=[1,2,3])\n",
    "df_13 = pd.DataFrame({'C': [7,8,9],\n",
    "                     'D': [10,11,12]},\n",
    "                    index=[1,4,5])\n",
    "df_12.join(df_13, how='outer')"
   ]
  },
  {
   "cell_type": "markdown",
   "execution_count": null,
   "metadata": {
    "papermill": {
     "duration": 0.013282,
     "end_time": "2020-08-25T18:51:07.151317",
     "exception": false,
     "start_time": "2020-08-25T18:51:07.138035",
     "status": "completed"
    },
    "tags": []
   },
   "source": [
    "# <a id='ST'>Statistics</a>\n",
    "[Go back to the main page](#main)"
   ]
  },
  {
   "cell_type": "code",
   "execution_count": 10,
   "metadata": {
    "execution": {
     "iopub.execute_input": "2020-08-25T18:51:07.193312Z",
     "iopub.status.busy": "2020-08-25T18:51:07.192514Z",
     "iopub.status.idle": "2020-08-25T18:51:07.232520Z",
     "shell.execute_reply": "2020-08-25T18:51:07.231647Z"
    },
    "papermill": {
     "duration": 0.067571,
     "end_time": "2020-08-25T18:51:07.232711",
     "exception": false,
     "start_time": "2020-08-25T18:51:07.165140",
     "status": "completed"
    },
    "tags": []
   },
   "outputs": [
    {
     "name": "stdout",
     "output_type": "stream",
     "text": [
      "   one  two\n",
      "a  1.0  1.0\n",
      "b  2.0  2.0\n",
      "c  3.0  3.0\n",
      "d  NaN  4.0\n"
     ]
    },
    {
     "data": {
      "text/html": [
       "<div>\n",
       "<style scoped>\n",
       "    .dataframe tbody tr th:only-of-type {\n",
       "        vertical-align: middle;\n",
       "    }\n",
       "\n",
       "    .dataframe tbody tr th {\n",
       "        vertical-align: top;\n",
       "    }\n",
       "\n",
       "    .dataframe thead th {\n",
       "        text-align: right;\n",
       "    }\n",
       "</style>\n",
       "<table border=\"1\" class=\"dataframe\">\n",
       "  <thead>\n",
       "    <tr style=\"text-align: right;\">\n",
       "      <th></th>\n",
       "      <th>one</th>\n",
       "      <th>two</th>\n",
       "    </tr>\n",
       "  </thead>\n",
       "  <tbody>\n",
       "    <tr>\n",
       "      <th>mean</th>\n",
       "      <td>2.0</td>\n",
       "      <td>2.500000</td>\n",
       "    </tr>\n",
       "    <tr>\n",
       "      <th>std</th>\n",
       "      <td>1.0</td>\n",
       "      <td>1.290994</td>\n",
       "    </tr>\n",
       "  </tbody>\n",
       "</table>\n",
       "</div>"
      ],
      "text/plain": [
       "      one       two\n",
       "mean  2.0  2.500000\n",
       "std   1.0  1.290994"
      ]
     },
     "execution_count": 10,
     "metadata": {},
     "output_type": "execute_result"
    }
   ],
   "source": [
    "# Get ice cream sales data\n",
    "ics_df = pd.read_csv('../input/icecreamsales/icecreamsales.csv')\n",
    "ics_df\n",
    "\n",
    "# Get total count of both columns\n",
    "ics_df.count()\n",
    "\n",
    "# skipna skips null / NaN values\n",
    "ics_df.sum(skipna=True)\n",
    "# Get mean for named column\n",
    "ics_df[\"Sales\"].mean()\n",
    "ics_df[\"Sales\"].median()\n",
    "ics_df[\"Sales\"].mode()\n",
    "ics_df[\"Sales\"].min()\n",
    "ics_df[\"Sales\"].max()\n",
    "ics_df[\"Sales\"].prod() # Product of values\n",
    "ics_df[\"Sales\"].std() # Standard deviation\n",
    "ics_df[\"Sales\"].var() # Variance\n",
    "ics_df[\"Sales\"].sem() # Standard error\n",
    "# Negative : Left long tail, Positive : Right long tail\n",
    "ics_df[\"Sales\"].skew()\n",
    "# Kurtosis : < 3 less outliers, 3 Normal Distribution,\n",
    "# > 3 more outliers\n",
    "ics_df[\"Sales\"].kurt()\n",
    "ics_df[\"Sales\"].quantile(.5)\n",
    "ics_df[\"Sales\"].cumsum()\n",
    "ics_df[\"Sales\"].cumprod()\n",
    "ics_df[\"Sales\"].cummax()\n",
    "ics_df[\"Sales\"].cummin()\n",
    "\n",
    "# Multiple stats at once\n",
    "ics_df.describe()\n",
    "\n",
    "ser_dice = pd.Series(data=[2, 3, 3, 4, 4, 4, 5, 5, 5, 5, 6, 6, \n",
    "                           6, 6, 6, 7, 7, 7, 7, 7, 7, 8, 8, 8,\n",
    "                          8, 8, 9, 9, 9, 9, 10, 10, 10, 11, 11, 12])\n",
    "# Count for each value in series\n",
    "ser_dice.value_counts()\n",
    "\n",
    "# You can perform calculations on multiple columns using\n",
    "# aggregate\n",
    "print(df_2)\n",
    "df_2.agg(np.mean)\n",
    "\n",
    "# You can do this with multiple functions\n",
    "df_2.agg(['mean', 'std'])"
   ]
  },
  {
   "cell_type": "markdown",
   "execution_count": null,
   "metadata": {
    "papermill": {
     "duration": 0.013738,
     "end_time": "2020-08-25T18:51:07.260746",
     "exception": false,
     "start_time": "2020-08-25T18:51:07.247008",
     "status": "completed"
    },
    "tags": []
   },
   "source": [
    "# <a id='I'>Iteration</a>\n",
    "[Go back to the main page](#main)"
   ]
  },
  {
   "cell_type": "code",
   "execution_count": 11,
   "metadata": {
    "execution": {
     "iopub.execute_input": "2020-08-25T18:51:07.298689Z",
     "iopub.status.busy": "2020-08-25T18:51:07.297571Z",
     "iopub.status.idle": "2020-08-25T18:51:07.314946Z",
     "shell.execute_reply": "2020-08-25T18:51:07.314175Z"
    },
    "papermill": {
     "duration": 0.040325,
     "end_time": "2020-08-25T18:51:07.315080",
     "exception": false,
     "start_time": "2020-08-25T18:51:07.274755",
     "status": "completed"
    },
    "tags": []
   },
   "outputs": [
    {
     "name": "stdout",
     "output_type": "stream",
     "text": [
      "0\n",
      "1\n",
      "2\n",
      "3\n",
      "4\n",
      "\n",
      "    C   D   E\n",
      "B  12  13  14\n",
      "C  12  37  18\n",
      "C\n",
      "B    12\n",
      "C    12\n",
      "Name: C, dtype: int64\n",
      "D\n",
      "B    13\n",
      "C    37\n",
      "Name: D, dtype: int64\n",
      "E\n",
      "B    14\n",
      "C    18\n",
      "Name: E, dtype: int64\n",
      "\n",
      "B\n",
      "C    12\n",
      "D    13\n",
      "E    14\n",
      "Name: B, dtype: int64\n",
      "C\n",
      "C    12\n",
      "D    37\n",
      "E    18\n",
      "Name: C, dtype: int64\n",
      "\n",
      "Pandas(Index='B', C=12, D=13, E=14)\n",
      "Pandas(Index='C', C=12, D=37, E=18)\n"
     ]
    }
   ],
   "source": [
    "\n",
    "# Iterating over series\n",
    "ser_7 = pd.Series(range(5), index=['a', 'b', 'c', 'd', 'e'])\n",
    "for col in ser_7:\n",
    "    print(col)\n",
    "    \n",
    "print()\n",
    "# Iterating over DFs\n",
    "arr_4 = np.random.randint(10, 50, size=(2, 3))\n",
    "df_8 = pd.DataFrame(arr_4, ['B', 'C'], ['C', 'D', 'E'])\n",
    "print(df_8)\n",
    "\n",
    "# items allows you to iterate through key value pairs to make\n",
    "# calculations 1 column at a time\n",
    "for label, ser in df_8.items():\n",
    "    print(label)\n",
    "    print(ser)\n",
    "    \n",
    "print()\n",
    "# You can also iterate through rows\n",
    "for index, row in df_8.iterrows():\n",
    "    print(f\"{index}\\n{row}\")\n",
    "print()\n",
    "\n",
    "# Get a tuple that contains row data\n",
    "for row in df_8.itertuples():\n",
    "    print(row)"
   ]
  },
  {
   "cell_type": "markdown",
   "execution_count": null,
   "metadata": {
    "papermill": {
     "duration": 0.013807,
     "end_time": "2020-08-25T18:51:07.343278",
     "exception": false,
     "start_time": "2020-08-25T18:51:07.329471",
     "status": "completed"
    },
    "tags": []
   },
   "source": [
    "# <a id='SO'>Sorting</a>\n",
    "[Go back to the main page](#main)"
   ]
  },
  {
   "cell_type": "code",
   "execution_count": 12,
   "metadata": {
    "execution": {
     "iopub.execute_input": "2020-08-25T18:51:07.383209Z",
     "iopub.status.busy": "2020-08-25T18:51:07.382294Z",
     "iopub.status.idle": "2020-08-25T18:51:07.387475Z",
     "shell.execute_reply": "2020-08-25T18:51:07.386812Z"
    },
    "papermill": {
     "duration": 0.03014,
     "end_time": "2020-08-25T18:51:07.387618",
     "exception": false,
     "start_time": "2020-08-25T18:51:07.357478",
     "status": "completed"
    },
    "tags": []
   },
   "outputs": [
    {
     "data": {
      "text/html": [
       "<div>\n",
       "<style scoped>\n",
       "    .dataframe tbody tr th:only-of-type {\n",
       "        vertical-align: middle;\n",
       "    }\n",
       "\n",
       "    .dataframe tbody tr th {\n",
       "        vertical-align: top;\n",
       "    }\n",
       "\n",
       "    .dataframe thead th {\n",
       "        text-align: right;\n",
       "    }\n",
       "</style>\n",
       "<table border=\"1\" class=\"dataframe\">\n",
       "  <thead>\n",
       "    <tr style=\"text-align: right;\">\n",
       "      <th></th>\n",
       "      <th>C</th>\n",
       "      <th>D</th>\n",
       "      <th>E</th>\n",
       "    </tr>\n",
       "  </thead>\n",
       "  <tbody>\n",
       "    <tr>\n",
       "      <th>B</th>\n",
       "      <td>12</td>\n",
       "      <td>13</td>\n",
       "      <td>14</td>\n",
       "    </tr>\n",
       "    <tr>\n",
       "      <th>C</th>\n",
       "      <td>12</td>\n",
       "      <td>37</td>\n",
       "      <td>18</td>\n",
       "    </tr>\n",
       "  </tbody>\n",
       "</table>\n",
       "</div>"
      ],
      "text/plain": [
       "    C   D   E\n",
       "B  12  13  14\n",
       "C  12  37  18"
      ]
     },
     "execution_count": 12,
     "metadata": {},
     "output_type": "execute_result"
    }
   ],
   "source": [
    "df_8\n",
    "\n",
    "# Sorting by index will return the same results if indexes\n",
    "# are in order, to reverse indexes mark ascending as False\n",
    "df_8.sort_index(ascending=False)\n",
    "\n",
    "# Sort by value for column D (Use the same function for series)\n",
    "df_8.sort_values(by='D')"
   ]
  },
  {
   "cell_type": "markdown",
   "execution_count": null,
   "metadata": {
    "papermill": {
     "duration": 0.01464,
     "end_time": "2020-08-25T18:51:07.416864",
     "exception": false,
     "start_time": "2020-08-25T18:51:07.402224",
     "status": "completed"
    },
    "tags": []
   },
   "source": [
    "# <a id='PDTF'>Passing Data to Functions</a>\n",
    "[Go back to the main page](#main)"
   ]
  },
  {
   "cell_type": "code",
   "execution_count": 13,
   "metadata": {
    "execution": {
     "iopub.execute_input": "2020-08-25T18:51:07.465111Z",
     "iopub.status.busy": "2020-08-25T18:51:07.459830Z",
     "iopub.status.idle": "2020-08-25T18:51:07.535047Z",
     "shell.execute_reply": "2020-08-25T18:51:07.534410Z"
    },
    "papermill": {
     "duration": 0.103687,
     "end_time": "2020-08-25T18:51:07.535186",
     "exception": false,
     "start_time": "2020-08-25T18:51:07.431499",
     "status": "completed"
    },
    "tags": []
   },
   "outputs": [
    {
     "name": "stdout",
     "output_type": "stream",
     "text": [
      "Total Profit : 5459.010000000001\n"
     ]
    },
    {
     "data": {
      "text/html": [
       "<div>\n",
       "<style scoped>\n",
       "    .dataframe tbody tr th:only-of-type {\n",
       "        vertical-align: middle;\n",
       "    }\n",
       "\n",
       "    .dataframe tbody tr th {\n",
       "        vertical-align: top;\n",
       "    }\n",
       "\n",
       "    .dataframe thead th {\n",
       "        text-align: right;\n",
       "    }\n",
       "</style>\n",
       "<table border=\"1\" class=\"dataframe\">\n",
       "  <thead>\n",
       "    <tr style=\"text-align: right;\">\n",
       "      <th></th>\n",
       "      <th>Sale ID</th>\n",
       "      <th>Contact</th>\n",
       "      <th>Sex</th>\n",
       "      <th>Age</th>\n",
       "      <th>State</th>\n",
       "      <th>Product ID</th>\n",
       "      <th>Product Type</th>\n",
       "      <th>Sale Price</th>\n",
       "      <th>Profit</th>\n",
       "      <th>Lead</th>\n",
       "      <th>Month</th>\n",
       "      <th>Year</th>\n",
       "      <th>First Name</th>\n",
       "      <th>Last Name</th>\n",
       "      <th>Age Group</th>\n",
       "    </tr>\n",
       "  </thead>\n",
       "  <tbody>\n",
       "    <tr>\n",
       "      <th>0</th>\n",
       "      <td>1</td>\n",
       "      <td>Paul Thomas</td>\n",
       "      <td>M</td>\n",
       "      <td>43</td>\n",
       "      <td>OH</td>\n",
       "      <td>M01-F0024</td>\n",
       "      <td>Desktop</td>\n",
       "      <td>479.99</td>\n",
       "      <td>143.39</td>\n",
       "      <td>Website</td>\n",
       "      <td>January</td>\n",
       "      <td>2018</td>\n",
       "      <td>Paul</td>\n",
       "      <td>Thomas</td>\n",
       "      <td>30-50</td>\n",
       "    </tr>\n",
       "    <tr>\n",
       "      <th>1</th>\n",
       "      <td>2</td>\n",
       "      <td>Margo Simms</td>\n",
       "      <td>F</td>\n",
       "      <td>37</td>\n",
       "      <td>WV</td>\n",
       "      <td>GT13-0024</td>\n",
       "      <td>Desktop</td>\n",
       "      <td>1249.99</td>\n",
       "      <td>230.89</td>\n",
       "      <td>Flyer 4</td>\n",
       "      <td>January</td>\n",
       "      <td>2018</td>\n",
       "      <td>Margo</td>\n",
       "      <td>Simms</td>\n",
       "      <td>30-50</td>\n",
       "    </tr>\n",
       "    <tr>\n",
       "      <th>2</th>\n",
       "      <td>3</td>\n",
       "      <td>Sam Stine</td>\n",
       "      <td>M</td>\n",
       "      <td>26</td>\n",
       "      <td>PA</td>\n",
       "      <td>I3670</td>\n",
       "      <td>Desktop</td>\n",
       "      <td>649.99</td>\n",
       "      <td>118.64</td>\n",
       "      <td>Website</td>\n",
       "      <td>February</td>\n",
       "      <td>2018</td>\n",
       "      <td>Sam</td>\n",
       "      <td>Stine</td>\n",
       "      <td>&lt;30</td>\n",
       "    </tr>\n",
       "    <tr>\n",
       "      <th>3</th>\n",
       "      <td>4</td>\n",
       "      <td>Moe Eggert</td>\n",
       "      <td>M</td>\n",
       "      <td>35</td>\n",
       "      <td>PA</td>\n",
       "      <td>I3593</td>\n",
       "      <td>Laptop</td>\n",
       "      <td>399.99</td>\n",
       "      <td>72.09</td>\n",
       "      <td>Website</td>\n",
       "      <td>March</td>\n",
       "      <td>2018</td>\n",
       "      <td>Moe</td>\n",
       "      <td>Eggert</td>\n",
       "      <td>30-50</td>\n",
       "    </tr>\n",
       "    <tr>\n",
       "      <th>4</th>\n",
       "      <td>5</td>\n",
       "      <td>Jessica Elk</td>\n",
       "      <td>F</td>\n",
       "      <td>55</td>\n",
       "      <td>PA</td>\n",
       "      <td>15M-ED</td>\n",
       "      <td>Laptop</td>\n",
       "      <td>699.99</td>\n",
       "      <td>98.09</td>\n",
       "      <td>Flyer 4</td>\n",
       "      <td>March</td>\n",
       "      <td>2018</td>\n",
       "      <td>Jessica</td>\n",
       "      <td>Elk</td>\n",
       "      <td>&gt;50</td>\n",
       "    </tr>\n",
       "  </tbody>\n",
       "</table>\n",
       "</div>"
      ],
      "text/plain": [
       "   Sale ID      Contact Sex  Age State Product ID Product Type  Sale Price  \\\n",
       "0        1  Paul Thomas   M   43    OH  M01-F0024      Desktop      479.99   \n",
       "1        2  Margo Simms   F   37    WV  GT13-0024      Desktop     1249.99   \n",
       "2        3    Sam Stine   M   26    PA      I3670      Desktop      649.99   \n",
       "3        4   Moe Eggert   M   35    PA      I3593       Laptop      399.99   \n",
       "4        5  Jessica Elk   F   55    PA     15M-ED       Laptop      699.99   \n",
       "\n",
       "   Profit     Lead     Month  Year First Name Last Name Age Group  \n",
       "0  143.39  Website   January  2018       Paul    Thomas     30-50  \n",
       "1  230.89  Flyer 4   January  2018      Margo     Simms     30-50  \n",
       "2  118.64  Website  February  2018        Sam     Stine       <30  \n",
       "3   72.09  Website     March  2018        Moe    Eggert     30-50  \n",
       "4   98.09  Flyer 4     March  2018    Jessica       Elk       >50  "
      ]
     },
     "execution_count": 13,
     "metadata": {},
     "output_type": "execute_result"
    }
   ],
   "source": [
    "import sys\n",
    "\n",
    "# You can pass DataFrames and Series into functions\n",
    "def get_profit_total(df):\n",
    "    prof_ser = df['Profit']\n",
    "    print(f\"Total Profit : {prof_ser.sum()}\")\n",
    "\n",
    "get_profit_total(cs_df)\n",
    "\n",
    "# Receives a DataFrame, splits the contact into new columns\n",
    "# being first and last name\n",
    "def split_name(df):\n",
    "    def get_names(full_name):\n",
    "        # Split contact at space\n",
    "        f_name, l_name = full_name.split()\n",
    "        # Create a series with first & last names in columns\n",
    "        # with those labels\n",
    "        return pd.Series(\n",
    "        (f_name, l_name),\n",
    "        index=['First Name', 'Last Name']\n",
    "        )\n",
    "    # apply() executes the function on all names in Contact column\n",
    "    names = df['Contact'].apply(get_names)\n",
    "    df[names.columns] = names\n",
    "    return df\n",
    "\n",
    "# Run function and display top 5 results\n",
    "split_name(cs_df).head()\n",
    "\n",
    "# Will assign people to different age groups based on age\n",
    "def create_age_groups(df):\n",
    "    # Must have 1 more bins than labels\n",
    "    bins = [0, 30, 50, sys.maxsize]\n",
    "    # Group labels\n",
    "    labels = ['<30', '30-50', '>50']\n",
    "    \n",
    "    # cut puts values into certain groups based on intervals\n",
    "    # The group assigned to <30 has an age between 0 and 30\n",
    "    # between 30 & 50 is assigned 30-50 and so on\n",
    "    age_group = pd.cut(df['Age'], bins=bins, labels=labels)\n",
    "    # Create new column and return new dataframe info\n",
    "    df['Age Group'] = age_group\n",
    "    return df\n",
    "\n",
    "create_age_groups(cs_df)\n",
    "\n",
    "# You can use a pipe to pass a dataframe to multiple functions\n",
    "cs_df.pipe(split_name).pipe(create_age_groups).head()"
   ]
  },
  {
   "cell_type": "markdown",
   "execution_count": null,
   "metadata": {
    "papermill": {
     "duration": 0.014454,
     "end_time": "2020-08-25T18:51:07.565210",
     "exception": false,
     "start_time": "2020-08-25T18:51:07.550756",
     "status": "completed"
    },
    "tags": []
   },
   "source": [
    "# <a id='ARARL'>Aligning, Reindexing and Renaming Labels</a>\n",
    "[Go back to the main page](#main)"
   ]
  },
  {
   "cell_type": "code",
   "execution_count": 14,
   "metadata": {
    "execution": {
     "iopub.execute_input": "2020-08-25T18:51:07.631687Z",
     "iopub.status.busy": "2020-08-25T18:51:07.603486Z",
     "iopub.status.idle": "2020-08-25T18:51:07.637371Z",
     "shell.execute_reply": "2020-08-25T18:51:07.636650Z"
    },
    "papermill": {
     "duration": 0.057557,
     "end_time": "2020-08-25T18:51:07.637507",
     "exception": false,
     "start_time": "2020-08-25T18:51:07.579950",
     "status": "completed"
    },
    "tags": []
   },
   "outputs": [
    {
     "name": "stdout",
     "output_type": "stream",
     "text": [
      "a    0\n",
      "b    1\n",
      "c    2\n",
      "d    3\n",
      "dtype: int64\n",
      "b    1\n",
      "c    2\n",
      "d    3\n",
      "e    4\n",
      "dtype: int64\n"
     ]
    },
    {
     "data": {
      "text/html": [
       "<div>\n",
       "<style scoped>\n",
       "    .dataframe tbody tr th:only-of-type {\n",
       "        vertical-align: middle;\n",
       "    }\n",
       "\n",
       "    .dataframe tbody tr th {\n",
       "        vertical-align: top;\n",
       "    }\n",
       "\n",
       "    .dataframe thead th {\n",
       "        text-align: right;\n",
       "    }\n",
       "</style>\n",
       "<table border=\"1\" class=\"dataframe\">\n",
       "  <thead>\n",
       "    <tr style=\"text-align: right;\">\n",
       "      <th></th>\n",
       "      <th>Men</th>\n",
       "      <th>Women</th>\n",
       "      <th>Pets</th>\n",
       "    </tr>\n",
       "  </thead>\n",
       "  <tbody>\n",
       "    <tr>\n",
       "      <th>1</th>\n",
       "      <td>41</td>\n",
       "      <td>43</td>\n",
       "      <td>21</td>\n",
       "    </tr>\n",
       "    <tr>\n",
       "      <th>2</th>\n",
       "      <td>25</td>\n",
       "      <td>47</td>\n",
       "      <td>24</td>\n",
       "    </tr>\n",
       "  </tbody>\n",
       "</table>\n",
       "</div>"
      ],
      "text/plain": [
       "   Men  Women  Pets\n",
       "1   41     43    21\n",
       "2   25     47    24"
      ]
     },
     "execution_count": 14,
     "metadata": {},
     "output_type": "execute_result"
    }
   ],
   "source": [
    "ser_6 = pd.Series(range(5), index=['a', 'b', 'c', 'd', 'e'])\n",
    "sl_1 = ser_6[:4]\n",
    "sl_2 = ser_6[1:]\n",
    "print(sl_1)\n",
    "print(sl_2)\n",
    "# Align both series by the union of their indexes\n",
    "sl_1.align(sl_2)\n",
    "# Align by calling series\n",
    "sl_1.align(sl_2, join='left')\n",
    "# Use passed series indexes\n",
    "sl_1.align(sl_2, join='right')\n",
    "# Get where indexes intersect\n",
    "sl_1.align(sl_2, join='inner')\n",
    "\n",
    "# You can use align with DFs as well\n",
    "arr_3 = np.random.randint(10, 50, size=(2, 3))\n",
    "df_6 = pd.DataFrame(arr_3, ['A', 'B'], ['C', 'D', 'E'])\n",
    "arr_3 = np.random.randint(10, 50, size=(2, 3))\n",
    "df_7 = pd.DataFrame(arr_3, ['B', 'C'], ['C', 'D', 'E'])\n",
    "df_6\n",
    "df_6.align(df_7)\n",
    "\n",
    "# reindex allows you to align data by index\n",
    "ser_6.reindex(['c','b','a'])\n",
    "\n",
    "# Do the same with DFs\n",
    "df_6.reindex(['B','A'])\n",
    "\n",
    "# Drop is very similar to reindex except it receives labels\n",
    "# you don't want to include\n",
    "df_6.drop(['A'], axis=0)\n",
    "df_6.drop(['D'], axis=1)\n",
    "\n",
    "# You can rename labels\n",
    "df_6.rename(columns={'C': 'Men', 'D': 'Women', 'E': 'Pets'},\n",
    "           index={'A': 1, 'B': 2})"
   ]
  },
  {
   "cell_type": "markdown",
   "execution_count": null,
   "metadata": {
    "papermill": {
     "duration": 0.014637,
     "end_time": "2020-08-25T18:51:07.667415",
     "exception": false,
     "start_time": "2020-08-25T18:51:07.652778",
     "status": "completed"
    },
    "tags": []
   },
   "source": [
    "# <a id='M'>MultiIndex</a>\n",
    "[Go back to the main page](#main)"
   ]
  },
  {
   "cell_type": "code",
   "execution_count": 15,
   "metadata": {
    "execution": {
     "iopub.execute_input": "2020-08-25T18:51:07.724415Z",
     "iopub.status.busy": "2020-08-25T18:51:07.712305Z",
     "iopub.status.idle": "2020-08-25T18:51:07.752262Z",
     "shell.execute_reply": "2020-08-25T18:51:07.751516Z"
    },
    "papermill": {
     "duration": 0.069398,
     "end_time": "2020-08-25T18:51:07.752392",
     "exception": false,
     "start_time": "2020-08-25T18:51:07.682994",
     "status": "completed"
    },
    "tags": []
   },
   "outputs": [
    {
     "name": "stdout",
     "output_type": "stream",
     "text": [
      "[('Day 1', 1), ('Day 1', 2), ('Day 1', 3), ('Day 2', 1), ('Day 2', 2), ('Day 2', 3)]\n",
      "           M    F\n",
      "Day 1 1  673  679\n",
      "      2  538  695\n",
      "      3  575  570\n",
      "Day 2 1  557  608\n",
      "      2  524  568\n",
      "      3  665  698\n"
     ]
    },
    {
     "data": {
      "text/html": [
       "<div>\n",
       "<style scoped>\n",
       "    .dataframe tbody tr th:only-of-type {\n",
       "        vertical-align: middle;\n",
       "    }\n",
       "\n",
       "    .dataframe tbody tr th {\n",
       "        vertical-align: top;\n",
       "    }\n",
       "\n",
       "    .dataframe thead th {\n",
       "        text-align: right;\n",
       "    }\n",
       "</style>\n",
       "<table border=\"1\" class=\"dataframe\">\n",
       "  <thead>\n",
       "    <tr style=\"text-align: right;\">\n",
       "      <th></th>\n",
       "      <th>C</th>\n",
       "      <th>F</th>\n",
       "      <th>M</th>\n",
       "    </tr>\n",
       "    <tr>\n",
       "      <th>A</th>\n",
       "      <th>B</th>\n",
       "      <th></th>\n",
       "      <th></th>\n",
       "    </tr>\n",
       "  </thead>\n",
       "  <tbody>\n",
       "    <tr>\n",
       "      <th rowspan=\"3\" valign=\"top\">Day 1</th>\n",
       "      <th>1</th>\n",
       "      <td>NaN</td>\n",
       "      <td>1.0</td>\n",
       "    </tr>\n",
       "    <tr>\n",
       "      <th>2</th>\n",
       "      <td>2.0</td>\n",
       "      <td>NaN</td>\n",
       "    </tr>\n",
       "    <tr>\n",
       "      <th>3</th>\n",
       "      <td>NaN</td>\n",
       "      <td>3.0</td>\n",
       "    </tr>\n",
       "    <tr>\n",
       "      <th rowspan=\"3\" valign=\"top\">Day 2</th>\n",
       "      <th>1</th>\n",
       "      <td>4.0</td>\n",
       "      <td>NaN</td>\n",
       "    </tr>\n",
       "    <tr>\n",
       "      <th>2</th>\n",
       "      <td>NaN</td>\n",
       "      <td>5.0</td>\n",
       "    </tr>\n",
       "    <tr>\n",
       "      <th>3</th>\n",
       "      <td>6.0</td>\n",
       "      <td>NaN</td>\n",
       "    </tr>\n",
       "  </tbody>\n",
       "</table>\n",
       "</div>"
      ],
      "text/plain": [
       "C          F    M\n",
       "A     B          \n",
       "Day 1 1  NaN  1.0\n",
       "      2  2.0  NaN\n",
       "      3  NaN  3.0\n",
       "Day 2 1  4.0  NaN\n",
       "      2  NaN  5.0\n",
       "      3  6.0  NaN"
      ]
     },
     "execution_count": 15,
     "metadata": {},
     "output_type": "execute_result"
    }
   ],
   "source": [
    "# Multi-level indexing allows you to store data on multiple\n",
    "# dimensions\n",
    "days = ['Day 1', 'Day 1', 'Day 1', 'Day 2', 'Day 2', 'Day 2']\n",
    "meals = [1,2,3,1,2,3]\n",
    "# zip pairs the days and meals arrays \n",
    "# Then we create a list of those paired tuples\n",
    "hier_index = list(zip(days, meals))\n",
    "print(hier_index)\n",
    "# Converts list of tuples into each row and column\n",
    "hier_index = pd.MultiIndex.from_tuples(hier_index)\n",
    "# Generate random array representing calories eaten per meal\n",
    "arr_5 = np.random.randint(500, 700, size=(6, 2))\n",
    "df_9 = pd.DataFrame(arr_5, hier_index, ['M', 'F'])\n",
    "print(df_9)\n",
    "\n",
    "# Grab the day 1 DF\n",
    "df_9.loc['Day 1']\n",
    "\n",
    "# Grab 1st row as a series\n",
    "df_9.loc['Day 1'].loc[1]\n",
    "\n",
    "# Grab calories eaten by the female on day 2 for the 2nd meal\n",
    "df_9.loc['Day 2'].loc[2]['F']\n",
    "\n",
    "# We can assign names to the Day and Meals Column\n",
    "df_9.index.names = ['Day', 'Meal']\n",
    "df_9\n",
    "\n",
    "# Get a cross section\n",
    "# This gets me the Day 2 DF\n",
    "df_9.xs('Day 2')\n",
    "\n",
    "# Get calories for the 1st meal for both days by saying what\n",
    "# meal index you want and the Meal column name\n",
    "df_9.xs(1, level='Meal')\n",
    "\n",
    "# Create a MultiIndex out of a DF using a pivot table\n",
    "dict_6 = {'A':['Day 1', 'Day 1', 'Day 1', 'Day 2', 'Day 2', 'Day 2'],\n",
    "         'B': [1,2,3,1,2,3],\n",
    "         'C': ['M', 'F', 'M', 'F', 'M', 'F'],\n",
    "         'D': [1,2,3,4,5,6]}\n",
    "df_14 = pd.DataFrame(dict_6)\n",
    "# Designate the D column is the data\n",
    "# Make A & B a multilevel index\n",
    "# Define column names come from column C\n",
    "# You will have NaNs where data was missing\n",
    "df_14.pivot_table(values='D', index=['A','B'], columns=['C'])"
   ]
  },
  {
   "cell_type": "markdown",
   "execution_count": null,
   "metadata": {
    "papermill": {
     "duration": 0.01514,
     "end_time": "2020-08-25T18:51:07.782994",
     "exception": false,
     "start_time": "2020-08-25T18:51:07.767854",
     "status": "completed"
    },
    "tags": []
   },
   "source": [
    "# <a id='HMD'>Handling Missing Data</a>\n",
    "[Go back to the main page](#main)"
   ]
  },
  {
   "cell_type": "code",
   "execution_count": 16,
   "metadata": {
    "execution": {
     "iopub.execute_input": "2020-08-25T18:51:07.845933Z",
     "iopub.status.busy": "2020-08-25T18:51:07.844916Z",
     "iopub.status.idle": "2020-08-25T18:51:07.850204Z",
     "shell.execute_reply": "2020-08-25T18:51:07.851013Z"
    },
    "papermill": {
     "duration": 0.052699,
     "end_time": "2020-08-25T18:51:07.851211",
     "exception": false,
     "start_time": "2020-08-25T18:51:07.798512",
     "status": "completed"
    },
    "tags": []
   },
   "outputs": [
    {
     "name": "stdout",
     "output_type": "stream",
     "text": [
      "     A    B    C\n",
      "0  1.0  4.0  7.0\n",
      "1  2.0  NaN  8.0\n",
      "2  NaN  NaN  9.0\n"
     ]
    },
    {
     "data": {
      "text/html": [
       "<div>\n",
       "<style scoped>\n",
       "    .dataframe tbody tr th:only-of-type {\n",
       "        vertical-align: middle;\n",
       "    }\n",
       "\n",
       "    .dataframe tbody tr th {\n",
       "        vertical-align: top;\n",
       "    }\n",
       "\n",
       "    .dataframe thead th {\n",
       "        text-align: right;\n",
       "    }\n",
       "</style>\n",
       "<table border=\"1\" class=\"dataframe\">\n",
       "  <thead>\n",
       "    <tr style=\"text-align: right;\">\n",
       "      <th></th>\n",
       "      <th>A</th>\n",
       "      <th>B</th>\n",
       "      <th>C</th>\n",
       "    </tr>\n",
       "  </thead>\n",
       "  <tbody>\n",
       "    <tr>\n",
       "      <th>0</th>\n",
       "      <td>1.0</td>\n",
       "      <td>4.0</td>\n",
       "      <td>7.0</td>\n",
       "    </tr>\n",
       "    <tr>\n",
       "      <th>1</th>\n",
       "      <td>2.0</td>\n",
       "      <td>NaN</td>\n",
       "      <td>8.0</td>\n",
       "    </tr>\n",
       "    <tr>\n",
       "      <th>2</th>\n",
       "      <td>NaN</td>\n",
       "      <td>NaN</td>\n",
       "      <td>9.0</td>\n",
       "    </tr>\n",
       "  </tbody>\n",
       "</table>\n",
       "</div>"
      ],
      "text/plain": [
       "     A    B    C\n",
       "0  1.0  4.0  7.0\n",
       "1  2.0  NaN  8.0\n",
       "2  NaN  NaN  9.0"
      ]
     },
     "execution_count": 16,
     "metadata": {},
     "output_type": "execute_result"
    }
   ],
   "source": [
    "\n",
    "dict_4 = {'A': [1,2,np.nan], 'B': [4, np.nan, np.nan], 'C': [7.,8.,9.]}\n",
    "df_10 = pd.DataFrame(dict_4)\n",
    "print(df_10)\n",
    "\n",
    "# Drop missing data from DF (Drops any row with missing values)\n",
    "df_10.dropna()\n",
    "\n",
    "# Drop all columns with any missing data\n",
    "df_10.dropna(axis=1)\n",
    "\n",
    "# Drop row unless it has at least 2 non-NaN values\n",
    "df_10.dropna(thresh=2)\n",
    "\n",
    "# Fill NaN values with 0\n",
    "df_10.fillna(value=0.0)\n",
    "\n",
    "# Fill A column with the mean of column\n",
    "df_10['A'].fillna(value=df_10['A'].mean())\n",
    "\n",
    "# Fill with previous value\n",
    "df_10.fillna(method='ffill')\n",
    "\n",
    "# Fill with next value (Only works if there is a next value)\n",
    "df_10.fillna(method='bfill')"
   ]
  },
  {
   "cell_type": "markdown",
   "execution_count": null,
   "metadata": {
    "papermill": {
     "duration": 0.015349,
     "end_time": "2020-08-25T18:51:07.882891",
     "exception": false,
     "start_time": "2020-08-25T18:51:07.867542",
     "status": "completed"
    },
    "tags": []
   },
   "source": [
    "# <a id='EWD'>Experimenting with Data</a>\n",
    "[Go back to the main page](#main)"
   ]
  },
  {
   "cell_type": "code",
   "execution_count": 17,
   "metadata": {
    "execution": {
     "iopub.execute_input": "2020-08-25T18:51:07.941103Z",
     "iopub.status.busy": "2020-08-25T18:51:07.939947Z",
     "iopub.status.idle": "2020-08-25T18:51:07.946840Z",
     "shell.execute_reply": "2020-08-25T18:51:07.945294Z"
    },
    "papermill": {
     "duration": 0.048246,
     "end_time": "2020-08-25T18:51:07.947044",
     "exception": false,
     "start_time": "2020-08-25T18:51:07.898798",
     "status": "completed"
    },
    "tags": []
   },
   "outputs": [
    {
     "name": "stdout",
     "output_type": "stream",
     "text": [
      "Index(['Sale ID', 'Contact', 'Sex', 'Age', 'State', 'Product ID',\n",
      "       'Product Type', 'Sale Price', 'Profit', 'Lead', 'Month', 'Year',\n",
      "       'First Name', 'Last Name', 'Age Group'],\n",
      "      dtype='object')\n"
     ]
    },
    {
     "data": {
      "text/plain": [
       "False    35\n",
       "True      4\n",
       "Name: Profit, dtype: int64"
      ]
     },
     "execution_count": 17,
     "metadata": {},
     "output_type": "execute_result"
    }
   ],
   "source": [
    "cs_df.head() # Get 1st 5\n",
    "print(cs_df.columns) # Get column names\n",
    "cs_df['Profit'].mean() # Average profit per item\n",
    "# Get the product with the highest profit\n",
    "cs_df[['Product ID', 'Profit']].max(axis=0).head()\n",
    "# Number of people who purchased from WV\n",
    "cs_df[cs_df['State']=='WV']['State'].count()\n",
    "# Number of purchases in 2019\n",
    "len(cs_df[cs_df['Year']==2019].index)\n",
    "# Get number of sales for each product type\n",
    "cs_df['Product ID'].value_counts()\n",
    "# Get list of customers that bought a specific product\n",
    "cs_df[cs_df['Product ID']=='M01-F0024']['Contact']\n",
    "# How many made a website purchase for a profit over $200\n",
    "cs_df[(cs_df['Lead']=='Website') & (cs_df['Profit']>150)]['Lead'].count()\n",
    "# Find out how many product profit amounts include .89 in cents\n",
    "cs_df['Profit'].apply(lambda cents: str(cents).split('.')[1]=='89').value_counts()"
   ]
  },
  {
   "cell_type": "markdown",
   "execution_count": null,
   "metadata": {
    "papermill": {
     "duration": 0.015642,
     "end_time": "2020-08-25T18:51:07.979646",
     "exception": false,
     "start_time": "2020-08-25T18:51:07.964004",
     "status": "completed"
    },
    "tags": []
   },
   "source": [
    "# <a id='V'>Visualization</a>\n",
    "[Go back to the main page](#main)"
   ]
  },
  {
   "cell_type": "code",
   "execution_count": 18,
   "metadata": {
    "execution": {
     "iopub.execute_input": "2020-08-25T18:51:08.026496Z",
     "iopub.status.busy": "2020-08-25T18:51:08.021296Z",
     "iopub.status.idle": "2020-08-25T18:51:08.367924Z",
     "shell.execute_reply": "2020-08-25T18:51:08.367208Z"
    },
    "papermill": {
     "duration": 0.3722,
     "end_time": "2020-08-25T18:51:08.368080",
     "exception": false,
     "start_time": "2020-08-25T18:51:07.995880",
     "status": "completed"
    },
    "tags": []
   },
   "outputs": [
    {
     "data": {
      "image/png": "[encoded data removed]",
      "text/plain": [
       "<Figure size 432x288 with 1 Axes>"
      ]
     },
     "metadata": {
      "needs_background": "light"
     },
     "output_type": "display_data"
    }
   ],
   "source": [
    "# Library usef to create advanced static, animated and\n",
    "# interactive visualizations\n",
    "import matplotlib.pyplot as plt\n",
    "\n",
    "# Displays matplotlib plots in the Notebook\n",
    "%matplotlib inline\n",
    "\n",
    "# Histograms provide an approximation of the distribution of\n",
    "# results. You create them by dividing the range of values into \n",
    "# bins or buckets. Then you count how many of the results fall\n",
    "# into each bin.\n",
    "# Rolls 2 dice 5000 times and charts the frequency and \n",
    "# a histogram\n",
    "\n",
    "# Even though the odds increase as you approach 7 and then\n",
    "# decrease again (1 way to roll a 2 / 6 ways to roll a 7)\n",
    "# over many rolls they are nearly equal.\n",
    "df_dice = pd.DataFrame(\n",
    "    np.random.randint(1,7,5000),\n",
    "    columns = ['Hist'])\n",
    "df_dice['Odds'] = df_dice['Hist'] + np.random.randint(1,7,5000)\n",
    "# Alpha decreases the opacity in the chart\n",
    "ax = df_dice.plot.hist(bins=12, alpha=0.5)\n",
    "\n",
    "# Basic plot using 1000 random values that create cumulative sums\n",
    "# over an increasing date range\n",
    "ser_5 = pd.Series(np.random.randn(1000),\n",
    "                 index=pd.date_range('11/15/2017', periods=1000))\n",
    "ser_5 = ser_5.cumsum()\n",
    "# ser_5.plot()\n",
    "\n",
    "# Display 3 random plots\n",
    "df_15 = pd.DataFrame(np.random.randn(1000, 3),\n",
    "                    index=pd.date_range('11/15/2017', periods=1000),\n",
    "                    columns=list('ABC'))\n",
    "df_15 = df_15.cumsum()\n",
    "# df_15.plot()\n",
    "\n",
    "# Make bar chart from 5 random values\n",
    "# pd.DataFrame(np.random.randn(5)).plot.bar()\n",
    "\n",
    "# Make MultiBar Charts\n",
    "vals = ['A', 'B', 'C', 'D']\n",
    "df_15 = pd.DataFrame(np.random.rand(10,4), columns=vals)\n",
    "# df_15.plot.bar()\n",
    "\n",
    "# Area plot \n",
    "# Define x range and y values\n",
    "x_rng = range(1,15)\n",
    "y_vals = [1,5,4,7,6,9,5,7,10,14,10,12,9,8]\n",
    "# Change fill color and opacity\n",
    "# plt.fill_between(x_rng, y_vals, color=\"skyblue\", alpha=0.5)\n",
    "# plt.show()\n",
    "\n",
    "# Area plot with multiple areas\n",
    "# pd.DataFrame(np.random.rand(10,3), columns=['A','B','C']).plot.area()\n",
    "\n",
    "# Create a scatterplot with 100 random values\n",
    "# pd.DataFrame(np.random.rand(100,2), \n",
    "#              columns=['A','B']).plot.scatter(x='A', y='B')\n",
    "\n",
    "# Multiple column scatter plots\n",
    "df_15 = pd.DataFrame(np.random.rand(50,4), columns=['A','B','C','D'])\n",
    "# ax = df_15.plot.scatter(x='A', y='B', color='DarkBlue', label='Grp 1')\n",
    "# df_15.plot.scatter(x='C', y='D', color='Orange', label='Grp 2', ax=ax)\n",
    "\n",
    "# Pie Charts with 4 random values\n",
    "# pd.Series(np.random.rand(4),\n",
    "#          index=['a','b','c','d'], \n",
    "#           name='Pie').plot.pie(figsize=(6,6))"
   ]
  },
  {
   "cell_type": "code",
   "execution_count": null,
   "metadata": {
    "papermill": {
     "duration": 0.01607,
     "end_time": "2020-08-25T18:51:08.400780",
     "exception": false,
     "start_time": "2020-08-25T18:51:08.384710",
     "status": "completed"
    },
    "tags": []
   },
   "outputs": [],
   "source": []
  }
 ],
 "metadata": {
  "kernelspec": {
   "display_name": "Python 3",
   "language": "python",
   "name": "python3"
  },
  "language_info": {
   "codemirror_mode": {
    "name": "ipython",
    "version": 3
   },
   "file_extension": ".py",
   "mimetype": "text/x-python",
   "name": "python",
   "nbconvert_exporter": "python",
   "pygments_lexer": "ipython3",
   "version": "3.7.6"
  },
  "papermill": {
   "duration": 21.087012,
   "end_time": "2020-08-25T18:51:09.473101",
   "environment_variables": {},
   "exception": null,
   "input_path": "__notebook__.ipynb",
   "output_path": "__notebook__.ipynb",
   "parameters": {},
   "start_time": "2020-08-25T18:50:48.386089",
   "version": "2.1.0"
  }
 },
 "nbformat": 4,
 "nbformat_minor": 4
}
